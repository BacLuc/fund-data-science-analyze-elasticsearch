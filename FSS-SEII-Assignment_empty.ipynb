{
 "cells": [
  {
   "cell_type": "markdown",
   "id": "dcb2a67b",
   "metadata": {},
   "source": [
    "# Fundamentals of Software Systems (FSS)\n",
    "**Software Evolution – Part 02 Assignment**\n",
    "\n",
    "## Submission Guidelines\n",
    "\n",
    "To correctly complete this assignment you must:\n",
    "* Carry out the assignment in a team of 2 to 4 students.\n",
    "* Carry out the assignment with your team only. You are allowed to discuss solutions with other teams, but each team should come up its own personal solution. A strict plagiarism policy is going to be applied to all the artifacts submitted for evaluation.\n",
    "* As your submission, upload the filled Jupyter Notebook (including outputs) together with the d3 visualization web pages (i.e. upload everything you downloaded including the filled Jupyter Notebook plus your `output.json`)\n",
    "* The files must be uploaded to OLAT as a single ZIP (`.zip`) file by Dec 12, 2022 @ 23:55.\n"
   ]
  },
  {
   "cell_type": "markdown",
   "id": "2a552ae3",
   "metadata": {},
   "source": [
    "## Group Members\n",
    "* Firstname, Lastname, Immatrikulation Number\n",
    "* Lucius, Bachmann, 11-060-274\n",
    "* Adnreas, Wiemeyer, 15-728-405"
   ]
  },
  {
   "cell_type": "markdown",
   "id": "b46791aa",
   "metadata": {},
   "source": [
    "## Task Context\n",
    "\n",
    "In this assigment we will be analyzing the _elasticsearch_ project. All following tasks should be done with the subset of commits from tag `v1.0.0` to tag `v1.1.0`.\n",
    "\n",
    "Website: https://github.com/elastic/elasticsearch\n",
    "Repository: https://github.com/elastic/elasticsearch.git"
   ]
  },
  {
   "cell_type": "code",
   "execution_count": null,
   "id": "4986ca74",
   "metadata": {},
   "outputs": [],
   "source": [
    "from enum import Enum \n",
    "\n",
    "class Modification(Enum):\n",
    "    ADDED = \"Lines added\"\n",
    "    REMOVED = \"Lines removed\"\n",
    "    TOTAL = \"Lines added + lines removed\"\n",
    "    DIFF = \"Lines added - lines removed\""
   ]
  },
  {
   "cell_type": "code",
   "execution_count": null,
   "outputs": [],
   "source": [
    "# noinspection PyUnresolvedReferences\n",
    "import os.path\n",
    "from datetime import datetime\n",
    "from os import path, mkdir\n",
    "\n",
    "# noinspection PyUnresolvedReferences\n",
    "import pandas as pd\n",
    "# noinspection PyUnresolvedReferences\n",
    "import plotly.express as px\n",
    "from pydriller import Repository, Git\n",
    "\n",
    "repo_remote_path = 'https://github.com/elastic/elasticsearch.git'\n",
    "repo_owner = 'elastic'\n",
    "repo_name = 'elasticsearch'\n",
    "repo_checkout_path = f'{repo_owner}/{repo_name}'\n",
    "\n",
    "if not path.exists(repo_owner):\n",
    "    mkdir(repo_owner)\n",
    "\n",
    "from_tag = 'v1.0.0'\n",
    "to_tag = 'v1.1.0'\n",
    "repo = Repository(repo_remote_path, clone_repo_to=repo_owner, from_tag=from_tag, to_tag=to_tag)\n",
    "# clone repo if necessary\n",
    "for commit in repo.traverse_commits():\n",
    "    break\n",
    "git = Git(repo_checkout_path)"
   ],
   "metadata": {
    "collapsed": false
   }
  },
  {
   "cell_type": "markdown",
   "id": "b1a29d1b",
   "metadata": {},
   "source": [
    "## Task 1: Author analysis\n",
    "\n",
    "In the following, please consider only `java` files.\n",
    "\n",
    "The first task is to get an overview of the author ownership of the _elasticsearch_ project. In particular, we want to understand who are the main authors in the system between the two considered tags, the authors distribution among files and the files distribution among authors. To this aim, perform the following:\n",
    "- create a dictionary (or a list of tuples) with the pairs author => number of modified files\n",
    "- create a dictionary (or a list of tuples) with the pairs file => number of authors who modified the file\n",
    "- visualize the distribution of authors among files: the visualization should have on the x axis the number of authors per file (from 1 to max), and on the y axis the number of files with the given number of authors (so for example the first bar represent the number of files with single author)\n",
    "- visualize the distribution of files among authors: the visualization should have on the x axis the number of files per author (from 1 to max), and on the y axis the number of authors who modified the given number of files (so for example the first bar represent the minor contributors, i.e., the number of authors who changed only 1 file)\n",
    "\n",
    "Comment the two distribution visualizations.\n",
    "\n",
    "\n",
    "\n",
    "Now, let's look at the following 3 packages in more detail:\n",
    "1. `src/main/java/org/elasticsearch/search`\n",
    "2. `src/main/java/org/elasticsearch/index`\n",
    "3. `src/main/java/org/elasticsearch/action`\n",
    "\n",
    "Create a function that, given the path of a package and a modification type (see class Modification above), returns a dictionary of authors => number, where the number counts the total lines added or removed or added+removed or added-removed (depending on the given Modification parameter), for the given package. To compute the value at the package level, you should aggregate the data per file.\n",
    "\n",
    "Using the function defined above, visualize the author contributions (lines added + lines removed). The visualization should have the author on the x axis, and the total lines on the y axis. Sort the visualization in decreasing amount of contributions, i.e., the main author should be the first.\n",
    "\n",
    "Compare the visualization for the 3 packages and comment."
   ]
  },
  {
   "cell_type": "markdown",
   "source": [
    "Count the number of authors per file and the number of files per author."
   ],
   "metadata": {
    "collapsed": false
   }
  },
  {
   "cell_type": "code",
   "execution_count": null,
   "id": "a447987a",
   "metadata": {},
   "outputs": [],
   "source": [
    "from pandas import DataFrame\n",
    "from typing import Set\n",
    "\n",
    "repo = Repository(repo_checkout_path, from_tag=from_tag, to_tag=to_tag)\n",
    "\n",
    "files_to_authors : {str, Set[str]} = {}\n",
    "authors_to_files : {str, Set[str]} = {}\n",
    "\n",
    "for commit in repo.traverse_commits():\n",
    "    author_identifier = commit.author.name\n",
    "    authors_to_files.setdefault(author_identifier, set())\n",
    "    for file in commit.modified_files:\n",
    "        if file.new_path is not None:\n",
    "            files_to_authors.setdefault(file.new_path, set())\n",
    "            files_to_authors[file.new_path].add(author_identifier)\n",
    "            authors_to_files[author_identifier].add(file.new_path)"
   ]
  },
  {
   "cell_type": "markdown",
   "source": [
    "Visualize Nr of authors per file:"
   ],
   "metadata": {
    "collapsed": false
   }
  },
  {
   "cell_type": "code",
   "execution_count": null,
   "outputs": [],
   "source": [
    "file_author_count = {(k, len(authors)) for k, authors in files_to_authors.items()}\n",
    "col_name_author = 'File'\n",
    "col_name_nr_of_authors = 'Nr of authors'\n",
    "df_file_author_count = DataFrame(file_author_count, columns=[col_name_author, col_name_nr_of_authors])\n",
    "df_file_author_count_sorted = df_file_author_count.sort_values(by=[col_name_nr_of_authors], ascending=False)"
   ],
   "metadata": {
    "collapsed": false
   }
  },
  {
   "cell_type": "markdown",
   "source": [
    "The 20 files with the most authors:"
   ],
   "metadata": {
    "collapsed": false
   }
  },
  {
   "cell_type": "code",
   "execution_count": null,
   "outputs": [],
   "source": [
    "display(df_file_author_count_sorted[:20])"
   ],
   "metadata": {
    "collapsed": false
   }
  },
  {
   "cell_type": "markdown",
   "source": [
    "Distribution of author count per file:"
   ],
   "metadata": {
    "collapsed": false
   }
  },
  {
   "cell_type": "code",
   "execution_count": null,
   "outputs": [],
   "source": [
    "hist_author_count = px.histogram(df_file_author_count_sorted, x=col_name_nr_of_authors)\n",
    "hist_author_count.show()\n",
    "hist_author_log_count = px.histogram(df_file_author_count_sorted, x=col_name_nr_of_authors, log_y=True)\n",
    "hist_author_log_count.show()"
   ],
   "metadata": {
    "collapsed": false
   }
  },
  {
   "cell_type": "markdown",
   "source": [
    "As we can see in a lot of projects, there are certain files which are touched by a lot of authors, but most files are touched by a single author.\n",
    "The file with the most authors is the pom.xml, where the project configuration is stored.\n",
    "There every developer has to change the file if e.g. a dependency is added, removed or updated.\n",
    "Then follow some tests with 8 or 7 coauthors, and then we are already at a moderate 7, but only between 2 minor releases."
   ],
   "metadata": {
    "collapsed": false
   }
  },
  {
   "cell_type": "markdown",
   "source": [
    "Visualise Nr of files per author:"
   ],
   "metadata": {
    "collapsed": false
   }
  },
  {
   "cell_type": "code",
   "execution_count": null,
   "outputs": [],
   "source": [
    "author_file_count = {(k, len(files)) for k, files in authors_to_files.items()}\n",
    "col_name_author = 'Author'\n",
    "col_name_nr_of_files = 'Nr of files'\n",
    "df_author_file_count = DataFrame(author_file_count, columns=[col_name_author, col_name_nr_of_files])\n",
    "df_author_file_count_sorted = df_author_file_count.sort_values(by=[col_name_nr_of_files], ascending=False)"
   ],
   "metadata": {
    "collapsed": false
   }
  },
  {
   "cell_type": "markdown",
   "source": [
    "The 20 authors which changed the most files:"
   ],
   "metadata": {
    "collapsed": false
   }
  },
  {
   "cell_type": "code",
   "execution_count": null,
   "outputs": [],
   "source": [
    "display(df_author_file_count_sorted[:20])"
   ],
   "metadata": {
    "collapsed": false
   }
  },
  {
   "cell_type": "markdown",
   "source": [
    "Distribution of files modified per author:"
   ],
   "metadata": {
    "collapsed": false
   }
  },
  {
   "cell_type": "code",
   "execution_count": null,
   "outputs": [],
   "source": [
    "hist_author_count = px.histogram(df_author_file_count_sorted, x=col_name_nr_of_files)\n",
    "hist_author_count.show()"
   ],
   "metadata": {
    "collapsed": false
   }
  },
  {
   "cell_type": "markdown",
   "source": [
    "Most of the people only change a few files, as has been seen in other open source projects.\n",
    "There are some main contributes which changed more than 20 files."
   ],
   "metadata": {
    "collapsed": false
   }
  },
  {
   "cell_type": "markdown",
   "source": [
    "\n",
    "Now, let's look at the following 3 packages in more detail:\n",
    "1. `src/main/java/org/elasticsearch/search`\n",
    "2. `src/main/java/org/elasticsearch/index`\n",
    "3. `src/main/java/org/elasticsearch/action`\n",
    "\n",
    "Create a function that, given the path of a package and a modification type (see class Modification above), returns a dictionary of authors => number, where the number counts the total lines added or removed or added+removed or added-removed (depending on the given Modification parameter), for the given package. To compute the value at the package level, you should aggregate the data per file.\n",
    "\n",
    "Using the function defined above, visualize the author contributions (lines added + lines removed). The visualization should have the author on the x axis, and the total lines on the y axis. Sort the visualization in decreasing amount of contributions, i.e., the main author should be the first.\n",
    "\n",
    "Compare the visualization for the 3 packages and comment."
   ],
   "metadata": {
    "collapsed": false
   }
  },
  {
   "cell_type": "code",
   "execution_count": null,
   "outputs": [],
   "source": [
    "from typing import Dict\n",
    "\n",
    "\n",
    "AuthorChurnDict = Dict[str, Dict[Modification, int]]\n",
    "\n",
    "# noinspection PyShadowingNames\n",
    "def author_churn_of_path(path: str, from_tag: str = from_tag, to_tag: str = to_tag) -> AuthorChurnDict:\n",
    "    modifications: AuthorChurnDict = {}\n",
    "    repo = Repository(path_to_repo=repo_checkout_path, from_tag=from_tag, to_tag=to_tag)\n",
    "    for commit in repo.traverse_commits():\n",
    "        author_identifier = commit.author.name\n",
    "        modifications.setdefault(author_identifier, dict([(mod_type, 0) for mod_type in Modification]))\n",
    "        for file in commit.modified_files:\n",
    "            if file.new_path is None:\n",
    "                continue\n",
    "            if not file.new_path.__contains__(path):\n",
    "                continue\n",
    "            modifications[author_identifier][Modification.ADDED] += file.added_lines\n",
    "            modifications[author_identifier][Modification.REMOVED] += file.deleted_lines\n",
    "            modifications[author_identifier][Modification.TOTAL] += file.added_lines + file.deleted_lines\n",
    "            modifications[author_identifier][Modification.DIFF] += file.added_lines - file.deleted_lines\n",
    "\n",
    "    return modifications\n",
    "\n",
    "display([(k, v) for k, v in author_churn_of_path('src/main/java/org/elasticsearch/search').items()][:20])\n",
    "\n",
    "\n",
    "# noinspection PyShadowingBuiltins\n",
    "def sorted_df_of_dict(\n",
    "        dict: AuthorChurnDict,\n",
    "        col_name_x: str,\n",
    "        col_name_y: str,\n",
    "        mod_type=Modification.TOTAL,\n",
    ") -> DataFrame:\n",
    "    search_churn_table = [(author, churnDict[mod_type]) for author, churnDict in\n",
    "                          dict.items()]\n",
    "    df_search_churn_table = DataFrame(search_churn_table, columns=[col_name_x, col_name_y])\n",
    "    return df_search_churn_table.sort_values(by=[col_name_y], ascending=False)"
   ],
   "metadata": {
    "collapsed": false
   }
  },
  {
   "cell_type": "markdown",
   "source": [
    "Most active authors for path: `src/main/java/org/elasticsearch/search`"
   ],
   "metadata": {
    "collapsed": false
   }
  },
  {
   "cell_type": "code",
   "execution_count": null,
   "outputs": [],
   "source": [
    "search_author_churn_of_path = author_churn_of_path('src/main/java/org/elasticsearch/search')\n",
    "col_name_total = 'Lines added + removed'\n",
    "data_frame = sorted_df_of_dict(search_author_churn_of_path, col_name_x=col_name_author, col_name_y=col_name_total)\n",
    "hist_author_count = px.histogram(data_frame, x=col_name_author, y=col_name_total)\n",
    "hist_author_count.show()"
   ],
   "metadata": {
    "collapsed": false
   }
  },
  {
   "cell_type": "markdown",
   "source": [
    "Most active authors for path: `src/main/java/org/elasticsearch/index`"
   ],
   "metadata": {
    "collapsed": false
   }
  },
  {
   "cell_type": "code",
   "execution_count": null,
   "outputs": [],
   "source": [
    "search_author_churn_of_path = author_churn_of_path('src/main/java/org/elasticsearch/index')\n",
    "col_name_total = 'Lines added + removed'\n",
    "data_frame = sorted_df_of_dict(search_author_churn_of_path, col_name_x=col_name_author, col_name_y=col_name_total)\n",
    "hist_author_count = px.histogram(data_frame, x=col_name_author, y=col_name_total)\n",
    "hist_author_count.show()"
   ],
   "metadata": {
    "collapsed": false
   }
  },
  {
   "cell_type": "markdown",
   "source": [
    "Most active authors for path: `src/main/java/org/elasticsearch/action`"
   ],
   "metadata": {
    "collapsed": false
   }
  },
  {
   "cell_type": "code",
   "execution_count": null,
   "outputs": [],
   "source": [
    "search_author_churn_of_path = author_churn_of_path('src/main/java/org/elasticsearch/action')\n",
    "col_name_total = 'Lines added + removed'\n",
    "data_frame = sorted_df_of_dict(search_author_churn_of_path, col_name_x=col_name_author, col_name_y=col_name_total)\n",
    "hist_author_count = px.histogram(data_frame, x=col_name_author, y=col_name_total)\n",
    "hist_author_count.show()"
   ],
   "metadata": {
    "collapsed": false
   }
  },
  {
   "cell_type": "markdown",
   "source": [],
   "metadata": {
    "collapsed": false
   }
  },
  {
   "cell_type": "markdown",
   "id": "ff9eee63",
   "metadata": {},
   "source": [
    "## Task 2: Knowledge loss\n",
    "\n",
    "We now want to analyze the knowledge loss when the main contributor of the analyzed project would leave. For this we will use the circle packaging layout introduced in the \"Code as a Crime Scene\" book. It should show how much of each file was written by the main contributor of _elasticsearch_ (according to the analysis above using `Modification.TOTAL`) and indicate which areas would be affected most when this contributor leaves the project. This assignment includes the necessary `knowledge_loss.html` file as well as the `d3` folder with the d3 dependencies. Your task is to create the `output.json` file according to the specification below. This file can then be visualized with the files provided.\n",
    "\n",
    "For showing the visualization, once you have the output as `output.json` you should\n",
    "* make sure to have the `knowledge_loss.html` file in the same folder\n",
    "* start a local HTTP server in the same folder (e.g. with python `python3 -m http.server`, serving necessary for d3)\n",
    "* open the served `knowledge_loss.html` and look at the visualization\n",
    "\n",
    "For testing, you can use the provided `output.json` and should see a circle packaging layout with two circles, one big red, and one small white-red.\n",
    "\n",
    "For the package you identify as the worst in terms of knowledge loss, investigate the author contributions using the function defined in the previous exercise and comment how the situation is, e.g. how big the gap between the main author and the second biggest contributor for the selected package is."
   ]
  },
  {
   "cell_type": "code",
   "execution_count": null,
   "outputs": [],
   "source": [
    "def handle_paths(old_path, new_path):\n",
    "    if (not old_path) or (old_path not in knowledge_loss):\n",
    "        knowledge_loss[new_path] = {'total churn': 0, 'author churn': 0}\n",
    "    elif new_path != old_path:\n",
    "        knowledge_loss[new_path] = knowledge_loss.pop(old_path)"
   ],
   "metadata": {
    "collapsed": false
   }
  },
  {
   "cell_type": "code",
   "execution_count": null,
   "outputs": [],
   "source": [
    "main_author = 'javanna'\n",
    "knowledge_loss = {}\n",
    "\n",
    "for commit in reversed(list(repo.traverse_commits())):\n",
    "    author = commit.author.name\n",
    "\n",
    "    for file in commit.modified_files:\n",
    "        #handle deleted files\n",
    "        if not file.new_path:\n",
    "            if file.old_path in knowledge_loss:\n",
    "                del knowledge_loss[file.old_path]\n",
    "\n",
    "        #increment churn for files that continue to exist\n",
    "        elif file.new_path.endswith(\".java\"):\n",
    "            handle_paths(file.old_path, file.new_path)\n",
    "            knowledge_loss[file.new_path]['total churn'] += file.added_lines+file.deleted_lines\n",
    "            if author == main_author:\n",
    "                knowledge_loss[file.new_path]['author churn'] += file.added_lines+file.deleted_lines"
   ],
   "metadata": {
    "collapsed": false
   }
  },
  {
   "cell_type": "code",
   "execution_count": null,
   "outputs": [],
   "source": [
    "knowledge_loss.keys()"
   ],
   "metadata": {
    "collapsed": false
   }
  },
  {
   "cell_type": "code",
   "execution_count": null,
   "outputs": [],
   "source": [
    "def build_tree(prefix, consumed_dict, output_dict):\n",
    "    subtrees = {}\n",
    "\n",
    "    for key in consumed_dict:\n",
    "        path = prefix+key\n",
    "        folder_list = key.split(\"/\")\n",
    "        next_folder = folder_list[0]\n",
    "        print(next_folder)\n",
    "\n",
    "        #BASE CASE\n",
    "        if len(folder_list)==1:\n",
    "            leaf = {\n",
    "                \"author_color\": \"red\",\n",
    "                \"size\": knowledge_loss[path][\"total churn\"],\n",
    "                \"name\": key,#next_folder,\n",
    "                \"weight\": knowledge_loss[path][\"total churn\"],\n",
    "                \"ownership\": knowledge_loss[path][\"author churn\"]/knowledge_loss[path][\"total churn\"],\n",
    "                \"children\": []\n",
    "                }\n",
    "            output_dict[\"children\"].append(leaf)\n",
    "\n",
    "        else:\n",
    "            new_prefix = prefix+next_folder+'/'\n",
    "            new_path = \"/\".join(folder_list[1:])\n",
    "            new_entry = knowledge_loss[path]\n",
    "            print(new_prefix)\n",
    "            print(new_path)\n",
    "            print(new_entry)\n",
    "            if new_prefix in subtrees:\n",
    "                subtrees[new_prefix][new_path] = new_entry\n",
    "            else:\n",
    "                subtrees[new_prefix] = {new_path: new_entry}\n",
    "\n",
    "    #RECURSION\n",
    "    for prefix in subtrees:\n",
    "        branch = {\n",
    "            \"name\": prefix,#.split('/')[-1],\n",
    "            \"children\": []\n",
    "        }\n",
    "        output_dict[\"children\"].append(branch)\n",
    "        build_tree(prefix, subtrees[prefix], branch)"
   ],
   "metadata": {
    "collapsed": false
   }
  },
  {
   "cell_type": "code",
   "execution_count": null,
   "outputs": [],
   "source": [
    "base = {\"name\": \"root\",\n",
    "        \"children\": []\n",
    "        }\n",
    "build_tree(\"\", knowledge_loss, base)"
   ],
   "metadata": {
    "collapsed": false
   }
  },
  {
   "cell_type": "markdown",
   "id": "186eb566",
   "metadata": {},
   "source": [
    "### Output Format for Visualization\n",
    "\n",
    "Example:\n",
    "\n",
    "* `root` is always the root of the tree\n",
    "* `size` should be the total number of lines of contribution\n",
    "* `weight` can be set to the same as `size`\n",
    "* `ownership` should be set to the percentage of contributions from the main author (e.g. 0.98 for 98% if contributions coming from the main author)\n",
    "\n",
    "```\n",
    "{\n",
    "  \"name\": \"root\",\n",
    "  \"children\": [\n",
    "    {\n",
    "      \"name\": \"test\",\n",
    "      \"children\": [\n",
    "        {\n",
    "          \"name\": \"benchmarking\",\n",
    "          \"children\": [\n",
    "            {\n",
    "              \"author_color\": \"red\",\n",
    "              \"size\": \"4005\",\n",
    "              \"name\": \"t6726-patmat-analysis.scala\",\n",
    "              \"weight\": 1.0,\n",
    "              \"ownership\": 0.9,\n",
    "              \"children\": []\n",
    "            },\n",
    "            {\n",
    "              \"author_color\": \"red\",\n",
    "              \"size\": \"55\",\n",
    "              \"name\": \"TreeSetIterator.scala\",\n",
    "              \"weight\": 0.88,\n",
    "              \"ownership\": 0.2,\n",
    "              \"children\": []\n",
    "            }\n",
    "          ]\n",
    "        }\n",
    "      ]\n",
    "    }\n",
    "  ]\n",
    "}\n",
    "```\n",
    "\n",
    "### JSON Export\n",
    "\n",
    "For exporting the data to JSON you can use the following snippet:\n",
    "\n",
    "```\n",
    "import json\n",
    "\n",
    "with open(\"output.json\", \"w\") as file:\n",
    "    json.dump(tree, file, indent=4)\n",
    "```"
   ]
  },
  {
   "cell_type": "code",
   "execution_count": null,
   "id": "9d6a1e1d",
   "metadata": {},
   "outputs": [],
   "source": [
    "import json\n",
    "from IPython.display import HTML, Javascript\n"
   ]
  },
  {
   "cell_type": "code",
   "execution_count": null,
   "metadata": {},
   "outputs": [],
   "source": [
    "json_output = base\n",
    "try:\n",
    "    # noinspection PyUnresolvedReferences,PyUnboundLocalVariable\n",
    "    json_output\n",
    "except NameError:\n",
    "    json_output = {\n",
    "        \"name\": \"root\",\n",
    "        \"children\": [\n",
    "            {\n",
    "                \"name\": \"test\",\n",
    "                \"children\": [\n",
    "                    {\n",
    "                        \"name\": \"benchmarking\",\n",
    "                        \"children\": [\n",
    "                            {\n",
    "                                \"author_color\": \"red\",\n",
    "                                \"size\": \"4005\",\n",
    "                                \"name\": \"t6726-patmat-analysis.scala\",\n",
    "                                \"weight\": 1.0,\n",
    "                                \"ownership\": 0.9,\n",
    "                                \"children\": []\n",
    "                            },\n",
    "                            {\n",
    "                                \"author_color\": \"red\",\n",
    "                                \"size\": \"55\",\n",
    "                                \"name\": \"TreeSetIterator.scala\",\n",
    "                                \"weight\": 0.88,\n",
    "                                \"ownership\": 0.2,\n",
    "                                \"children\": []\n",
    "                            }\n",
    "                        ]\n",
    "                    }\n",
    "                ]\n",
    "            }\n",
    "        ]\n",
    "    }\n",
    "\n",
    "\n",
    "# noinspection PyUnboundLocalVariable\n",
    "Javascript(\n",
    "    f\"\"\"\n",
    "    window.json = {json.dumps(json_output)}\n",
    "    \"\"\"\n",
    ")"
   ]
  },
  {
   "cell_type": "markdown",
   "metadata": {},
   "source": [
    "Add target div to render to.\n",
    "\n",
    "This shows the ownership of the main contributor javanna."
   ]
  },
  {
   "cell_type": "code",
   "execution_count": null,
   "metadata": {
    "scrolled": false
   },
   "outputs": [],
   "source": [
    "HTML('<div class=\"knowledge-loss-map\"></div>')"
   ]
  },
  {
   "cell_type": "code",
   "execution_count": null,
   "metadata": {},
   "outputs": [],
   "source": [
    "Javascript(filename='knowledge-map.js', css='knowledge-map.css')"
   ]
  },
  {
   "cell_type": "markdown",
   "id": "6fe260b7",
   "metadata": {},
   "source": [
    "## Task 3: Code Churn Analysis\n",
    "\n",
    "The third and last task is to analyze the code churn of the _elasticsearch_ project. For this analysis we look at the code churn, meaning the daily change in the total number of lines of the project. Visualize the code churn over time bucketing the data by day. Remember that you'll need to fill the gaps for days when there are no commits. Chose a filling strategy and justify it.\n",
    "\n",
    "Look at the churn trend over time and identify two outliers. For each of them:\n",
    "- identify if it was caused by a single or multiple commits (since you are bucketing the data by day)\n",
    "- find the hash of the involved commit(s)\n",
    "- find the involved files\n",
    "- look at the actual diff\n",
    "\n",
    "Based on the above, discuss if the outlier is a false positive or should be a reason for concern."
   ]
  },
  {
   "cell_type": "code",
   "execution_count": null,
   "id": "be3fd5d8",
   "metadata": {},
   "outputs": [],
   "source": [
    "date_to_churn = {}\n",
    "\n",
    "for commit in repo.traverse_commits():\n",
    "    date = commit.committer_date.date()\n",
    "    if date in date_to_churn:\n",
    "        date_to_churn[date][\"lines added\"] += commit.insertions\n",
    "        date_to_churn[date][\"lines deleted\"] += commit.deletions\n",
    "        date_to_churn[date][\"hashes\"].append(commit.hash)\n",
    "        date_to_churn[date][\"messages\"].append(commit.msg)\n",
    "    else:\n",
    "        date_to_churn[date] = {\"lines added\":commit.insertions,\n",
    "                               \"lines deleted\":commit.deletions,\n",
    "                               \"hashes\":[commit.hash],\n",
    "                               \"messages\":[commit.msg]}\n",
    "\n"
   ]
  },
  {
   "cell_type": "markdown",
   "source": [
    "I choose to add zeros to fill the gaps, because if there are no commits, it means that the amount of lines could not have changed."
   ],
   "metadata": {
    "collapsed": false
   }
  },
  {
   "cell_type": "code",
   "execution_count": null,
   "outputs": [],
   "source": [
    "min_date = min(date_to_churn.keys())\n",
    "max_date = max(date_to_churn.keys())\n",
    "date_list = [entry.date() for entry in pd.date_range(min_date, max_date)]\n",
    "for date in date_list:\n",
    "    if date not in date_to_churn:\n",
    "        date_to_churn[date] = {\"lines added\":0,\n",
    "                               \"lines deleted\":0,\n",
    "                               \"hashes\":[],\n",
    "                               \"messages\":[]}"
   ],
   "metadata": {
    "collapsed": false
   }
  },
  {
   "cell_type": "code",
   "execution_count": null,
   "outputs": [],
   "source": [
    "from bokeh.io.output import output_notebook\n",
    "from bokeh.layouts import column\n",
    "from bokeh.models import ColumnDataSource, RangeTool\n",
    "from bokeh.models.tools import HoverTool\n",
    "from bokeh.plotting import figure, show\n",
    "import numpy as np\n",
    "\n",
    "output_notebook()\n",
    "\n",
    "items = list(date_to_churn.items())\n",
    "items.sort(key=lambda t: t[0])\n",
    "dates = [datetime.combine(item[0], datetime.min.time()) for item in items]\n",
    "\n",
    "source = ColumnDataSource(data=dict(\n",
    "    date=dates,\n",
    "    added=[item[1]['lines added'] for item in items],\n",
    "    deleted=[item[1]['lines deleted'] for item in items],\n",
    "    hashes=[len(item[1]['hashes']) for item in items],#[item[1]['hashes'] for item in items], TODO\n",
    "    ))\n",
    "\n",
    "p = figure(height=300, width=800, tools=\"xpan\", toolbar_location=None,\n",
    "           x_axis_type=\"datetime\", x_axis_location=\"above\",\n",
    "           x_range=(dates[0], dates[int(len(dates)/4)]))\n",
    "\n",
    "p.line('date', 'added', source=source, color='green', legend_label='added lines')\n",
    "p.line('date', 'deleted', source=source, color='red', legend_label='deleted lines')\n",
    "p.yaxis.axis_label = 'lines of change'\n",
    "p.legend.location = \"top_right\"\n",
    "p.add_tools(HoverTool(tooltips=[\n",
    "            ('date', '@date{%F}'),\n",
    "            ('added', '@added'),\n",
    "            ('deleted', '@deleted'),\n",
    "            ('amount of commits', '@hashes')\n",
    "            ],\n",
    "            formatters={\n",
    "            '@date'        : 'datetime',\n",
    "            #'@hashes'      : 'printf',# use 'datetime' formatter for '@date' field\n",
    "            }))\n",
    "\n",
    "select = figure(height=130, width=800, y_range=p.y_range,\n",
    "                x_axis_type=\"datetime\", y_axis_type=None,\n",
    "                tools=\"\", toolbar_location=None)\n",
    "\n",
    "range_tool = RangeTool(x_range=p.x_range)\n",
    "\n",
    "select.line('date', 'added', source=source, color='green')\n",
    "select.line('date', 'deleted', source=source, color='red')\n",
    "\n",
    "select.add_tools(range_tool)\n",
    "select.toolbar.active_multi = range_tool\n",
    "\n",
    "show(column(p, select))"
   ],
   "metadata": {
    "collapsed": false
   }
  },
  {
   "cell_type": "code",
   "execution_count": null,
   "outputs": [],
   "source": [
    "def commits_on(date):\n",
    "    hashes = date_to_churn[date]['hashes']\n",
    "\n",
    "    commits = []\n",
    "    for commit in repo.traverse_commits():\n",
    "        if commit.hash in hashes:\n",
    "            commits.append(commit)\n",
    "    return commits\n",
    "\n",
    "def date_overview(date):\n",
    "    print(date)\n",
    "    for commit in commits_on(date):\n",
    "        print_commit_overview(commit)\n",
    "\n",
    "def print_commit_overview(commit):\n",
    "    print(\"\\nhash:\", commit.hash)\n",
    "    print(\"msg:\", commit.msg)\n",
    "    for file in commit.modified_files:\n",
    "        print(f\"+{file.added_lines}   \\t-{file.deleted_lines}   \\t{file.new_path if file.new_path else 'del '+file.old_path}\")\n",
    "\n",
    "def print_diff(diff):\n",
    "    for code_line in diff.split('\\n'):\n",
    "        print(code_line)"
   ],
   "metadata": {
    "collapsed": false
   }
  },
  {
   "cell_type": "code",
   "execution_count": null,
   "outputs": [],
   "source": [
    "analysed_dates_tuples = [(2014, 3, 13), (2014, 2, 26)]\n",
    "analysed_dates = [datetime(*tuple).date() for tuple in analysed_dates_tuples]"
   ],
   "metadata": {
    "collapsed": false
   }
  },
  {
   "cell_type": "code",
   "execution_count": null,
   "outputs": [],
   "source": [
    "date_overview(analysed_dates[0])"
   ],
   "metadata": {
    "collapsed": false
   }
  },
  {
   "cell_type": "markdown",
   "source": [
    "The first code churn outlier on 2014-02-26 contains a huge amount of changes, which are non-trivial. So it is indeed a problematic outlier."
   ],
   "metadata": {
    "collapsed": false
   }
  },
  {
   "cell_type": "code",
   "execution_count": null,
   "outputs": [],
   "source": [
    "date_overview(analysed_dates[1])"
   ],
   "metadata": {
    "collapsed": false
   }
  },
  {
   "cell_type": "markdown",
   "source": [
    "The second code churn outlier on 2014-02-26 also contains a huge amount of changes, which are non-trivial. So it is indeed a problematic outlier."
   ],
   "metadata": {
    "collapsed": false
   }
  },
  {
   "cell_type": "code",
   "execution_count": null,
   "outputs": [],
   "source": [],
   "metadata": {
    "collapsed": false
   }
  }
 ],
 "metadata": {
  "kernelspec": {
   "display_name": "Python3",
   "language": "python",
   "name": "python3"
  },
  "language_info": {
   "codemirror_mode": {
    "name": "ipython",
    "version": 3
   },
   "file_extension": ".py",
   "mimetype": "text/x-python",
   "name": "python",
   "nbconvert_exporter": "python",
   "pygments_lexer": "ipython3",
   "version": "3.9.13"
  }
 },
 "nbformat": 4,
 "nbformat_minor": 5
}
