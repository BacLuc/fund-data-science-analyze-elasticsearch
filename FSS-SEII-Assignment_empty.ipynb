{
 "cells": [
  {
   "cell_type": "markdown",
   "id": "dcb2a67b",
   "metadata": {},
   "source": [
    "# Fundamentals of Software Systems (FSS)\n",
    "**Software Evolution – Part 02 Assignment**\n",
    "\n",
    "## Submission Guidelines\n",
    "\n",
    "To correctly complete this assignment you must:\n",
    "* Carry out the assignment in a team of 2 to 4 students.\n",
    "* Carry out the assignment with your team only. You are allowed to discuss solutions with other teams, but each team should come up its own personal solution. A strict plagiarism policy is going to be applied to all the artifacts submitted for evaluation.\n",
    "* As your submission, upload the filled Jupyter Notebook (including outputs) together with the d3 visualization web pages (i.e. upload everything you downloaded including the filled Jupyter Notebook plus your `output.json`)\n",
    "* The files must be uploaded to OLAT as a single ZIP (`.zip`) file by Dec 12, 2022 @ 23:55.\n"
   ]
  },
  {
   "cell_type": "markdown",
   "id": "2a552ae3",
   "metadata": {},
   "source": [
    "## Group Members\n",
    "* Firstname, Lastname, Immatrikulation Number\n",
    "* Lucius, Bachmann, 11-060-274\n",
    "* Adnreas, Wiemeyer, 15-728-405"
   ]
  },
  {
   "cell_type": "markdown",
   "id": "b46791aa",
   "metadata": {},
   "source": [
    "## Task Context\n",
    "\n",
    "In this assigment we will be analyzing the _elasticsearch_ project. All following tasks should be done with the subset of commits from tag `v1.0.0` to tag `v1.1.0`.\n",
    "\n",
    "Website: https://github.com/elastic/elasticsearch\n",
    "Repository: https://github.com/elastic/elasticsearch.git"
   ]
  },
  {
   "cell_type": "code",
   "execution_count": null,
   "id": "4986ca74",
   "metadata": {},
   "outputs": [],
   "source": [
    "from enum import Enum \n",
    "\n",
    "class Modification(Enum):\n",
    "    ADDED = \"Lines added\"\n",
    "    REMOVED = \"Lines removed\"\n",
    "    TOTAL = \"Lines added + lines removed\"\n",
    "    DIFF = \"Lines added - lines removed\""
   ]
  },
  {
   "cell_type": "code",
   "execution_count": null,
   "outputs": [],
   "source": [
    "# noinspection PyUnresolvedReferences\n",
    "import os.path\n",
    "from datetime import datetime\n",
    "from os import path, mkdir\n",
    "\n",
    "# noinspection PyUnresolvedReferences\n",
    "import pandas as pd\n",
    "# noinspection PyUnresolvedReferences\n",
    "import plotly.express as px\n",
    "from pydriller import Repository, Git\n",
    "\n",
    "repo_remote_path = 'https://github.com/elastic/elasticsearch.git'\n",
    "repo_owner = 'elastic'\n",
    "repo_name = 'elasticsearch'\n",
    "repo_checkout_path = f'{repo_owner}/{repo_name}'\n",
    "\n",
    "if not path.exists(repo_owner):\n",
    "    mkdir(repo_owner)\n",
    "\n",
    "from_tag = 'v1.0.0'\n",
    "to_tag = 'v1.1.0'\n",
    "repo = Repository(repo_remote_path, clone_repo_to=repo_owner, from_tag=from_tag, to_tag=to_tag)\n",
    "# clone repo if necessary\n",
    "for commit in repo.traverse_commits():\n",
    "    break\n",
    "git = Git(repo_checkout_path)"
   ],
   "metadata": {
    "collapsed": false
   }
  },
  {
   "cell_type": "markdown",
   "id": "b1a29d1b",
   "metadata": {},
   "source": [
    "## Task 1: Author analysis\n",
    "\n",
    "In the following, please consider only `java` files.\n",
    "\n",
    "The first task is to get an overview of the author ownership of the _elasticsearch_ project. In particular, we want to understand who are the main authors in the system between the two considered tags, the authors distribution among files and the files distribution among authors. To this aim, perform the following:\n",
    "- create a dictionary (or a list of tuples) with the pairs author => number of modified files\n",
    "- create a dictionary (or a list of tuples) with the pairs file => number of authors who modified the file\n",
    "- visualize the distribution of authors among files: the visualization should have on the x axis the number of authors per file (from 1 to max), and on the y axis the number of files with the given number of authors (so for example the first bar represent the number of files with single author)\n",
    "- visualize the distribution of files among authors: the visualization should have on the x axis the number of files per author (from 1 to max), and on the y axis the number of authors who modified the given number of files (so for example the first bar represent the minor contributors, i.e., the number of authors who changed only 1 file)\n",
    "\n",
    "Comment the two distribution visualizations.\n",
    "\n",
    "\n",
    "\n",
    "Now, let's look at the following 3 packages in more detail:\n",
    "1. `src/main/java/org/elasticsearch/search`\n",
    "2. `src/main/java/org/elasticsearch/index`\n",
    "3. `src/main/java/org/elasticsearch/action`\n",
    "\n",
    "Create a function that, given the path of a package and a modification type (see class Modification above), returns a dictionary of authors => number, where the number counts the total lines added or removed or added+removed or added-removed (depending on the given Modification parameter), for the given package. To compute the value at the package level, you should aggregate the data per file.\n",
    "\n",
    "Using the function defined above, visualize the author contributions (lines added + lines removed). The visualization should have the author on the x axis, and the total lines on the y axis. Sort the visualization in decreasing amount of contributions, i.e., the main author should be the first.\n",
    "\n",
    "Compare the visualization for the 3 packages and comment."
   ]
  },
  {
   "cell_type": "code",
   "execution_count": null,
   "id": "a447987a",
   "metadata": {},
   "outputs": [],
   "source": []
  },
  {
   "cell_type": "markdown",
   "id": "ff9eee63",
   "metadata": {},
   "source": [
    "## Task 2: Knowledge loss\n",
    "\n",
    "We now want to analyze the knowledge loss when the main contributor of the analyzed project would leave. For this we will use the circle packaging layout introduced in the \"Code as a Crime Scene\" book. It should show how much of each file was written by the main contributor of _elasticsearch_ (according to the analysis above using `Modification.TOTAL`) and indicate which areas would be affected most when this contributor leaves the project. This assignment includes the necessary `knowledge_loss.html` file as well as the `d3` folder with the d3 dependencies. Your task is to create the `output.json` file according to the specification below. This file can then be visualized with the files provided.\n",
    "\n",
    "For showing the visualization, once you have the output as `output.json` you should\n",
    "* make sure to have the `knowledge_loss.html` file in the same folder\n",
    "* start a local HTTP server in the same folder (e.g. with python `python3 -m http.server`, serving necessary for d3)\n",
    "* open the served `knowledge_loss.html` and look at the visualization\n",
    "\n",
    "For testing, you can use the provided `output.json` and should see a circle packaging layout with two circles, one big red, and one small white-red.\n",
    "\n",
    "For the package you identify as the worst in terms of knowledge loss, investigate the author contributions using the function defined in the previous exercise and comment how the situation is, e.g. how big the gap between the main author and the second biggest contributor for the selected package is."
   ]
  },
  {
   "cell_type": "markdown",
   "id": "186eb566",
   "metadata": {},
   "source": [
    "### Output Format for Visualization\n",
    "\n",
    "Example:\n",
    "\n",
    "* `root` is always the root of the tree\n",
    "* `size` should be the total number of lines of contribution\n",
    "* `weight` can be set to the same as `size`\n",
    "* `ownership` should be set to the percentage of contributions from the main author (e.g. 0.98 for 98% if contributions coming from the main author)\n",
    "\n",
    "```\n",
    "{\n",
    "  \"name\": \"root\",\n",
    "  \"children\": [\n",
    "    {\n",
    "      \"name\": \"test\",\n",
    "      \"children\": [\n",
    "        {\n",
    "          \"name\": \"benchmarking\",\n",
    "          \"children\": [\n",
    "            {\n",
    "              \"author_color\": \"red\",\n",
    "              \"size\": \"4005\",\n",
    "              \"name\": \"t6726-patmat-analysis.scala\",\n",
    "              \"weight\": 1.0,\n",
    "              \"ownership\": 0.9,\n",
    "              \"children\": []\n",
    "            },\n",
    "            {\n",
    "              \"author_color\": \"red\",\n",
    "              \"size\": \"55\",\n",
    "              \"name\": \"TreeSetIterator.scala\",\n",
    "              \"weight\": 0.88,\n",
    "              \"ownership\": 0.2,\n",
    "              \"children\": []\n",
    "            }\n",
    "          ]\n",
    "        }\n",
    "      ]\n",
    "    }\n",
    "  ]\n",
    "}\n",
    "```\n",
    "\n",
    "### JSON Export\n",
    "\n",
    "For exporting the data to JSON you can use the following snippet:\n",
    "\n",
    "```\n",
    "import json\n",
    "\n",
    "with open(\"output.json\", \"w\") as file:\n",
    "    json.dump(tree, file, indent=4)\n",
    "```"
   ]
  },
  {
   "cell_type": "code",
   "execution_count": null,
   "id": "9d6a1e1d",
   "metadata": {},
   "outputs": [],
   "source": []
  },
  {
   "cell_type": "markdown",
   "id": "6fe260b7",
   "metadata": {},
   "source": [
    "## Task 3: Code Churn Analysis\n",
    "\n",
    "The third and last task is to analyze the code churn of the _elasticsearch_ project. For this analysis we look at the code churn, meaning the daily change in the total number of lines of the project. Visualize the code churn over time bucketing the data by day. Remember that you'll need to fill the gaps for days when there are no commits. Chose a filling strategy and justify it.\n",
    "\n",
    "Look at the churn trend over time and identify two outliers. For each of them:\n",
    "- identify if it was caused by a single or multiple commits (since you are bucketing the data by day)\n",
    "- find the hash of the involved commit(s)\n",
    "- find the involved files\n",
    "- look at the actual diff\n",
    "\n",
    "Based on the above, discuss if the outlier is a false positive or should be a reason for concern."
   ]
  },
  {
   "cell_type": "code",
   "execution_count": null,
   "id": "be3fd5d8",
   "metadata": {},
   "outputs": [],
   "source": [
    "date_to_churn = {}\n",
    "\n",
    "for commit in repo.traverse_commits():\n",
    "    date = commit.committer_date.date()\n",
    "    if date in date_to_churn:\n",
    "        date_to_churn[date][\"lines added\"] += commit.insertions\n",
    "        date_to_churn[date][\"lines deleted\"] += commit.deletions\n",
    "        date_to_churn[date][\"hashes\"].append(commit.hash)\n",
    "        date_to_churn[date][\"messages\"].append(commit.msg)\n",
    "    else:\n",
    "        date_to_churn[date] = {\"lines added\":commit.insertions,\n",
    "                               \"lines deleted\":commit.deletions,\n",
    "                               \"hashes\":[commit.hash],\n",
    "                               \"messages\":[commit.msg]}\n",
    "\n",
    "min_date = min(date_to_churn.keys())\n",
    "max_date = max(date_to_churn.keys())\n",
    "date_list = [entry.date() for entry in pd.date_range(min_date, max_date)]\n",
    "\n",
    "for date in date_list:\n",
    "    if date not in date_to_churn:\n",
    "        date_to_churn[date] = {\"lines added\":0,\n",
    "                               \"lines deleted\":0,\n",
    "                               \"hashes\":[],\n",
    "                               \"messages\":[]}"
   ]
  },
  {
   "cell_type": "code",
   "execution_count": null,
   "outputs": [],
   "source": [
    "items = date_to_churn.items()\n",
    "items"
   ],
   "metadata": {
    "collapsed": false
   }
  },
  {
   "cell_type": "code",
   "execution_count": null,
   "outputs": [],
   "source": [
    "from bokeh.layouts import column\n",
    "from bokeh.models import ColumnDataSource, RangeTool\n",
    "from bokeh.plotting import figure, show\n",
    "\n",
    "# items = date_to_churn.items()\n",
    "# source = ColumnDataSource(data=dict(date=, close=AAPL['adj_close']))\n",
    "#\n",
    "# p = figure(height=300, width=800, tools=\"xpan\", toolbar_location=None,\n",
    "#            x_axis_type=\"datetime\", x_axis_location=\"above\",\n",
    "#            background_fill_color=\"#efefef\") #x_range=(dates[1500], dates[2500]))\n",
    "#\n",
    "# p.line('date', 'close', source=source)\n",
    "# p.yaxis.axis_label = 'Price'\n",
    "#\n",
    "# select = figure(title=\"Drag the middle and edges of the selection box to change the range above\",\n",
    "#                 height=130, width=800, y_range=p.y_range,\n",
    "#                 x_axis_type=\"datetime\", y_axis_type=None,\n",
    "#                 tools=\"\", toolbar_location=None, background_fill_color=\"#efefef\")\n",
    "#\n",
    "# range_tool = RangeTool(x_range=p.x_range)\n",
    "# range_tool.overlay.fill_color = \"navy\"\n",
    "# range_tool.overlay.fill_alpha = 0.2\n",
    "#\n",
    "# select.line('date', 'close', source=source)\n",
    "# select.ygrid.grid_line_color = None\n",
    "# select.add_tools(range_tool)\n",
    "# select.toolbar.active_multi = range_tool\n",
    "#\n",
    "# show(column(p, select))"
   ],
   "metadata": {
    "collapsed": false
   }
  }
 ],
 "metadata": {
  "kernelspec": {
   "display_name": "Python3",
   "language": "python",
   "name": "python3"
  },
  "language_info": {
   "codemirror_mode": {
    "name": "ipython",
    "version": 3
   },
   "file_extension": ".py",
   "mimetype": "text/x-python",
   "name": "python",
   "nbconvert_exporter": "python",
   "pygments_lexer": "ipython3",
   "version": "3.9.13"
  }
 },
 "nbformat": 4,
 "nbformat_minor": 5
}
