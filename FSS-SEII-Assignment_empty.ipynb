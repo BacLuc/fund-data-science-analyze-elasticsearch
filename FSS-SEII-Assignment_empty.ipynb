{
 "cells": [
  {
   "cell_type": "markdown",
   "id": "dcb2a67b",
   "metadata": {},
   "source": [
    "# Fundamentals of Software Systems (FSS)\n",
    "**Software Evolution – Part 02 Assignment**\n",
    "\n",
    "## Submission Guidelines\n",
    "\n",
    "To correctly complete this assignment you must:\n",
    "* Carry out the assignment in a team of 2 to 4 students.\n",
    "* Carry out the assignment with your team only. You are allowed to discuss solutions with other teams, but each team should come up its own personal solution. A strict plagiarism policy is going to be applied to all the artifacts submitted for evaluation.\n",
    "* As your submission, upload the filled Jupyter Notebook (including outputs) together with the d3 visualization web pages (i.e. upload everything you downloaded including the filled Jupyter Notebook plus your `output.json`)\n",
    "* The files must be uploaded to OLAT as a single ZIP (`.zip`) file by Dec 12, 2022 @ 23:55.\n"
   ]
  },
  {
   "cell_type": "markdown",
   "id": "2a552ae3",
   "metadata": {},
   "source": [
    "## Group Members\n",
    "* Firstname, Lastname, Immatrikulation Number\n",
    "* Lucius, Bachmann, 11-060-274\n",
    "* Adnreas, Wiemeyer, 15-728-405"
   ]
  },
  {
   "cell_type": "markdown",
   "id": "b46791aa",
   "metadata": {},
   "source": [
    "## Task Context\n",
    "\n",
    "In this assigment we will be analyzing the _elasticsearch_ project. All following tasks should be done with the subset of commits from tag `v1.0.0` to tag `v1.1.0`.\n",
    "\n",
    "Website: https://github.com/elastic/elasticsearch\n",
    "Repository: https://github.com/elastic/elasticsearch.git"
   ]
  },
  {
   "cell_type": "code",
   "execution_count": 181,
   "id": "4986ca74",
   "metadata": {},
   "outputs": [],
   "source": [
    "from enum import Enum \n",
    "\n",
    "class Modification(Enum):\n",
    "    ADDED = \"Lines added\"\n",
    "    REMOVED = \"Lines removed\"\n",
    "    TOTAL = \"Lines added + lines removed\"\n",
    "    DIFF = \"Lines added - lines removed\""
   ]
  },
  {
   "cell_type": "code",
   "execution_count": 182,
   "outputs": [],
   "source": [
    "# noinspection PyUnresolvedReferences\n",
    "import os.path\n",
    "from datetime import datetime\n",
    "from os import path, mkdir\n",
    "\n",
    "# noinspection PyUnresolvedReferences\n",
    "import pandas as pd\n",
    "# noinspection PyUnresolvedReferences\n",
    "import plotly.express as px\n",
    "from pydriller import Repository, Git\n",
    "\n",
    "repo_remote_path = 'https://github.com/elastic/elasticsearch.git'\n",
    "repo_owner = 'elastic'\n",
    "repo_name = 'elasticsearch'\n",
    "repo_checkout_path = f'{repo_owner}/{repo_name}'\n",
    "\n",
    "if not path.exists(repo_owner):\n",
    "    mkdir(repo_owner)\n",
    "\n",
    "from_tag = 'v1.0.0'\n",
    "to_tag = 'v1.1.0'\n",
    "repo = Repository(repo_remote_path, clone_repo_to=repo_owner, from_tag=from_tag, to_tag=to_tag)\n",
    "# clone repo if necessary\n",
    "for commit in repo.traverse_commits():\n",
    "    break\n",
    "git = Git(repo_checkout_path)"
   ],
   "metadata": {
    "collapsed": false
   }
  },
  {
   "cell_type": "markdown",
   "id": "b1a29d1b",
   "metadata": {},
   "source": [
    "## Task 1: Author analysis\n",
    "\n",
    "In the following, please consider only `java` files.\n",
    "\n",
    "The first task is to get an overview of the author ownership of the _elasticsearch_ project. In particular, we want to understand who are the main authors in the system between the two considered tags, the authors distribution among files and the files distribution among authors. To this aim, perform the following:\n",
    "- create a dictionary (or a list of tuples) with the pairs author => number of modified files\n",
    "- create a dictionary (or a list of tuples) with the pairs file => number of authors who modified the file\n",
    "- visualize the distribution of authors among files: the visualization should have on the x axis the number of authors per file (from 1 to max), and on the y axis the number of files with the given number of authors (so for example the first bar represent the number of files with single author)\n",
    "- visualize the distribution of files among authors: the visualization should have on the x axis the number of files per author (from 1 to max), and on the y axis the number of authors who modified the given number of files (so for example the first bar represent the minor contributors, i.e., the number of authors who changed only 1 file)\n",
    "\n",
    "Comment the two distribution visualizations.\n",
    "\n",
    "\n",
    "\n",
    "Now, let's look at the following 3 packages in more detail:\n",
    "1. `src/main/java/org/elasticsearch/search`\n",
    "2. `src/main/java/org/elasticsearch/index`\n",
    "3. `src/main/java/org/elasticsearch/action`\n",
    "\n",
    "Create a function that, given the path of a package and a modification type (see class Modification above), returns a dictionary of authors => number, where the number counts the total lines added or removed or added+removed or added-removed (depending on the given Modification parameter), for the given package. To compute the value at the package level, you should aggregate the data per file.\n",
    "\n",
    "Using the function defined above, visualize the author contributions (lines added + lines removed). The visualization should have the author on the x axis, and the total lines on the y axis. Sort the visualization in decreasing amount of contributions, i.e., the main author should be the first.\n",
    "\n",
    "Compare the visualization for the 3 packages and comment."
   ]
  },
  {
   "cell_type": "markdown",
   "source": [
    "Count the number of authors per file and the number of files per author."
   ],
   "metadata": {
    "collapsed": false
   }
  },
  {
   "cell_type": "code",
   "execution_count": 183,
   "id": "a447987a",
   "metadata": {},
   "outputs": [],
   "source": [
    "from pandas import DataFrame\n",
    "from typing import Set\n",
    "\n",
    "repo = Repository(repo_checkout_path, from_tag=from_tag, to_tag=to_tag)\n",
    "\n",
    "files_to_authors : {str, Set[str]} = {}\n",
    "authors_to_files : {str, Set[str]} = {}\n",
    "\n",
    "for commit in repo.traverse_commits():\n",
    "    author_identifier = commit.author.name\n",
    "    authors_to_files.setdefault(author_identifier, set())\n",
    "    for file in commit.modified_files:\n",
    "        if file.new_path is not None:\n",
    "            files_to_authors.setdefault(file.new_path, set())\n",
    "            files_to_authors[file.new_path].add(author_identifier)\n",
    "            authors_to_files[author_identifier].add(file.new_path)"
   ]
  },
  {
   "cell_type": "markdown",
   "source": [
    "Visualize Nr of authors per file:"
   ],
   "metadata": {
    "collapsed": false
   }
  },
  {
   "cell_type": "code",
   "execution_count": 184,
   "outputs": [],
   "source": [
    "file_author_count = {(k, len(authors)) for k, authors in files_to_authors.items()}\n",
    "col_name_author = 'File'\n",
    "col_name_nr_of_authors = 'Nr of authors'\n",
    "df_file_author_count = DataFrame(file_author_count, columns=[col_name_author, col_name_nr_of_authors])\n",
    "df_file_author_count_sorted = df_file_author_count.sort_values(by=[col_name_nr_of_authors], ascending=False)"
   ],
   "metadata": {
    "collapsed": false
   }
  },
  {
   "cell_type": "markdown",
   "source": [
    "The 20 files with the most authors:"
   ],
   "metadata": {
    "collapsed": false
   }
  },
  {
   "cell_type": "code",
   "execution_count": 185,
   "outputs": [
    {
     "data": {
      "text/plain": "                                                   File  Nr of authors\n205                                             pom.xml             13\n989   src/test/java/org/elasticsearch/test/Elasticse...              8\n60    src/test/java/org/elasticsearch/test/TestClust...              7\n98    src/main/java/org/elasticsearch/percolator/Per...              6\n411   src/test/java/org/elasticsearch/index/query/Si...              6\n89    src/main/java/org/elasticsearch/index/engine/i...              5\n1118  src/main/java/org/elasticsearch/rest/action/Re...              5\n476   src/main/java/org/elasticsearch/search/SearchS...              5\n207   src/main/java/org/elasticsearch/search/interna...              5\n1255   docs/reference/mapping/types/core-types.asciidoc              5\n259   docs/reference/query-dsl/queries/template-quer...              4\n87            docs/reference/modules/scripting.asciidoc              4\n388   src/main/java/org/elasticsearch/index/search/c...              4\n1296  docs/reference/search/aggregations/metrics/per...              4\n209   src/test/java/org/elasticsearch/search/aggrega...              4\n465           docs/reference/indices/templates.asciidoc              4\n1304  src/main/java/org/elasticsearch/index/search/c...              4\n428   src/test/java/org/elasticsearch/test/rest/juni...              4\n460   src/main/java/org/elasticsearch/index/mapper/g...              4\n1124      docs/reference/migration/migrate_1_0.asciidoc              4",
      "text/html": "<div>\n<style scoped>\n    .dataframe tbody tr th:only-of-type {\n        vertical-align: middle;\n    }\n\n    .dataframe tbody tr th {\n        vertical-align: top;\n    }\n\n    .dataframe thead th {\n        text-align: right;\n    }\n</style>\n<table border=\"1\" class=\"dataframe\">\n  <thead>\n    <tr style=\"text-align: right;\">\n      <th></th>\n      <th>File</th>\n      <th>Nr of authors</th>\n    </tr>\n  </thead>\n  <tbody>\n    <tr>\n      <th>205</th>\n      <td>pom.xml</td>\n      <td>13</td>\n    </tr>\n    <tr>\n      <th>989</th>\n      <td>src/test/java/org/elasticsearch/test/Elasticse...</td>\n      <td>8</td>\n    </tr>\n    <tr>\n      <th>60</th>\n      <td>src/test/java/org/elasticsearch/test/TestClust...</td>\n      <td>7</td>\n    </tr>\n    <tr>\n      <th>98</th>\n      <td>src/main/java/org/elasticsearch/percolator/Per...</td>\n      <td>6</td>\n    </tr>\n    <tr>\n      <th>411</th>\n      <td>src/test/java/org/elasticsearch/index/query/Si...</td>\n      <td>6</td>\n    </tr>\n    <tr>\n      <th>89</th>\n      <td>src/main/java/org/elasticsearch/index/engine/i...</td>\n      <td>5</td>\n    </tr>\n    <tr>\n      <th>1118</th>\n      <td>src/main/java/org/elasticsearch/rest/action/Re...</td>\n      <td>5</td>\n    </tr>\n    <tr>\n      <th>476</th>\n      <td>src/main/java/org/elasticsearch/search/SearchS...</td>\n      <td>5</td>\n    </tr>\n    <tr>\n      <th>207</th>\n      <td>src/main/java/org/elasticsearch/search/interna...</td>\n      <td>5</td>\n    </tr>\n    <tr>\n      <th>1255</th>\n      <td>docs/reference/mapping/types/core-types.asciidoc</td>\n      <td>5</td>\n    </tr>\n    <tr>\n      <th>259</th>\n      <td>docs/reference/query-dsl/queries/template-quer...</td>\n      <td>4</td>\n    </tr>\n    <tr>\n      <th>87</th>\n      <td>docs/reference/modules/scripting.asciidoc</td>\n      <td>4</td>\n    </tr>\n    <tr>\n      <th>388</th>\n      <td>src/main/java/org/elasticsearch/index/search/c...</td>\n      <td>4</td>\n    </tr>\n    <tr>\n      <th>1296</th>\n      <td>docs/reference/search/aggregations/metrics/per...</td>\n      <td>4</td>\n    </tr>\n    <tr>\n      <th>209</th>\n      <td>src/test/java/org/elasticsearch/search/aggrega...</td>\n      <td>4</td>\n    </tr>\n    <tr>\n      <th>465</th>\n      <td>docs/reference/indices/templates.asciidoc</td>\n      <td>4</td>\n    </tr>\n    <tr>\n      <th>1304</th>\n      <td>src/main/java/org/elasticsearch/index/search/c...</td>\n      <td>4</td>\n    </tr>\n    <tr>\n      <th>428</th>\n      <td>src/test/java/org/elasticsearch/test/rest/juni...</td>\n      <td>4</td>\n    </tr>\n    <tr>\n      <th>460</th>\n      <td>src/main/java/org/elasticsearch/index/mapper/g...</td>\n      <td>4</td>\n    </tr>\n    <tr>\n      <th>1124</th>\n      <td>docs/reference/migration/migrate_1_0.asciidoc</td>\n      <td>4</td>\n    </tr>\n  </tbody>\n</table>\n</div>"
     },
     "metadata": {},
     "output_type": "display_data"
    }
   ],
   "source": [
    "display(df_file_author_count_sorted[:20])"
   ],
   "metadata": {
    "collapsed": false
   }
  },
  {
   "cell_type": "markdown",
   "source": [
    "Distribution of author count per file:"
   ],
   "metadata": {
    "collapsed": false
   }
  },
  {
   "cell_type": "code",
   "execution_count": 186,
   "outputs": [
    {
     "data": {
      "application/vnd.plotly.v1+json": {
       "data": [
        {
         "alignmentgroup": "True",
         "bingroup": "x",
         "hovertemplate": "Nr of authors=%{x}<br>count=%{y}<extra></extra>",
         "legendgroup": "",
         "marker": {
          "color": "#636efa",
          "pattern": {
           "shape": ""
          }
         },
         "name": "",
         "offsetgroup": "",
         "orientation": "v",
         "showlegend": false,
         "x": [
          13,
          8,
          7,
          6,
          6,
          5,
          5,
          5,
          5,
          5,
          4,
          4,
          4,
          4,
          4,
          4,
          4,
          4,
          4,
          4,
          4,
          4,
          4,
          4,
          4,
          4,
          4,
          4,
          4,
          4,
          3,
          3,
          3,
          3,
          3,
          3,
          3,
          3,
          3,
          3,
          3,
          3,
          3,
          3,
          3,
          3,
          3,
          3,
          3,
          3,
          3,
          3,
          3,
          3,
          3,
          3,
          3,
          3,
          3,
          3,
          3,
          3,
          3,
          3,
          3,
          3,
          3,
          3,
          3,
          3,
          3,
          3,
          3,
          3,
          3,
          3,
          3,
          3,
          3,
          3,
          3,
          3,
          3,
          3,
          3,
          3,
          3,
          3,
          3,
          3,
          3,
          3,
          3,
          3,
          3,
          2,
          2,
          2,
          2,
          2,
          2,
          2,
          2,
          2,
          2,
          2,
          2,
          2,
          2,
          2,
          2,
          2,
          2,
          2,
          2,
          2,
          2,
          2,
          2,
          2,
          2,
          2,
          2,
          2,
          2,
          2,
          2,
          2,
          2,
          2,
          2,
          2,
          2,
          2,
          2,
          2,
          2,
          2,
          2,
          2,
          2,
          2,
          2,
          2,
          2,
          2,
          2,
          2,
          2,
          2,
          2,
          2,
          2,
          2,
          2,
          2,
          2,
          2,
          2,
          2,
          2,
          2,
          2,
          2,
          2,
          2,
          2,
          2,
          2,
          2,
          2,
          2,
          2,
          2,
          2,
          2,
          2,
          2,
          2,
          2,
          2,
          2,
          2,
          2,
          2,
          2,
          2,
          2,
          2,
          2,
          2,
          2,
          2,
          2,
          2,
          2,
          2,
          2,
          2,
          2,
          2,
          2,
          2,
          2,
          2,
          2,
          2,
          2,
          2,
          2,
          2,
          2,
          2,
          2,
          2,
          2,
          2,
          2,
          2,
          2,
          2,
          2,
          2,
          2,
          2,
          2,
          2,
          2,
          2,
          2,
          2,
          2,
          2,
          2,
          2,
          2,
          2,
          2,
          2,
          2,
          2,
          2,
          2,
          2,
          2,
          2,
          2,
          2,
          2,
          2,
          2,
          2,
          2,
          2,
          2,
          2,
          2,
          2,
          2,
          2,
          2,
          2,
          2,
          2,
          2,
          2,
          2,
          2,
          2,
          2,
          2,
          2,
          2,
          2,
          2,
          2,
          2,
          2,
          2,
          2,
          2,
          2,
          2,
          2,
          2,
          2,
          2,
          2,
          2,
          2,
          2,
          2,
          2,
          2,
          2,
          2,
          2,
          2,
          2,
          2,
          2,
          2,
          2,
          2,
          2,
          2,
          2,
          2,
          2,
          2,
          2,
          2,
          2,
          2,
          2,
          2,
          2,
          2,
          2,
          2,
          2,
          2,
          2,
          2,
          2,
          2,
          2,
          2,
          2,
          2,
          2,
          2,
          2,
          2,
          2,
          2,
          2,
          2,
          2,
          2,
          2,
          2,
          2,
          2,
          2,
          2,
          2,
          2,
          2,
          2,
          2,
          2,
          2,
          2,
          2,
          2,
          1,
          1,
          1,
          1,
          1,
          1,
          1,
          1,
          1,
          1,
          1,
          1,
          1,
          1,
          1,
          1,
          1,
          1,
          1,
          1,
          1,
          1,
          1,
          1,
          1,
          1,
          1,
          1,
          1,
          1,
          1,
          1,
          1,
          1,
          1,
          1,
          1,
          1,
          1,
          1,
          1,
          1,
          1,
          1,
          1,
          1,
          1,
          1,
          1,
          1,
          1,
          1,
          1,
          1,
          1,
          1,
          1,
          1,
          1,
          1,
          1,
          1,
          1,
          1,
          1,
          1,
          1,
          1,
          1,
          1,
          1,
          1,
          1,
          1,
          1,
          1,
          1,
          1,
          1,
          1,
          1,
          1,
          1,
          1,
          1,
          1,
          1,
          1,
          1,
          1,
          1,
          1,
          1,
          1,
          1,
          1,
          1,
          1,
          1,
          1,
          1,
          1,
          1,
          1,
          1,
          1,
          1,
          1,
          1,
          1,
          1,
          1,
          1,
          1,
          1,
          1,
          1,
          1,
          1,
          1,
          1,
          1,
          1,
          1,
          1,
          1,
          1,
          1,
          1,
          1,
          1,
          1,
          1,
          1,
          1,
          1,
          1,
          1,
          1,
          1,
          1,
          1,
          1,
          1,
          1,
          1,
          1,
          1,
          1,
          1,
          1,
          1,
          1,
          1,
          1,
          1,
          1,
          1,
          1,
          1,
          1,
          1,
          1,
          1,
          1,
          1,
          1,
          1,
          1,
          1,
          1,
          1,
          1,
          1,
          1,
          1,
          1,
          1,
          1,
          1,
          1,
          1,
          1,
          1,
          1,
          1,
          1,
          1,
          1,
          1,
          1,
          1,
          1,
          1,
          1,
          1,
          1,
          1,
          1,
          1,
          1,
          1,
          1,
          1,
          1,
          1,
          1,
          1,
          1,
          1,
          1,
          1,
          1,
          1,
          1,
          1,
          1,
          1,
          1,
          1,
          1,
          1,
          1,
          1,
          1,
          1,
          1,
          1,
          1,
          1,
          1,
          1,
          1,
          1,
          1,
          1,
          1,
          1,
          1,
          1,
          1,
          1,
          1,
          1,
          1,
          1,
          1,
          1,
          1,
          1,
          1,
          1,
          1,
          1,
          1,
          1,
          1,
          1,
          1,
          1,
          1,
          1,
          1,
          1,
          1,
          1,
          1,
          1,
          1,
          1,
          1,
          1,
          1,
          1,
          1,
          1,
          1,
          1,
          1,
          1,
          1,
          1,
          1,
          1,
          1,
          1,
          1,
          1,
          1,
          1,
          1,
          1,
          1,
          1,
          1,
          1,
          1,
          1,
          1,
          1,
          1,
          1,
          1,
          1,
          1,
          1,
          1,
          1,
          1,
          1,
          1,
          1,
          1,
          1,
          1,
          1,
          1,
          1,
          1,
          1,
          1,
          1,
          1,
          1,
          1,
          1,
          1,
          1,
          1,
          1,
          1,
          1,
          1,
          1,
          1,
          1,
          1,
          1,
          1,
          1,
          1,
          1,
          1,
          1,
          1,
          1,
          1,
          1,
          1,
          1,
          1,
          1,
          1,
          1,
          1,
          1,
          1,
          1,
          1,
          1,
          1,
          1,
          1,
          1,
          1,
          1,
          1,
          1,
          1,
          1,
          1,
          1,
          1,
          1,
          1,
          1,
          1,
          1,
          1,
          1,
          1,
          1,
          1,
          1,
          1,
          1,
          1,
          1,
          1,
          1,
          1,
          1,
          1,
          1,
          1,
          1,
          1,
          1,
          1,
          1,
          1,
          1,
          1,
          1,
          1,
          1,
          1,
          1,
          1,
          1,
          1,
          1,
          1,
          1,
          1,
          1,
          1,
          1,
          1,
          1,
          1,
          1,
          1,
          1,
          1,
          1,
          1,
          1,
          1,
          1,
          1,
          1,
          1,
          1,
          1,
          1,
          1,
          1,
          1,
          1,
          1,
          1,
          1,
          1,
          1,
          1,
          1,
          1,
          1,
          1,
          1,
          1,
          1,
          1,
          1,
          1,
          1,
          1,
          1,
          1,
          1,
          1,
          1,
          1,
          1,
          1,
          1,
          1,
          1,
          1,
          1,
          1,
          1,
          1,
          1,
          1,
          1,
          1,
          1,
          1,
          1,
          1,
          1,
          1,
          1,
          1,
          1,
          1,
          1,
          1,
          1,
          1,
          1,
          1,
          1,
          1,
          1,
          1,
          1,
          1,
          1,
          1,
          1,
          1,
          1,
          1,
          1,
          1,
          1,
          1,
          1,
          1,
          1,
          1,
          1,
          1,
          1,
          1,
          1,
          1,
          1,
          1,
          1,
          1,
          1,
          1,
          1,
          1,
          1,
          1,
          1,
          1,
          1,
          1,
          1,
          1,
          1,
          1,
          1,
          1,
          1,
          1,
          1,
          1,
          1,
          1,
          1,
          1,
          1,
          1,
          1,
          1,
          1,
          1,
          1,
          1,
          1,
          1,
          1,
          1,
          1,
          1,
          1,
          1,
          1,
          1,
          1,
          1,
          1,
          1,
          1,
          1,
          1,
          1,
          1,
          1,
          1,
          1,
          1,
          1,
          1,
          1,
          1,
          1,
          1,
          1,
          1,
          1,
          1,
          1,
          1,
          1,
          1,
          1,
          1,
          1,
          1,
          1,
          1,
          1,
          1,
          1,
          1,
          1,
          1,
          1,
          1,
          1,
          1,
          1,
          1,
          1,
          1,
          1,
          1,
          1,
          1,
          1,
          1,
          1,
          1,
          1,
          1,
          1,
          1,
          1,
          1,
          1,
          1,
          1,
          1,
          1,
          1,
          1,
          1,
          1,
          1,
          1,
          1,
          1,
          1,
          1,
          1,
          1,
          1,
          1,
          1,
          1,
          1,
          1,
          1,
          1,
          1,
          1,
          1,
          1,
          1,
          1,
          1,
          1,
          1,
          1,
          1,
          1,
          1,
          1,
          1,
          1,
          1,
          1,
          1,
          1,
          1,
          1,
          1,
          1,
          1,
          1,
          1,
          1,
          1,
          1,
          1,
          1,
          1,
          1,
          1,
          1,
          1,
          1,
          1,
          1,
          1,
          1,
          1,
          1,
          1,
          1,
          1,
          1,
          1,
          1,
          1,
          1,
          1,
          1,
          1,
          1,
          1,
          1,
          1,
          1,
          1,
          1,
          1,
          1,
          1,
          1,
          1,
          1,
          1,
          1,
          1,
          1,
          1,
          1,
          1,
          1,
          1,
          1,
          1,
          1,
          1,
          1,
          1,
          1,
          1,
          1,
          1,
          1,
          1,
          1,
          1,
          1,
          1,
          1,
          1,
          1,
          1,
          1,
          1,
          1,
          1,
          1,
          1,
          1,
          1,
          1,
          1,
          1,
          1,
          1,
          1,
          1,
          1,
          1,
          1,
          1,
          1,
          1,
          1,
          1,
          1,
          1,
          1,
          1,
          1,
          1,
          1,
          1,
          1,
          1,
          1,
          1,
          1,
          1,
          1,
          1,
          1,
          1,
          1,
          1,
          1,
          1,
          1,
          1,
          1,
          1,
          1,
          1,
          1,
          1,
          1,
          1,
          1,
          1,
          1,
          1,
          1,
          1,
          1,
          1,
          1,
          1,
          1,
          1,
          1,
          1,
          1,
          1,
          1,
          1,
          1,
          1,
          1,
          1,
          1,
          1,
          1,
          1,
          1,
          1,
          1,
          1,
          1,
          1,
          1,
          1,
          1,
          1,
          1,
          1,
          1,
          1,
          1,
          1,
          1,
          1,
          1,
          1,
          1,
          1,
          1,
          1,
          1,
          1,
          1,
          1,
          1,
          1,
          1,
          1,
          1,
          1,
          1,
          1,
          1,
          1,
          1,
          1,
          1,
          1,
          1,
          1,
          1,
          1,
          1,
          1,
          1,
          1,
          1,
          1,
          1,
          1,
          1,
          1,
          1,
          1,
          1,
          1,
          1,
          1,
          1,
          1,
          1,
          1,
          1,
          1,
          1,
          1,
          1,
          1,
          1,
          1,
          1,
          1,
          1,
          1,
          1,
          1,
          1,
          1,
          1,
          1,
          1,
          1,
          1,
          1,
          1,
          1,
          1,
          1,
          1,
          1,
          1,
          1,
          1,
          1,
          1,
          1,
          1,
          1,
          1,
          1,
          1,
          1,
          1,
          1,
          1,
          1,
          1,
          1,
          1,
          1,
          1,
          1,
          1,
          1,
          1,
          1,
          1,
          1,
          1,
          1,
          1,
          1,
          1,
          1,
          1
         ],
         "xaxis": "x",
         "yaxis": "y",
         "type": "histogram"
        }
       ],
       "layout": {
        "template": {
         "data": {
          "histogram2dcontour": [
           {
            "type": "histogram2dcontour",
            "colorbar": {
             "outlinewidth": 0,
             "ticks": ""
            },
            "colorscale": [
             [
              0.0,
              "#0d0887"
             ],
             [
              0.1111111111111111,
              "#46039f"
             ],
             [
              0.2222222222222222,
              "#7201a8"
             ],
             [
              0.3333333333333333,
              "#9c179e"
             ],
             [
              0.4444444444444444,
              "#bd3786"
             ],
             [
              0.5555555555555556,
              "#d8576b"
             ],
             [
              0.6666666666666666,
              "#ed7953"
             ],
             [
              0.7777777777777778,
              "#fb9f3a"
             ],
             [
              0.8888888888888888,
              "#fdca26"
             ],
             [
              1.0,
              "#f0f921"
             ]
            ]
           }
          ],
          "choropleth": [
           {
            "type": "choropleth",
            "colorbar": {
             "outlinewidth": 0,
             "ticks": ""
            }
           }
          ],
          "histogram2d": [
           {
            "type": "histogram2d",
            "colorbar": {
             "outlinewidth": 0,
             "ticks": ""
            },
            "colorscale": [
             [
              0.0,
              "#0d0887"
             ],
             [
              0.1111111111111111,
              "#46039f"
             ],
             [
              0.2222222222222222,
              "#7201a8"
             ],
             [
              0.3333333333333333,
              "#9c179e"
             ],
             [
              0.4444444444444444,
              "#bd3786"
             ],
             [
              0.5555555555555556,
              "#d8576b"
             ],
             [
              0.6666666666666666,
              "#ed7953"
             ],
             [
              0.7777777777777778,
              "#fb9f3a"
             ],
             [
              0.8888888888888888,
              "#fdca26"
             ],
             [
              1.0,
              "#f0f921"
             ]
            ]
           }
          ],
          "heatmap": [
           {
            "type": "heatmap",
            "colorbar": {
             "outlinewidth": 0,
             "ticks": ""
            },
            "colorscale": [
             [
              0.0,
              "#0d0887"
             ],
             [
              0.1111111111111111,
              "#46039f"
             ],
             [
              0.2222222222222222,
              "#7201a8"
             ],
             [
              0.3333333333333333,
              "#9c179e"
             ],
             [
              0.4444444444444444,
              "#bd3786"
             ],
             [
              0.5555555555555556,
              "#d8576b"
             ],
             [
              0.6666666666666666,
              "#ed7953"
             ],
             [
              0.7777777777777778,
              "#fb9f3a"
             ],
             [
              0.8888888888888888,
              "#fdca26"
             ],
             [
              1.0,
              "#f0f921"
             ]
            ]
           }
          ],
          "heatmapgl": [
           {
            "type": "heatmapgl",
            "colorbar": {
             "outlinewidth": 0,
             "ticks": ""
            },
            "colorscale": [
             [
              0.0,
              "#0d0887"
             ],
             [
              0.1111111111111111,
              "#46039f"
             ],
             [
              0.2222222222222222,
              "#7201a8"
             ],
             [
              0.3333333333333333,
              "#9c179e"
             ],
             [
              0.4444444444444444,
              "#bd3786"
             ],
             [
              0.5555555555555556,
              "#d8576b"
             ],
             [
              0.6666666666666666,
              "#ed7953"
             ],
             [
              0.7777777777777778,
              "#fb9f3a"
             ],
             [
              0.8888888888888888,
              "#fdca26"
             ],
             [
              1.0,
              "#f0f921"
             ]
            ]
           }
          ],
          "contourcarpet": [
           {
            "type": "contourcarpet",
            "colorbar": {
             "outlinewidth": 0,
             "ticks": ""
            }
           }
          ],
          "contour": [
           {
            "type": "contour",
            "colorbar": {
             "outlinewidth": 0,
             "ticks": ""
            },
            "colorscale": [
             [
              0.0,
              "#0d0887"
             ],
             [
              0.1111111111111111,
              "#46039f"
             ],
             [
              0.2222222222222222,
              "#7201a8"
             ],
             [
              0.3333333333333333,
              "#9c179e"
             ],
             [
              0.4444444444444444,
              "#bd3786"
             ],
             [
              0.5555555555555556,
              "#d8576b"
             ],
             [
              0.6666666666666666,
              "#ed7953"
             ],
             [
              0.7777777777777778,
              "#fb9f3a"
             ],
             [
              0.8888888888888888,
              "#fdca26"
             ],
             [
              1.0,
              "#f0f921"
             ]
            ]
           }
          ],
          "surface": [
           {
            "type": "surface",
            "colorbar": {
             "outlinewidth": 0,
             "ticks": ""
            },
            "colorscale": [
             [
              0.0,
              "#0d0887"
             ],
             [
              0.1111111111111111,
              "#46039f"
             ],
             [
              0.2222222222222222,
              "#7201a8"
             ],
             [
              0.3333333333333333,
              "#9c179e"
             ],
             [
              0.4444444444444444,
              "#bd3786"
             ],
             [
              0.5555555555555556,
              "#d8576b"
             ],
             [
              0.6666666666666666,
              "#ed7953"
             ],
             [
              0.7777777777777778,
              "#fb9f3a"
             ],
             [
              0.8888888888888888,
              "#fdca26"
             ],
             [
              1.0,
              "#f0f921"
             ]
            ]
           }
          ],
          "mesh3d": [
           {
            "type": "mesh3d",
            "colorbar": {
             "outlinewidth": 0,
             "ticks": ""
            }
           }
          ],
          "scatter": [
           {
            "marker": {
             "line": {
              "color": "#283442"
             }
            },
            "type": "scatter"
           }
          ],
          "parcoords": [
           {
            "type": "parcoords",
            "line": {
             "colorbar": {
              "outlinewidth": 0,
              "ticks": ""
             }
            }
           }
          ],
          "scatterpolargl": [
           {
            "type": "scatterpolargl",
            "marker": {
             "colorbar": {
              "outlinewidth": 0,
              "ticks": ""
             }
            }
           }
          ],
          "bar": [
           {
            "error_x": {
             "color": "#f2f5fa"
            },
            "error_y": {
             "color": "#f2f5fa"
            },
            "marker": {
             "line": {
              "color": "rgb(17,17,17)",
              "width": 0.5
             },
             "pattern": {
              "fillmode": "overlay",
              "size": 10,
              "solidity": 0.2
             }
            },
            "type": "bar"
           }
          ],
          "scattergeo": [
           {
            "type": "scattergeo",
            "marker": {
             "colorbar": {
              "outlinewidth": 0,
              "ticks": ""
             }
            }
           }
          ],
          "scatterpolar": [
           {
            "type": "scatterpolar",
            "marker": {
             "colorbar": {
              "outlinewidth": 0,
              "ticks": ""
             }
            }
           }
          ],
          "histogram": [
           {
            "marker": {
             "pattern": {
              "fillmode": "overlay",
              "size": 10,
              "solidity": 0.2
             }
            },
            "type": "histogram"
           }
          ],
          "scattergl": [
           {
            "marker": {
             "line": {
              "color": "#283442"
             }
            },
            "type": "scattergl"
           }
          ],
          "scatter3d": [
           {
            "type": "scatter3d",
            "line": {
             "colorbar": {
              "outlinewidth": 0,
              "ticks": ""
             }
            },
            "marker": {
             "colorbar": {
              "outlinewidth": 0,
              "ticks": ""
             }
            }
           }
          ],
          "scattermapbox": [
           {
            "type": "scattermapbox",
            "marker": {
             "colorbar": {
              "outlinewidth": 0,
              "ticks": ""
             }
            }
           }
          ],
          "scatterternary": [
           {
            "type": "scatterternary",
            "marker": {
             "colorbar": {
              "outlinewidth": 0,
              "ticks": ""
             }
            }
           }
          ],
          "scattercarpet": [
           {
            "type": "scattercarpet",
            "marker": {
             "colorbar": {
              "outlinewidth": 0,
              "ticks": ""
             }
            }
           }
          ],
          "carpet": [
           {
            "aaxis": {
             "endlinecolor": "#A2B1C6",
             "gridcolor": "#506784",
             "linecolor": "#506784",
             "minorgridcolor": "#506784",
             "startlinecolor": "#A2B1C6"
            },
            "baxis": {
             "endlinecolor": "#A2B1C6",
             "gridcolor": "#506784",
             "linecolor": "#506784",
             "minorgridcolor": "#506784",
             "startlinecolor": "#A2B1C6"
            },
            "type": "carpet"
           }
          ],
          "table": [
           {
            "cells": {
             "fill": {
              "color": "#506784"
             },
             "line": {
              "color": "rgb(17,17,17)"
             }
            },
            "header": {
             "fill": {
              "color": "#2a3f5f"
             },
             "line": {
              "color": "rgb(17,17,17)"
             }
            },
            "type": "table"
           }
          ],
          "barpolar": [
           {
            "marker": {
             "line": {
              "color": "rgb(17,17,17)",
              "width": 0.5
             },
             "pattern": {
              "fillmode": "overlay",
              "size": 10,
              "solidity": 0.2
             }
            },
            "type": "barpolar"
           }
          ],
          "pie": [
           {
            "automargin": true,
            "type": "pie"
           }
          ]
         },
         "layout": {
          "autotypenumbers": "strict",
          "colorway": [
           "#636efa",
           "#EF553B",
           "#00cc96",
           "#ab63fa",
           "#FFA15A",
           "#19d3f3",
           "#FF6692",
           "#B6E880",
           "#FF97FF",
           "#FECB52"
          ],
          "font": {
           "color": "#f2f5fa"
          },
          "hovermode": "closest",
          "hoverlabel": {
           "align": "left"
          },
          "paper_bgcolor": "rgb(17,17,17)",
          "plot_bgcolor": "rgb(17,17,17)",
          "polar": {
           "bgcolor": "rgb(17,17,17)",
           "angularaxis": {
            "gridcolor": "#506784",
            "linecolor": "#506784",
            "ticks": ""
           },
           "radialaxis": {
            "gridcolor": "#506784",
            "linecolor": "#506784",
            "ticks": ""
           }
          },
          "ternary": {
           "bgcolor": "rgb(17,17,17)",
           "aaxis": {
            "gridcolor": "#506784",
            "linecolor": "#506784",
            "ticks": ""
           },
           "baxis": {
            "gridcolor": "#506784",
            "linecolor": "#506784",
            "ticks": ""
           },
           "caxis": {
            "gridcolor": "#506784",
            "linecolor": "#506784",
            "ticks": ""
           }
          },
          "coloraxis": {
           "colorbar": {
            "outlinewidth": 0,
            "ticks": ""
           }
          },
          "colorscale": {
           "sequential": [
            [
             0.0,
             "#0d0887"
            ],
            [
             0.1111111111111111,
             "#46039f"
            ],
            [
             0.2222222222222222,
             "#7201a8"
            ],
            [
             0.3333333333333333,
             "#9c179e"
            ],
            [
             0.4444444444444444,
             "#bd3786"
            ],
            [
             0.5555555555555556,
             "#d8576b"
            ],
            [
             0.6666666666666666,
             "#ed7953"
            ],
            [
             0.7777777777777778,
             "#fb9f3a"
            ],
            [
             0.8888888888888888,
             "#fdca26"
            ],
            [
             1.0,
             "#f0f921"
            ]
           ],
           "sequentialminus": [
            [
             0.0,
             "#0d0887"
            ],
            [
             0.1111111111111111,
             "#46039f"
            ],
            [
             0.2222222222222222,
             "#7201a8"
            ],
            [
             0.3333333333333333,
             "#9c179e"
            ],
            [
             0.4444444444444444,
             "#bd3786"
            ],
            [
             0.5555555555555556,
             "#d8576b"
            ],
            [
             0.6666666666666666,
             "#ed7953"
            ],
            [
             0.7777777777777778,
             "#fb9f3a"
            ],
            [
             0.8888888888888888,
             "#fdca26"
            ],
            [
             1.0,
             "#f0f921"
            ]
           ],
           "diverging": [
            [
             0,
             "#8e0152"
            ],
            [
             0.1,
             "#c51b7d"
            ],
            [
             0.2,
             "#de77ae"
            ],
            [
             0.3,
             "#f1b6da"
            ],
            [
             0.4,
             "#fde0ef"
            ],
            [
             0.5,
             "#f7f7f7"
            ],
            [
             0.6,
             "#e6f5d0"
            ],
            [
             0.7,
             "#b8e186"
            ],
            [
             0.8,
             "#7fbc41"
            ],
            [
             0.9,
             "#4d9221"
            ],
            [
             1,
             "#276419"
            ]
           ]
          },
          "xaxis": {
           "gridcolor": "#283442",
           "linecolor": "#506784",
           "ticks": "",
           "title": {
            "standoff": 15
           },
           "zerolinecolor": "#283442",
           "automargin": true,
           "zerolinewidth": 2
          },
          "yaxis": {
           "gridcolor": "#283442",
           "linecolor": "#506784",
           "ticks": "",
           "title": {
            "standoff": 15
           },
           "zerolinecolor": "#283442",
           "automargin": true,
           "zerolinewidth": 2
          },
          "scene": {
           "xaxis": {
            "backgroundcolor": "rgb(17,17,17)",
            "gridcolor": "#506784",
            "linecolor": "#506784",
            "showbackground": true,
            "ticks": "",
            "zerolinecolor": "#C8D4E3",
            "gridwidth": 2
           },
           "yaxis": {
            "backgroundcolor": "rgb(17,17,17)",
            "gridcolor": "#506784",
            "linecolor": "#506784",
            "showbackground": true,
            "ticks": "",
            "zerolinecolor": "#C8D4E3",
            "gridwidth": 2
           },
           "zaxis": {
            "backgroundcolor": "rgb(17,17,17)",
            "gridcolor": "#506784",
            "linecolor": "#506784",
            "showbackground": true,
            "ticks": "",
            "zerolinecolor": "#C8D4E3",
            "gridwidth": 2
           }
          },
          "shapedefaults": {
           "line": {
            "color": "#f2f5fa"
           }
          },
          "annotationdefaults": {
           "arrowcolor": "#f2f5fa",
           "arrowhead": 0,
           "arrowwidth": 1
          },
          "geo": {
           "bgcolor": "rgb(17,17,17)",
           "landcolor": "rgb(17,17,17)",
           "subunitcolor": "#506784",
           "showland": true,
           "showlakes": true,
           "lakecolor": "rgb(17,17,17)"
          },
          "title": {
           "x": 0.05
          },
          "updatemenudefaults": {
           "bgcolor": "#506784",
           "borderwidth": 0
          },
          "sliderdefaults": {
           "bgcolor": "#C8D4E3",
           "borderwidth": 1,
           "bordercolor": "rgb(17,17,17)",
           "tickwidth": 0
          },
          "mapbox": {
           "style": "dark"
          }
         }
        },
        "xaxis": {
         "anchor": "y",
         "domain": [
          0.0,
          1.0
         ],
         "title": {
          "text": "Nr of authors"
         }
        },
        "yaxis": {
         "anchor": "x",
         "domain": [
          0.0,
          1.0
         ],
         "title": {
          "text": "count"
         }
        },
        "legend": {
         "tracegroupgap": 0
        },
        "margin": {
         "t": 60
        },
        "barmode": "relative"
       },
       "config": {
        "plotlyServerURL": "https://plot.ly"
       }
      },
      "text/html": "<div>                            <div id=\"f60a5d0b-bd5f-4a3e-9b87-f898c2531ea2\" class=\"plotly-graph-div\" style=\"height:525px; width:100%;\"></div>            <script type=\"text/javascript\">                require([\"plotly\"], function(Plotly) {                    window.PLOTLYENV=window.PLOTLYENV || {};                                    if (document.getElementById(\"f60a5d0b-bd5f-4a3e-9b87-f898c2531ea2\")) {                    Plotly.newPlot(                        \"f60a5d0b-bd5f-4a3e-9b87-f898c2531ea2\",                        [{\"alignmentgroup\":\"True\",\"bingroup\":\"x\",\"hovertemplate\":\"Nr of authors=%{x}<br>count=%{y}<extra></extra>\",\"legendgroup\":\"\",\"marker\":{\"color\":\"#636efa\",\"pattern\":{\"shape\":\"\"}},\"name\":\"\",\"offsetgroup\":\"\",\"orientation\":\"v\",\"showlegend\":false,\"x\":[13,8,7,6,6,5,5,5,5,5,4,4,4,4,4,4,4,4,4,4,4,4,4,4,4,4,4,4,4,4,3,3,3,3,3,3,3,3,3,3,3,3,3,3,3,3,3,3,3,3,3,3,3,3,3,3,3,3,3,3,3,3,3,3,3,3,3,3,3,3,3,3,3,3,3,3,3,3,3,3,3,3,3,3,3,3,3,3,3,3,3,3,3,3,3,2,2,2,2,2,2,2,2,2,2,2,2,2,2,2,2,2,2,2,2,2,2,2,2,2,2,2,2,2,2,2,2,2,2,2,2,2,2,2,2,2,2,2,2,2,2,2,2,2,2,2,2,2,2,2,2,2,2,2,2,2,2,2,2,2,2,2,2,2,2,2,2,2,2,2,2,2,2,2,2,2,2,2,2,2,2,2,2,2,2,2,2,2,2,2,2,2,2,2,2,2,2,2,2,2,2,2,2,2,2,2,2,2,2,2,2,2,2,2,2,2,2,2,2,2,2,2,2,2,2,2,2,2,2,2,2,2,2,2,2,2,2,2,2,2,2,2,2,2,2,2,2,2,2,2,2,2,2,2,2,2,2,2,2,2,2,2,2,2,2,2,2,2,2,2,2,2,2,2,2,2,2,2,2,2,2,2,2,2,2,2,2,2,2,2,2,2,2,2,2,2,2,2,2,2,2,2,2,2,2,2,2,2,2,2,2,2,2,2,2,2,2,2,2,2,2,2,2,2,2,2,2,2,2,2,2,2,2,2,2,2,2,2,2,2,2,2,2,2,2,2,2,2,2,2,2,2,2,2,2,2,1,1,1,1,1,1,1,1,1,1,1,1,1,1,1,1,1,1,1,1,1,1,1,1,1,1,1,1,1,1,1,1,1,1,1,1,1,1,1,1,1,1,1,1,1,1,1,1,1,1,1,1,1,1,1,1,1,1,1,1,1,1,1,1,1,1,1,1,1,1,1,1,1,1,1,1,1,1,1,1,1,1,1,1,1,1,1,1,1,1,1,1,1,1,1,1,1,1,1,1,1,1,1,1,1,1,1,1,1,1,1,1,1,1,1,1,1,1,1,1,1,1,1,1,1,1,1,1,1,1,1,1,1,1,1,1,1,1,1,1,1,1,1,1,1,1,1,1,1,1,1,1,1,1,1,1,1,1,1,1,1,1,1,1,1,1,1,1,1,1,1,1,1,1,1,1,1,1,1,1,1,1,1,1,1,1,1,1,1,1,1,1,1,1,1,1,1,1,1,1,1,1,1,1,1,1,1,1,1,1,1,1,1,1,1,1,1,1,1,1,1,1,1,1,1,1,1,1,1,1,1,1,1,1,1,1,1,1,1,1,1,1,1,1,1,1,1,1,1,1,1,1,1,1,1,1,1,1,1,1,1,1,1,1,1,1,1,1,1,1,1,1,1,1,1,1,1,1,1,1,1,1,1,1,1,1,1,1,1,1,1,1,1,1,1,1,1,1,1,1,1,1,1,1,1,1,1,1,1,1,1,1,1,1,1,1,1,1,1,1,1,1,1,1,1,1,1,1,1,1,1,1,1,1,1,1,1,1,1,1,1,1,1,1,1,1,1,1,1,1,1,1,1,1,1,1,1,1,1,1,1,1,1,1,1,1,1,1,1,1,1,1,1,1,1,1,1,1,1,1,1,1,1,1,1,1,1,1,1,1,1,1,1,1,1,1,1,1,1,1,1,1,1,1,1,1,1,1,1,1,1,1,1,1,1,1,1,1,1,1,1,1,1,1,1,1,1,1,1,1,1,1,1,1,1,1,1,1,1,1,1,1,1,1,1,1,1,1,1,1,1,1,1,1,1,1,1,1,1,1,1,1,1,1,1,1,1,1,1,1,1,1,1,1,1,1,1,1,1,1,1,1,1,1,1,1,1,1,1,1,1,1,1,1,1,1,1,1,1,1,1,1,1,1,1,1,1,1,1,1,1,1,1,1,1,1,1,1,1,1,1,1,1,1,1,1,1,1,1,1,1,1,1,1,1,1,1,1,1,1,1,1,1,1,1,1,1,1,1,1,1,1,1,1,1,1,1,1,1,1,1,1,1,1,1,1,1,1,1,1,1,1,1,1,1,1,1,1,1,1,1,1,1,1,1,1,1,1,1,1,1,1,1,1,1,1,1,1,1,1,1,1,1,1,1,1,1,1,1,1,1,1,1,1,1,1,1,1,1,1,1,1,1,1,1,1,1,1,1,1,1,1,1,1,1,1,1,1,1,1,1,1,1,1,1,1,1,1,1,1,1,1,1,1,1,1,1,1,1,1,1,1,1,1,1,1,1,1,1,1,1,1,1,1,1,1,1,1,1,1,1,1,1,1,1,1,1,1,1,1,1,1,1,1,1,1,1,1,1,1,1,1,1,1,1,1,1,1,1,1,1,1,1,1,1,1,1,1,1,1,1,1,1,1,1,1,1,1,1,1,1,1,1,1,1,1,1,1,1,1,1,1,1,1,1,1,1,1,1,1,1,1,1,1,1,1,1,1,1,1,1,1,1,1,1,1,1,1,1,1,1,1,1,1,1,1,1,1,1,1,1,1,1,1,1,1,1,1,1,1,1,1,1,1,1,1,1,1,1,1,1,1,1,1,1,1,1,1,1,1,1,1,1,1,1,1,1,1,1,1,1,1,1,1,1,1,1,1,1,1,1,1,1,1,1,1,1,1,1,1,1,1,1,1,1,1,1,1,1,1,1,1,1,1,1,1,1,1,1,1,1,1,1,1,1,1,1,1,1,1,1,1,1,1,1,1,1,1,1,1,1,1,1,1,1,1,1,1,1,1,1,1,1,1,1,1,1,1,1,1,1,1,1,1,1,1,1,1,1,1,1,1,1,1,1,1,1,1,1,1,1,1,1,1,1,1,1,1,1,1,1,1,1,1,1,1,1,1,1,1,1,1,1,1,1,1,1,1,1,1,1,1,1,1,1,1,1,1,1],\"xaxis\":\"x\",\"yaxis\":\"y\",\"type\":\"histogram\"}],                        {\"template\":{\"data\":{\"histogram2dcontour\":[{\"type\":\"histogram2dcontour\",\"colorbar\":{\"outlinewidth\":0,\"ticks\":\"\"},\"colorscale\":[[0.0,\"#0d0887\"],[0.1111111111111111,\"#46039f\"],[0.2222222222222222,\"#7201a8\"],[0.3333333333333333,\"#9c179e\"],[0.4444444444444444,\"#bd3786\"],[0.5555555555555556,\"#d8576b\"],[0.6666666666666666,\"#ed7953\"],[0.7777777777777778,\"#fb9f3a\"],[0.8888888888888888,\"#fdca26\"],[1.0,\"#f0f921\"]]}],\"choropleth\":[{\"type\":\"choropleth\",\"colorbar\":{\"outlinewidth\":0,\"ticks\":\"\"}}],\"histogram2d\":[{\"type\":\"histogram2d\",\"colorbar\":{\"outlinewidth\":0,\"ticks\":\"\"},\"colorscale\":[[0.0,\"#0d0887\"],[0.1111111111111111,\"#46039f\"],[0.2222222222222222,\"#7201a8\"],[0.3333333333333333,\"#9c179e\"],[0.4444444444444444,\"#bd3786\"],[0.5555555555555556,\"#d8576b\"],[0.6666666666666666,\"#ed7953\"],[0.7777777777777778,\"#fb9f3a\"],[0.8888888888888888,\"#fdca26\"],[1.0,\"#f0f921\"]]}],\"heatmap\":[{\"type\":\"heatmap\",\"colorbar\":{\"outlinewidth\":0,\"ticks\":\"\"},\"colorscale\":[[0.0,\"#0d0887\"],[0.1111111111111111,\"#46039f\"],[0.2222222222222222,\"#7201a8\"],[0.3333333333333333,\"#9c179e\"],[0.4444444444444444,\"#bd3786\"],[0.5555555555555556,\"#d8576b\"],[0.6666666666666666,\"#ed7953\"],[0.7777777777777778,\"#fb9f3a\"],[0.8888888888888888,\"#fdca26\"],[1.0,\"#f0f921\"]]}],\"heatmapgl\":[{\"type\":\"heatmapgl\",\"colorbar\":{\"outlinewidth\":0,\"ticks\":\"\"},\"colorscale\":[[0.0,\"#0d0887\"],[0.1111111111111111,\"#46039f\"],[0.2222222222222222,\"#7201a8\"],[0.3333333333333333,\"#9c179e\"],[0.4444444444444444,\"#bd3786\"],[0.5555555555555556,\"#d8576b\"],[0.6666666666666666,\"#ed7953\"],[0.7777777777777778,\"#fb9f3a\"],[0.8888888888888888,\"#fdca26\"],[1.0,\"#f0f921\"]]}],\"contourcarpet\":[{\"type\":\"contourcarpet\",\"colorbar\":{\"outlinewidth\":0,\"ticks\":\"\"}}],\"contour\":[{\"type\":\"contour\",\"colorbar\":{\"outlinewidth\":0,\"ticks\":\"\"},\"colorscale\":[[0.0,\"#0d0887\"],[0.1111111111111111,\"#46039f\"],[0.2222222222222222,\"#7201a8\"],[0.3333333333333333,\"#9c179e\"],[0.4444444444444444,\"#bd3786\"],[0.5555555555555556,\"#d8576b\"],[0.6666666666666666,\"#ed7953\"],[0.7777777777777778,\"#fb9f3a\"],[0.8888888888888888,\"#fdca26\"],[1.0,\"#f0f921\"]]}],\"surface\":[{\"type\":\"surface\",\"colorbar\":{\"outlinewidth\":0,\"ticks\":\"\"},\"colorscale\":[[0.0,\"#0d0887\"],[0.1111111111111111,\"#46039f\"],[0.2222222222222222,\"#7201a8\"],[0.3333333333333333,\"#9c179e\"],[0.4444444444444444,\"#bd3786\"],[0.5555555555555556,\"#d8576b\"],[0.6666666666666666,\"#ed7953\"],[0.7777777777777778,\"#fb9f3a\"],[0.8888888888888888,\"#fdca26\"],[1.0,\"#f0f921\"]]}],\"mesh3d\":[{\"type\":\"mesh3d\",\"colorbar\":{\"outlinewidth\":0,\"ticks\":\"\"}}],\"scatter\":[{\"marker\":{\"line\":{\"color\":\"#283442\"}},\"type\":\"scatter\"}],\"parcoords\":[{\"type\":\"parcoords\",\"line\":{\"colorbar\":{\"outlinewidth\":0,\"ticks\":\"\"}}}],\"scatterpolargl\":[{\"type\":\"scatterpolargl\",\"marker\":{\"colorbar\":{\"outlinewidth\":0,\"ticks\":\"\"}}}],\"bar\":[{\"error_x\":{\"color\":\"#f2f5fa\"},\"error_y\":{\"color\":\"#f2f5fa\"},\"marker\":{\"line\":{\"color\":\"rgb(17,17,17)\",\"width\":0.5},\"pattern\":{\"fillmode\":\"overlay\",\"size\":10,\"solidity\":0.2}},\"type\":\"bar\"}],\"scattergeo\":[{\"type\":\"scattergeo\",\"marker\":{\"colorbar\":{\"outlinewidth\":0,\"ticks\":\"\"}}}],\"scatterpolar\":[{\"type\":\"scatterpolar\",\"marker\":{\"colorbar\":{\"outlinewidth\":0,\"ticks\":\"\"}}}],\"histogram\":[{\"marker\":{\"pattern\":{\"fillmode\":\"overlay\",\"size\":10,\"solidity\":0.2}},\"type\":\"histogram\"}],\"scattergl\":[{\"marker\":{\"line\":{\"color\":\"#283442\"}},\"type\":\"scattergl\"}],\"scatter3d\":[{\"type\":\"scatter3d\",\"line\":{\"colorbar\":{\"outlinewidth\":0,\"ticks\":\"\"}},\"marker\":{\"colorbar\":{\"outlinewidth\":0,\"ticks\":\"\"}}}],\"scattermapbox\":[{\"type\":\"scattermapbox\",\"marker\":{\"colorbar\":{\"outlinewidth\":0,\"ticks\":\"\"}}}],\"scatterternary\":[{\"type\":\"scatterternary\",\"marker\":{\"colorbar\":{\"outlinewidth\":0,\"ticks\":\"\"}}}],\"scattercarpet\":[{\"type\":\"scattercarpet\",\"marker\":{\"colorbar\":{\"outlinewidth\":0,\"ticks\":\"\"}}}],\"carpet\":[{\"aaxis\":{\"endlinecolor\":\"#A2B1C6\",\"gridcolor\":\"#506784\",\"linecolor\":\"#506784\",\"minorgridcolor\":\"#506784\",\"startlinecolor\":\"#A2B1C6\"},\"baxis\":{\"endlinecolor\":\"#A2B1C6\",\"gridcolor\":\"#506784\",\"linecolor\":\"#506784\",\"minorgridcolor\":\"#506784\",\"startlinecolor\":\"#A2B1C6\"},\"type\":\"carpet\"}],\"table\":[{\"cells\":{\"fill\":{\"color\":\"#506784\"},\"line\":{\"color\":\"rgb(17,17,17)\"}},\"header\":{\"fill\":{\"color\":\"#2a3f5f\"},\"line\":{\"color\":\"rgb(17,17,17)\"}},\"type\":\"table\"}],\"barpolar\":[{\"marker\":{\"line\":{\"color\":\"rgb(17,17,17)\",\"width\":0.5},\"pattern\":{\"fillmode\":\"overlay\",\"size\":10,\"solidity\":0.2}},\"type\":\"barpolar\"}],\"pie\":[{\"automargin\":true,\"type\":\"pie\"}]},\"layout\":{\"autotypenumbers\":\"strict\",\"colorway\":[\"#636efa\",\"#EF553B\",\"#00cc96\",\"#ab63fa\",\"#FFA15A\",\"#19d3f3\",\"#FF6692\",\"#B6E880\",\"#FF97FF\",\"#FECB52\"],\"font\":{\"color\":\"#f2f5fa\"},\"hovermode\":\"closest\",\"hoverlabel\":{\"align\":\"left\"},\"paper_bgcolor\":\"rgb(17,17,17)\",\"plot_bgcolor\":\"rgb(17,17,17)\",\"polar\":{\"bgcolor\":\"rgb(17,17,17)\",\"angularaxis\":{\"gridcolor\":\"#506784\",\"linecolor\":\"#506784\",\"ticks\":\"\"},\"radialaxis\":{\"gridcolor\":\"#506784\",\"linecolor\":\"#506784\",\"ticks\":\"\"}},\"ternary\":{\"bgcolor\":\"rgb(17,17,17)\",\"aaxis\":{\"gridcolor\":\"#506784\",\"linecolor\":\"#506784\",\"ticks\":\"\"},\"baxis\":{\"gridcolor\":\"#506784\",\"linecolor\":\"#506784\",\"ticks\":\"\"},\"caxis\":{\"gridcolor\":\"#506784\",\"linecolor\":\"#506784\",\"ticks\":\"\"}},\"coloraxis\":{\"colorbar\":{\"outlinewidth\":0,\"ticks\":\"\"}},\"colorscale\":{\"sequential\":[[0.0,\"#0d0887\"],[0.1111111111111111,\"#46039f\"],[0.2222222222222222,\"#7201a8\"],[0.3333333333333333,\"#9c179e\"],[0.4444444444444444,\"#bd3786\"],[0.5555555555555556,\"#d8576b\"],[0.6666666666666666,\"#ed7953\"],[0.7777777777777778,\"#fb9f3a\"],[0.8888888888888888,\"#fdca26\"],[1.0,\"#f0f921\"]],\"sequentialminus\":[[0.0,\"#0d0887\"],[0.1111111111111111,\"#46039f\"],[0.2222222222222222,\"#7201a8\"],[0.3333333333333333,\"#9c179e\"],[0.4444444444444444,\"#bd3786\"],[0.5555555555555556,\"#d8576b\"],[0.6666666666666666,\"#ed7953\"],[0.7777777777777778,\"#fb9f3a\"],[0.8888888888888888,\"#fdca26\"],[1.0,\"#f0f921\"]],\"diverging\":[[0,\"#8e0152\"],[0.1,\"#c51b7d\"],[0.2,\"#de77ae\"],[0.3,\"#f1b6da\"],[0.4,\"#fde0ef\"],[0.5,\"#f7f7f7\"],[0.6,\"#e6f5d0\"],[0.7,\"#b8e186\"],[0.8,\"#7fbc41\"],[0.9,\"#4d9221\"],[1,\"#276419\"]]},\"xaxis\":{\"gridcolor\":\"#283442\",\"linecolor\":\"#506784\",\"ticks\":\"\",\"title\":{\"standoff\":15},\"zerolinecolor\":\"#283442\",\"automargin\":true,\"zerolinewidth\":2},\"yaxis\":{\"gridcolor\":\"#283442\",\"linecolor\":\"#506784\",\"ticks\":\"\",\"title\":{\"standoff\":15},\"zerolinecolor\":\"#283442\",\"automargin\":true,\"zerolinewidth\":2},\"scene\":{\"xaxis\":{\"backgroundcolor\":\"rgb(17,17,17)\",\"gridcolor\":\"#506784\",\"linecolor\":\"#506784\",\"showbackground\":true,\"ticks\":\"\",\"zerolinecolor\":\"#C8D4E3\",\"gridwidth\":2},\"yaxis\":{\"backgroundcolor\":\"rgb(17,17,17)\",\"gridcolor\":\"#506784\",\"linecolor\":\"#506784\",\"showbackground\":true,\"ticks\":\"\",\"zerolinecolor\":\"#C8D4E3\",\"gridwidth\":2},\"zaxis\":{\"backgroundcolor\":\"rgb(17,17,17)\",\"gridcolor\":\"#506784\",\"linecolor\":\"#506784\",\"showbackground\":true,\"ticks\":\"\",\"zerolinecolor\":\"#C8D4E3\",\"gridwidth\":2}},\"shapedefaults\":{\"line\":{\"color\":\"#f2f5fa\"}},\"annotationdefaults\":{\"arrowcolor\":\"#f2f5fa\",\"arrowhead\":0,\"arrowwidth\":1},\"geo\":{\"bgcolor\":\"rgb(17,17,17)\",\"landcolor\":\"rgb(17,17,17)\",\"subunitcolor\":\"#506784\",\"showland\":true,\"showlakes\":true,\"lakecolor\":\"rgb(17,17,17)\"},\"title\":{\"x\":0.05},\"updatemenudefaults\":{\"bgcolor\":\"#506784\",\"borderwidth\":0},\"sliderdefaults\":{\"bgcolor\":\"#C8D4E3\",\"borderwidth\":1,\"bordercolor\":\"rgb(17,17,17)\",\"tickwidth\":0},\"mapbox\":{\"style\":\"dark\"}}},\"xaxis\":{\"anchor\":\"y\",\"domain\":[0.0,1.0],\"title\":{\"text\":\"Nr of authors\"}},\"yaxis\":{\"anchor\":\"x\",\"domain\":[0.0,1.0],\"title\":{\"text\":\"count\"}},\"legend\":{\"tracegroupgap\":0},\"margin\":{\"t\":60},\"barmode\":\"relative\"},                        {\"responsive\": true}                    ).then(function(){\n                            \nvar gd = document.getElementById('f60a5d0b-bd5f-4a3e-9b87-f898c2531ea2');\nvar x = new MutationObserver(function (mutations, observer) {{\n        var display = window.getComputedStyle(gd).display;\n        if (!display || display === 'none') {{\n            console.log([gd, 'removed!']);\n            Plotly.purge(gd);\n            observer.disconnect();\n        }}\n}});\n\n// Listen for the removal of the full notebook cells\nvar notebookContainer = gd.closest('#notebook-container');\nif (notebookContainer) {{\n    x.observe(notebookContainer, {childList: true});\n}}\n\n// Listen for the clearing of the current output cell\nvar outputEl = gd.closest('.output');\nif (outputEl) {{\n    x.observe(outputEl, {childList: true});\n}}\n\n                        })                };                });            </script>        </div>"
     },
     "metadata": {},
     "output_type": "display_data"
    },
    {
     "data": {
      "application/vnd.plotly.v1+json": {
       "data": [
        {
         "alignmentgroup": "True",
         "bingroup": "x",
         "hovertemplate": "Nr of authors=%{x}<br>count=%{y}<extra></extra>",
         "legendgroup": "",
         "marker": {
          "color": "#636efa",
          "pattern": {
           "shape": ""
          }
         },
         "name": "",
         "offsetgroup": "",
         "orientation": "v",
         "showlegend": false,
         "x": [
          13,
          8,
          7,
          6,
          6,
          5,
          5,
          5,
          5,
          5,
          4,
          4,
          4,
          4,
          4,
          4,
          4,
          4,
          4,
          4,
          4,
          4,
          4,
          4,
          4,
          4,
          4,
          4,
          4,
          4,
          3,
          3,
          3,
          3,
          3,
          3,
          3,
          3,
          3,
          3,
          3,
          3,
          3,
          3,
          3,
          3,
          3,
          3,
          3,
          3,
          3,
          3,
          3,
          3,
          3,
          3,
          3,
          3,
          3,
          3,
          3,
          3,
          3,
          3,
          3,
          3,
          3,
          3,
          3,
          3,
          3,
          3,
          3,
          3,
          3,
          3,
          3,
          3,
          3,
          3,
          3,
          3,
          3,
          3,
          3,
          3,
          3,
          3,
          3,
          3,
          3,
          3,
          3,
          3,
          3,
          2,
          2,
          2,
          2,
          2,
          2,
          2,
          2,
          2,
          2,
          2,
          2,
          2,
          2,
          2,
          2,
          2,
          2,
          2,
          2,
          2,
          2,
          2,
          2,
          2,
          2,
          2,
          2,
          2,
          2,
          2,
          2,
          2,
          2,
          2,
          2,
          2,
          2,
          2,
          2,
          2,
          2,
          2,
          2,
          2,
          2,
          2,
          2,
          2,
          2,
          2,
          2,
          2,
          2,
          2,
          2,
          2,
          2,
          2,
          2,
          2,
          2,
          2,
          2,
          2,
          2,
          2,
          2,
          2,
          2,
          2,
          2,
          2,
          2,
          2,
          2,
          2,
          2,
          2,
          2,
          2,
          2,
          2,
          2,
          2,
          2,
          2,
          2,
          2,
          2,
          2,
          2,
          2,
          2,
          2,
          2,
          2,
          2,
          2,
          2,
          2,
          2,
          2,
          2,
          2,
          2,
          2,
          2,
          2,
          2,
          2,
          2,
          2,
          2,
          2,
          2,
          2,
          2,
          2,
          2,
          2,
          2,
          2,
          2,
          2,
          2,
          2,
          2,
          2,
          2,
          2,
          2,
          2,
          2,
          2,
          2,
          2,
          2,
          2,
          2,
          2,
          2,
          2,
          2,
          2,
          2,
          2,
          2,
          2,
          2,
          2,
          2,
          2,
          2,
          2,
          2,
          2,
          2,
          2,
          2,
          2,
          2,
          2,
          2,
          2,
          2,
          2,
          2,
          2,
          2,
          2,
          2,
          2,
          2,
          2,
          2,
          2,
          2,
          2,
          2,
          2,
          2,
          2,
          2,
          2,
          2,
          2,
          2,
          2,
          2,
          2,
          2,
          2,
          2,
          2,
          2,
          2,
          2,
          2,
          2,
          2,
          2,
          2,
          2,
          2,
          2,
          2,
          2,
          2,
          2,
          2,
          2,
          2,
          2,
          2,
          2,
          2,
          2,
          2,
          2,
          2,
          2,
          2,
          2,
          2,
          2,
          2,
          2,
          2,
          2,
          2,
          2,
          2,
          2,
          2,
          2,
          2,
          2,
          2,
          2,
          2,
          2,
          2,
          2,
          2,
          2,
          2,
          2,
          2,
          2,
          2,
          2,
          2,
          2,
          2,
          2,
          2,
          2,
          2,
          2,
          2,
          1,
          1,
          1,
          1,
          1,
          1,
          1,
          1,
          1,
          1,
          1,
          1,
          1,
          1,
          1,
          1,
          1,
          1,
          1,
          1,
          1,
          1,
          1,
          1,
          1,
          1,
          1,
          1,
          1,
          1,
          1,
          1,
          1,
          1,
          1,
          1,
          1,
          1,
          1,
          1,
          1,
          1,
          1,
          1,
          1,
          1,
          1,
          1,
          1,
          1,
          1,
          1,
          1,
          1,
          1,
          1,
          1,
          1,
          1,
          1,
          1,
          1,
          1,
          1,
          1,
          1,
          1,
          1,
          1,
          1,
          1,
          1,
          1,
          1,
          1,
          1,
          1,
          1,
          1,
          1,
          1,
          1,
          1,
          1,
          1,
          1,
          1,
          1,
          1,
          1,
          1,
          1,
          1,
          1,
          1,
          1,
          1,
          1,
          1,
          1,
          1,
          1,
          1,
          1,
          1,
          1,
          1,
          1,
          1,
          1,
          1,
          1,
          1,
          1,
          1,
          1,
          1,
          1,
          1,
          1,
          1,
          1,
          1,
          1,
          1,
          1,
          1,
          1,
          1,
          1,
          1,
          1,
          1,
          1,
          1,
          1,
          1,
          1,
          1,
          1,
          1,
          1,
          1,
          1,
          1,
          1,
          1,
          1,
          1,
          1,
          1,
          1,
          1,
          1,
          1,
          1,
          1,
          1,
          1,
          1,
          1,
          1,
          1,
          1,
          1,
          1,
          1,
          1,
          1,
          1,
          1,
          1,
          1,
          1,
          1,
          1,
          1,
          1,
          1,
          1,
          1,
          1,
          1,
          1,
          1,
          1,
          1,
          1,
          1,
          1,
          1,
          1,
          1,
          1,
          1,
          1,
          1,
          1,
          1,
          1,
          1,
          1,
          1,
          1,
          1,
          1,
          1,
          1,
          1,
          1,
          1,
          1,
          1,
          1,
          1,
          1,
          1,
          1,
          1,
          1,
          1,
          1,
          1,
          1,
          1,
          1,
          1,
          1,
          1,
          1,
          1,
          1,
          1,
          1,
          1,
          1,
          1,
          1,
          1,
          1,
          1,
          1,
          1,
          1,
          1,
          1,
          1,
          1,
          1,
          1,
          1,
          1,
          1,
          1,
          1,
          1,
          1,
          1,
          1,
          1,
          1,
          1,
          1,
          1,
          1,
          1,
          1,
          1,
          1,
          1,
          1,
          1,
          1,
          1,
          1,
          1,
          1,
          1,
          1,
          1,
          1,
          1,
          1,
          1,
          1,
          1,
          1,
          1,
          1,
          1,
          1,
          1,
          1,
          1,
          1,
          1,
          1,
          1,
          1,
          1,
          1,
          1,
          1,
          1,
          1,
          1,
          1,
          1,
          1,
          1,
          1,
          1,
          1,
          1,
          1,
          1,
          1,
          1,
          1,
          1,
          1,
          1,
          1,
          1,
          1,
          1,
          1,
          1,
          1,
          1,
          1,
          1,
          1,
          1,
          1,
          1,
          1,
          1,
          1,
          1,
          1,
          1,
          1,
          1,
          1,
          1,
          1,
          1,
          1,
          1,
          1,
          1,
          1,
          1,
          1,
          1,
          1,
          1,
          1,
          1,
          1,
          1,
          1,
          1,
          1,
          1,
          1,
          1,
          1,
          1,
          1,
          1,
          1,
          1,
          1,
          1,
          1,
          1,
          1,
          1,
          1,
          1,
          1,
          1,
          1,
          1,
          1,
          1,
          1,
          1,
          1,
          1,
          1,
          1,
          1,
          1,
          1,
          1,
          1,
          1,
          1,
          1,
          1,
          1,
          1,
          1,
          1,
          1,
          1,
          1,
          1,
          1,
          1,
          1,
          1,
          1,
          1,
          1,
          1,
          1,
          1,
          1,
          1,
          1,
          1,
          1,
          1,
          1,
          1,
          1,
          1,
          1,
          1,
          1,
          1,
          1,
          1,
          1,
          1,
          1,
          1,
          1,
          1,
          1,
          1,
          1,
          1,
          1,
          1,
          1,
          1,
          1,
          1,
          1,
          1,
          1,
          1,
          1,
          1,
          1,
          1,
          1,
          1,
          1,
          1,
          1,
          1,
          1,
          1,
          1,
          1,
          1,
          1,
          1,
          1,
          1,
          1,
          1,
          1,
          1,
          1,
          1,
          1,
          1,
          1,
          1,
          1,
          1,
          1,
          1,
          1,
          1,
          1,
          1,
          1,
          1,
          1,
          1,
          1,
          1,
          1,
          1,
          1,
          1,
          1,
          1,
          1,
          1,
          1,
          1,
          1,
          1,
          1,
          1,
          1,
          1,
          1,
          1,
          1,
          1,
          1,
          1,
          1,
          1,
          1,
          1,
          1,
          1,
          1,
          1,
          1,
          1,
          1,
          1,
          1,
          1,
          1,
          1,
          1,
          1,
          1,
          1,
          1,
          1,
          1,
          1,
          1,
          1,
          1,
          1,
          1,
          1,
          1,
          1,
          1,
          1,
          1,
          1,
          1,
          1,
          1,
          1,
          1,
          1,
          1,
          1,
          1,
          1,
          1,
          1,
          1,
          1,
          1,
          1,
          1,
          1,
          1,
          1,
          1,
          1,
          1,
          1,
          1,
          1,
          1,
          1,
          1,
          1,
          1,
          1,
          1,
          1,
          1,
          1,
          1,
          1,
          1,
          1,
          1,
          1,
          1,
          1,
          1,
          1,
          1,
          1,
          1,
          1,
          1,
          1,
          1,
          1,
          1,
          1,
          1,
          1,
          1,
          1,
          1,
          1,
          1,
          1,
          1,
          1,
          1,
          1,
          1,
          1,
          1,
          1,
          1,
          1,
          1,
          1,
          1,
          1,
          1,
          1,
          1,
          1,
          1,
          1,
          1,
          1,
          1,
          1,
          1,
          1,
          1,
          1,
          1,
          1,
          1,
          1,
          1,
          1,
          1,
          1,
          1,
          1,
          1,
          1,
          1,
          1,
          1,
          1,
          1,
          1,
          1,
          1,
          1,
          1,
          1,
          1,
          1,
          1,
          1,
          1,
          1,
          1,
          1,
          1,
          1,
          1,
          1,
          1,
          1,
          1,
          1,
          1,
          1,
          1,
          1,
          1,
          1,
          1,
          1,
          1,
          1,
          1,
          1,
          1,
          1,
          1,
          1,
          1,
          1,
          1,
          1,
          1,
          1,
          1,
          1,
          1,
          1,
          1,
          1,
          1,
          1,
          1,
          1,
          1,
          1,
          1,
          1,
          1,
          1,
          1,
          1,
          1,
          1,
          1,
          1,
          1,
          1,
          1,
          1,
          1,
          1,
          1,
          1,
          1,
          1,
          1,
          1,
          1,
          1,
          1,
          1,
          1,
          1,
          1,
          1,
          1,
          1,
          1,
          1,
          1,
          1,
          1,
          1,
          1,
          1,
          1,
          1,
          1,
          1,
          1,
          1,
          1,
          1,
          1,
          1,
          1,
          1,
          1,
          1,
          1,
          1,
          1,
          1,
          1,
          1,
          1,
          1,
          1,
          1,
          1,
          1,
          1,
          1,
          1,
          1,
          1,
          1,
          1,
          1,
          1,
          1,
          1,
          1,
          1,
          1,
          1,
          1,
          1,
          1,
          1,
          1,
          1,
          1,
          1,
          1,
          1,
          1,
          1,
          1,
          1,
          1,
          1,
          1,
          1,
          1,
          1,
          1,
          1,
          1,
          1,
          1,
          1,
          1,
          1,
          1,
          1,
          1,
          1,
          1,
          1,
          1,
          1,
          1,
          1,
          1,
          1,
          1,
          1,
          1,
          1,
          1,
          1,
          1,
          1,
          1,
          1,
          1,
          1,
          1,
          1,
          1,
          1,
          1,
          1,
          1,
          1,
          1,
          1,
          1,
          1,
          1,
          1,
          1,
          1,
          1,
          1,
          1,
          1,
          1,
          1,
          1,
          1,
          1,
          1,
          1,
          1,
          1,
          1,
          1,
          1,
          1,
          1,
          1,
          1,
          1,
          1,
          1,
          1,
          1,
          1,
          1,
          1,
          1,
          1,
          1,
          1,
          1,
          1,
          1,
          1,
          1,
          1,
          1,
          1,
          1,
          1,
          1,
          1,
          1,
          1,
          1,
          1,
          1,
          1,
          1,
          1,
          1,
          1,
          1,
          1,
          1,
          1,
          1,
          1,
          1,
          1,
          1,
          1,
          1,
          1,
          1,
          1,
          1,
          1,
          1,
          1,
          1,
          1,
          1,
          1,
          1,
          1,
          1,
          1,
          1,
          1,
          1,
          1,
          1,
          1,
          1
         ],
         "xaxis": "x",
         "yaxis": "y",
         "type": "histogram"
        }
       ],
       "layout": {
        "template": {
         "data": {
          "histogram2dcontour": [
           {
            "type": "histogram2dcontour",
            "colorbar": {
             "outlinewidth": 0,
             "ticks": ""
            },
            "colorscale": [
             [
              0.0,
              "#0d0887"
             ],
             [
              0.1111111111111111,
              "#46039f"
             ],
             [
              0.2222222222222222,
              "#7201a8"
             ],
             [
              0.3333333333333333,
              "#9c179e"
             ],
             [
              0.4444444444444444,
              "#bd3786"
             ],
             [
              0.5555555555555556,
              "#d8576b"
             ],
             [
              0.6666666666666666,
              "#ed7953"
             ],
             [
              0.7777777777777778,
              "#fb9f3a"
             ],
             [
              0.8888888888888888,
              "#fdca26"
             ],
             [
              1.0,
              "#f0f921"
             ]
            ]
           }
          ],
          "choropleth": [
           {
            "type": "choropleth",
            "colorbar": {
             "outlinewidth": 0,
             "ticks": ""
            }
           }
          ],
          "histogram2d": [
           {
            "type": "histogram2d",
            "colorbar": {
             "outlinewidth": 0,
             "ticks": ""
            },
            "colorscale": [
             [
              0.0,
              "#0d0887"
             ],
             [
              0.1111111111111111,
              "#46039f"
             ],
             [
              0.2222222222222222,
              "#7201a8"
             ],
             [
              0.3333333333333333,
              "#9c179e"
             ],
             [
              0.4444444444444444,
              "#bd3786"
             ],
             [
              0.5555555555555556,
              "#d8576b"
             ],
             [
              0.6666666666666666,
              "#ed7953"
             ],
             [
              0.7777777777777778,
              "#fb9f3a"
             ],
             [
              0.8888888888888888,
              "#fdca26"
             ],
             [
              1.0,
              "#f0f921"
             ]
            ]
           }
          ],
          "heatmap": [
           {
            "type": "heatmap",
            "colorbar": {
             "outlinewidth": 0,
             "ticks": ""
            },
            "colorscale": [
             [
              0.0,
              "#0d0887"
             ],
             [
              0.1111111111111111,
              "#46039f"
             ],
             [
              0.2222222222222222,
              "#7201a8"
             ],
             [
              0.3333333333333333,
              "#9c179e"
             ],
             [
              0.4444444444444444,
              "#bd3786"
             ],
             [
              0.5555555555555556,
              "#d8576b"
             ],
             [
              0.6666666666666666,
              "#ed7953"
             ],
             [
              0.7777777777777778,
              "#fb9f3a"
             ],
             [
              0.8888888888888888,
              "#fdca26"
             ],
             [
              1.0,
              "#f0f921"
             ]
            ]
           }
          ],
          "heatmapgl": [
           {
            "type": "heatmapgl",
            "colorbar": {
             "outlinewidth": 0,
             "ticks": ""
            },
            "colorscale": [
             [
              0.0,
              "#0d0887"
             ],
             [
              0.1111111111111111,
              "#46039f"
             ],
             [
              0.2222222222222222,
              "#7201a8"
             ],
             [
              0.3333333333333333,
              "#9c179e"
             ],
             [
              0.4444444444444444,
              "#bd3786"
             ],
             [
              0.5555555555555556,
              "#d8576b"
             ],
             [
              0.6666666666666666,
              "#ed7953"
             ],
             [
              0.7777777777777778,
              "#fb9f3a"
             ],
             [
              0.8888888888888888,
              "#fdca26"
             ],
             [
              1.0,
              "#f0f921"
             ]
            ]
           }
          ],
          "contourcarpet": [
           {
            "type": "contourcarpet",
            "colorbar": {
             "outlinewidth": 0,
             "ticks": ""
            }
           }
          ],
          "contour": [
           {
            "type": "contour",
            "colorbar": {
             "outlinewidth": 0,
             "ticks": ""
            },
            "colorscale": [
             [
              0.0,
              "#0d0887"
             ],
             [
              0.1111111111111111,
              "#46039f"
             ],
             [
              0.2222222222222222,
              "#7201a8"
             ],
             [
              0.3333333333333333,
              "#9c179e"
             ],
             [
              0.4444444444444444,
              "#bd3786"
             ],
             [
              0.5555555555555556,
              "#d8576b"
             ],
             [
              0.6666666666666666,
              "#ed7953"
             ],
             [
              0.7777777777777778,
              "#fb9f3a"
             ],
             [
              0.8888888888888888,
              "#fdca26"
             ],
             [
              1.0,
              "#f0f921"
             ]
            ]
           }
          ],
          "surface": [
           {
            "type": "surface",
            "colorbar": {
             "outlinewidth": 0,
             "ticks": ""
            },
            "colorscale": [
             [
              0.0,
              "#0d0887"
             ],
             [
              0.1111111111111111,
              "#46039f"
             ],
             [
              0.2222222222222222,
              "#7201a8"
             ],
             [
              0.3333333333333333,
              "#9c179e"
             ],
             [
              0.4444444444444444,
              "#bd3786"
             ],
             [
              0.5555555555555556,
              "#d8576b"
             ],
             [
              0.6666666666666666,
              "#ed7953"
             ],
             [
              0.7777777777777778,
              "#fb9f3a"
             ],
             [
              0.8888888888888888,
              "#fdca26"
             ],
             [
              1.0,
              "#f0f921"
             ]
            ]
           }
          ],
          "mesh3d": [
           {
            "type": "mesh3d",
            "colorbar": {
             "outlinewidth": 0,
             "ticks": ""
            }
           }
          ],
          "scatter": [
           {
            "marker": {
             "line": {
              "color": "#283442"
             }
            },
            "type": "scatter"
           }
          ],
          "parcoords": [
           {
            "type": "parcoords",
            "line": {
             "colorbar": {
              "outlinewidth": 0,
              "ticks": ""
             }
            }
           }
          ],
          "scatterpolargl": [
           {
            "type": "scatterpolargl",
            "marker": {
             "colorbar": {
              "outlinewidth": 0,
              "ticks": ""
             }
            }
           }
          ],
          "bar": [
           {
            "error_x": {
             "color": "#f2f5fa"
            },
            "error_y": {
             "color": "#f2f5fa"
            },
            "marker": {
             "line": {
              "color": "rgb(17,17,17)",
              "width": 0.5
             },
             "pattern": {
              "fillmode": "overlay",
              "size": 10,
              "solidity": 0.2
             }
            },
            "type": "bar"
           }
          ],
          "scattergeo": [
           {
            "type": "scattergeo",
            "marker": {
             "colorbar": {
              "outlinewidth": 0,
              "ticks": ""
             }
            }
           }
          ],
          "scatterpolar": [
           {
            "type": "scatterpolar",
            "marker": {
             "colorbar": {
              "outlinewidth": 0,
              "ticks": ""
             }
            }
           }
          ],
          "histogram": [
           {
            "marker": {
             "pattern": {
              "fillmode": "overlay",
              "size": 10,
              "solidity": 0.2
             }
            },
            "type": "histogram"
           }
          ],
          "scattergl": [
           {
            "marker": {
             "line": {
              "color": "#283442"
             }
            },
            "type": "scattergl"
           }
          ],
          "scatter3d": [
           {
            "type": "scatter3d",
            "line": {
             "colorbar": {
              "outlinewidth": 0,
              "ticks": ""
             }
            },
            "marker": {
             "colorbar": {
              "outlinewidth": 0,
              "ticks": ""
             }
            }
           }
          ],
          "scattermapbox": [
           {
            "type": "scattermapbox",
            "marker": {
             "colorbar": {
              "outlinewidth": 0,
              "ticks": ""
             }
            }
           }
          ],
          "scatterternary": [
           {
            "type": "scatterternary",
            "marker": {
             "colorbar": {
              "outlinewidth": 0,
              "ticks": ""
             }
            }
           }
          ],
          "scattercarpet": [
           {
            "type": "scattercarpet",
            "marker": {
             "colorbar": {
              "outlinewidth": 0,
              "ticks": ""
             }
            }
           }
          ],
          "carpet": [
           {
            "aaxis": {
             "endlinecolor": "#A2B1C6",
             "gridcolor": "#506784",
             "linecolor": "#506784",
             "minorgridcolor": "#506784",
             "startlinecolor": "#A2B1C6"
            },
            "baxis": {
             "endlinecolor": "#A2B1C6",
             "gridcolor": "#506784",
             "linecolor": "#506784",
             "minorgridcolor": "#506784",
             "startlinecolor": "#A2B1C6"
            },
            "type": "carpet"
           }
          ],
          "table": [
           {
            "cells": {
             "fill": {
              "color": "#506784"
             },
             "line": {
              "color": "rgb(17,17,17)"
             }
            },
            "header": {
             "fill": {
              "color": "#2a3f5f"
             },
             "line": {
              "color": "rgb(17,17,17)"
             }
            },
            "type": "table"
           }
          ],
          "barpolar": [
           {
            "marker": {
             "line": {
              "color": "rgb(17,17,17)",
              "width": 0.5
             },
             "pattern": {
              "fillmode": "overlay",
              "size": 10,
              "solidity": 0.2
             }
            },
            "type": "barpolar"
           }
          ],
          "pie": [
           {
            "automargin": true,
            "type": "pie"
           }
          ]
         },
         "layout": {
          "autotypenumbers": "strict",
          "colorway": [
           "#636efa",
           "#EF553B",
           "#00cc96",
           "#ab63fa",
           "#FFA15A",
           "#19d3f3",
           "#FF6692",
           "#B6E880",
           "#FF97FF",
           "#FECB52"
          ],
          "font": {
           "color": "#f2f5fa"
          },
          "hovermode": "closest",
          "hoverlabel": {
           "align": "left"
          },
          "paper_bgcolor": "rgb(17,17,17)",
          "plot_bgcolor": "rgb(17,17,17)",
          "polar": {
           "bgcolor": "rgb(17,17,17)",
           "angularaxis": {
            "gridcolor": "#506784",
            "linecolor": "#506784",
            "ticks": ""
           },
           "radialaxis": {
            "gridcolor": "#506784",
            "linecolor": "#506784",
            "ticks": ""
           }
          },
          "ternary": {
           "bgcolor": "rgb(17,17,17)",
           "aaxis": {
            "gridcolor": "#506784",
            "linecolor": "#506784",
            "ticks": ""
           },
           "baxis": {
            "gridcolor": "#506784",
            "linecolor": "#506784",
            "ticks": ""
           },
           "caxis": {
            "gridcolor": "#506784",
            "linecolor": "#506784",
            "ticks": ""
           }
          },
          "coloraxis": {
           "colorbar": {
            "outlinewidth": 0,
            "ticks": ""
           }
          },
          "colorscale": {
           "sequential": [
            [
             0.0,
             "#0d0887"
            ],
            [
             0.1111111111111111,
             "#46039f"
            ],
            [
             0.2222222222222222,
             "#7201a8"
            ],
            [
             0.3333333333333333,
             "#9c179e"
            ],
            [
             0.4444444444444444,
             "#bd3786"
            ],
            [
             0.5555555555555556,
             "#d8576b"
            ],
            [
             0.6666666666666666,
             "#ed7953"
            ],
            [
             0.7777777777777778,
             "#fb9f3a"
            ],
            [
             0.8888888888888888,
             "#fdca26"
            ],
            [
             1.0,
             "#f0f921"
            ]
           ],
           "sequentialminus": [
            [
             0.0,
             "#0d0887"
            ],
            [
             0.1111111111111111,
             "#46039f"
            ],
            [
             0.2222222222222222,
             "#7201a8"
            ],
            [
             0.3333333333333333,
             "#9c179e"
            ],
            [
             0.4444444444444444,
             "#bd3786"
            ],
            [
             0.5555555555555556,
             "#d8576b"
            ],
            [
             0.6666666666666666,
             "#ed7953"
            ],
            [
             0.7777777777777778,
             "#fb9f3a"
            ],
            [
             0.8888888888888888,
             "#fdca26"
            ],
            [
             1.0,
             "#f0f921"
            ]
           ],
           "diverging": [
            [
             0,
             "#8e0152"
            ],
            [
             0.1,
             "#c51b7d"
            ],
            [
             0.2,
             "#de77ae"
            ],
            [
             0.3,
             "#f1b6da"
            ],
            [
             0.4,
             "#fde0ef"
            ],
            [
             0.5,
             "#f7f7f7"
            ],
            [
             0.6,
             "#e6f5d0"
            ],
            [
             0.7,
             "#b8e186"
            ],
            [
             0.8,
             "#7fbc41"
            ],
            [
             0.9,
             "#4d9221"
            ],
            [
             1,
             "#276419"
            ]
           ]
          },
          "xaxis": {
           "gridcolor": "#283442",
           "linecolor": "#506784",
           "ticks": "",
           "title": {
            "standoff": 15
           },
           "zerolinecolor": "#283442",
           "automargin": true,
           "zerolinewidth": 2
          },
          "yaxis": {
           "gridcolor": "#283442",
           "linecolor": "#506784",
           "ticks": "",
           "title": {
            "standoff": 15
           },
           "zerolinecolor": "#283442",
           "automargin": true,
           "zerolinewidth": 2
          },
          "scene": {
           "xaxis": {
            "backgroundcolor": "rgb(17,17,17)",
            "gridcolor": "#506784",
            "linecolor": "#506784",
            "showbackground": true,
            "ticks": "",
            "zerolinecolor": "#C8D4E3",
            "gridwidth": 2
           },
           "yaxis": {
            "backgroundcolor": "rgb(17,17,17)",
            "gridcolor": "#506784",
            "linecolor": "#506784",
            "showbackground": true,
            "ticks": "",
            "zerolinecolor": "#C8D4E3",
            "gridwidth": 2
           },
           "zaxis": {
            "backgroundcolor": "rgb(17,17,17)",
            "gridcolor": "#506784",
            "linecolor": "#506784",
            "showbackground": true,
            "ticks": "",
            "zerolinecolor": "#C8D4E3",
            "gridwidth": 2
           }
          },
          "shapedefaults": {
           "line": {
            "color": "#f2f5fa"
           }
          },
          "annotationdefaults": {
           "arrowcolor": "#f2f5fa",
           "arrowhead": 0,
           "arrowwidth": 1
          },
          "geo": {
           "bgcolor": "rgb(17,17,17)",
           "landcolor": "rgb(17,17,17)",
           "subunitcolor": "#506784",
           "showland": true,
           "showlakes": true,
           "lakecolor": "rgb(17,17,17)"
          },
          "title": {
           "x": 0.05
          },
          "updatemenudefaults": {
           "bgcolor": "#506784",
           "borderwidth": 0
          },
          "sliderdefaults": {
           "bgcolor": "#C8D4E3",
           "borderwidth": 1,
           "bordercolor": "rgb(17,17,17)",
           "tickwidth": 0
          },
          "mapbox": {
           "style": "dark"
          }
         }
        },
        "xaxis": {
         "anchor": "y",
         "domain": [
          0.0,
          1.0
         ],
         "title": {
          "text": "Nr of authors"
         }
        },
        "yaxis": {
         "anchor": "x",
         "domain": [
          0.0,
          1.0
         ],
         "title": {
          "text": "count"
         },
         "type": "log"
        },
        "legend": {
         "tracegroupgap": 0
        },
        "margin": {
         "t": 60
        },
        "barmode": "relative"
       },
       "config": {
        "plotlyServerURL": "https://plot.ly"
       }
      },
      "text/html": "<div>                            <div id=\"68e58d1f-a87b-4996-8a0f-def9d7886dbf\" class=\"plotly-graph-div\" style=\"height:525px; width:100%;\"></div>            <script type=\"text/javascript\">                require([\"plotly\"], function(Plotly) {                    window.PLOTLYENV=window.PLOTLYENV || {};                                    if (document.getElementById(\"68e58d1f-a87b-4996-8a0f-def9d7886dbf\")) {                    Plotly.newPlot(                        \"68e58d1f-a87b-4996-8a0f-def9d7886dbf\",                        [{\"alignmentgroup\":\"True\",\"bingroup\":\"x\",\"hovertemplate\":\"Nr of authors=%{x}<br>count=%{y}<extra></extra>\",\"legendgroup\":\"\",\"marker\":{\"color\":\"#636efa\",\"pattern\":{\"shape\":\"\"}},\"name\":\"\",\"offsetgroup\":\"\",\"orientation\":\"v\",\"showlegend\":false,\"x\":[13,8,7,6,6,5,5,5,5,5,4,4,4,4,4,4,4,4,4,4,4,4,4,4,4,4,4,4,4,4,3,3,3,3,3,3,3,3,3,3,3,3,3,3,3,3,3,3,3,3,3,3,3,3,3,3,3,3,3,3,3,3,3,3,3,3,3,3,3,3,3,3,3,3,3,3,3,3,3,3,3,3,3,3,3,3,3,3,3,3,3,3,3,3,3,2,2,2,2,2,2,2,2,2,2,2,2,2,2,2,2,2,2,2,2,2,2,2,2,2,2,2,2,2,2,2,2,2,2,2,2,2,2,2,2,2,2,2,2,2,2,2,2,2,2,2,2,2,2,2,2,2,2,2,2,2,2,2,2,2,2,2,2,2,2,2,2,2,2,2,2,2,2,2,2,2,2,2,2,2,2,2,2,2,2,2,2,2,2,2,2,2,2,2,2,2,2,2,2,2,2,2,2,2,2,2,2,2,2,2,2,2,2,2,2,2,2,2,2,2,2,2,2,2,2,2,2,2,2,2,2,2,2,2,2,2,2,2,2,2,2,2,2,2,2,2,2,2,2,2,2,2,2,2,2,2,2,2,2,2,2,2,2,2,2,2,2,2,2,2,2,2,2,2,2,2,2,2,2,2,2,2,2,2,2,2,2,2,2,2,2,2,2,2,2,2,2,2,2,2,2,2,2,2,2,2,2,2,2,2,2,2,2,2,2,2,2,2,2,2,2,2,2,2,2,2,2,2,2,2,2,2,2,2,2,2,2,2,2,2,2,2,2,2,2,2,2,2,2,2,2,2,2,2,2,2,1,1,1,1,1,1,1,1,1,1,1,1,1,1,1,1,1,1,1,1,1,1,1,1,1,1,1,1,1,1,1,1,1,1,1,1,1,1,1,1,1,1,1,1,1,1,1,1,1,1,1,1,1,1,1,1,1,1,1,1,1,1,1,1,1,1,1,1,1,1,1,1,1,1,1,1,1,1,1,1,1,1,1,1,1,1,1,1,1,1,1,1,1,1,1,1,1,1,1,1,1,1,1,1,1,1,1,1,1,1,1,1,1,1,1,1,1,1,1,1,1,1,1,1,1,1,1,1,1,1,1,1,1,1,1,1,1,1,1,1,1,1,1,1,1,1,1,1,1,1,1,1,1,1,1,1,1,1,1,1,1,1,1,1,1,1,1,1,1,1,1,1,1,1,1,1,1,1,1,1,1,1,1,1,1,1,1,1,1,1,1,1,1,1,1,1,1,1,1,1,1,1,1,1,1,1,1,1,1,1,1,1,1,1,1,1,1,1,1,1,1,1,1,1,1,1,1,1,1,1,1,1,1,1,1,1,1,1,1,1,1,1,1,1,1,1,1,1,1,1,1,1,1,1,1,1,1,1,1,1,1,1,1,1,1,1,1,1,1,1,1,1,1,1,1,1,1,1,1,1,1,1,1,1,1,1,1,1,1,1,1,1,1,1,1,1,1,1,1,1,1,1,1,1,1,1,1,1,1,1,1,1,1,1,1,1,1,1,1,1,1,1,1,1,1,1,1,1,1,1,1,1,1,1,1,1,1,1,1,1,1,1,1,1,1,1,1,1,1,1,1,1,1,1,1,1,1,1,1,1,1,1,1,1,1,1,1,1,1,1,1,1,1,1,1,1,1,1,1,1,1,1,1,1,1,1,1,1,1,1,1,1,1,1,1,1,1,1,1,1,1,1,1,1,1,1,1,1,1,1,1,1,1,1,1,1,1,1,1,1,1,1,1,1,1,1,1,1,1,1,1,1,1,1,1,1,1,1,1,1,1,1,1,1,1,1,1,1,1,1,1,1,1,1,1,1,1,1,1,1,1,1,1,1,1,1,1,1,1,1,1,1,1,1,1,1,1,1,1,1,1,1,1,1,1,1,1,1,1,1,1,1,1,1,1,1,1,1,1,1,1,1,1,1,1,1,1,1,1,1,1,1,1,1,1,1,1,1,1,1,1,1,1,1,1,1,1,1,1,1,1,1,1,1,1,1,1,1,1,1,1,1,1,1,1,1,1,1,1,1,1,1,1,1,1,1,1,1,1,1,1,1,1,1,1,1,1,1,1,1,1,1,1,1,1,1,1,1,1,1,1,1,1,1,1,1,1,1,1,1,1,1,1,1,1,1,1,1,1,1,1,1,1,1,1,1,1,1,1,1,1,1,1,1,1,1,1,1,1,1,1,1,1,1,1,1,1,1,1,1,1,1,1,1,1,1,1,1,1,1,1,1,1,1,1,1,1,1,1,1,1,1,1,1,1,1,1,1,1,1,1,1,1,1,1,1,1,1,1,1,1,1,1,1,1,1,1,1,1,1,1,1,1,1,1,1,1,1,1,1,1,1,1,1,1,1,1,1,1,1,1,1,1,1,1,1,1,1,1,1,1,1,1,1,1,1,1,1,1,1,1,1,1,1,1,1,1,1,1,1,1,1,1,1,1,1,1,1,1,1,1,1,1,1,1,1,1,1,1,1,1,1,1,1,1,1,1,1,1,1,1,1,1,1,1,1,1,1,1,1,1,1,1,1,1,1,1,1,1,1,1,1,1,1,1,1,1,1,1,1,1,1,1,1,1,1,1,1,1,1,1,1,1,1,1,1,1,1,1,1,1,1,1,1,1,1,1,1,1,1,1,1,1,1,1,1,1,1,1,1,1,1,1,1,1,1,1,1,1,1,1,1,1,1,1,1,1,1,1,1,1,1,1,1,1,1,1,1,1,1,1,1,1,1,1,1,1,1,1,1,1,1,1,1,1,1,1,1,1,1,1,1,1,1,1,1,1,1,1,1,1,1,1,1,1,1,1,1,1,1,1,1,1,1,1,1,1,1,1,1,1,1,1,1,1,1,1,1,1,1,1,1,1,1,1,1,1,1,1,1,1,1,1,1,1,1,1,1,1,1,1,1,1,1,1,1,1,1,1,1,1,1,1,1,1,1,1,1,1],\"xaxis\":\"x\",\"yaxis\":\"y\",\"type\":\"histogram\"}],                        {\"template\":{\"data\":{\"histogram2dcontour\":[{\"type\":\"histogram2dcontour\",\"colorbar\":{\"outlinewidth\":0,\"ticks\":\"\"},\"colorscale\":[[0.0,\"#0d0887\"],[0.1111111111111111,\"#46039f\"],[0.2222222222222222,\"#7201a8\"],[0.3333333333333333,\"#9c179e\"],[0.4444444444444444,\"#bd3786\"],[0.5555555555555556,\"#d8576b\"],[0.6666666666666666,\"#ed7953\"],[0.7777777777777778,\"#fb9f3a\"],[0.8888888888888888,\"#fdca26\"],[1.0,\"#f0f921\"]]}],\"choropleth\":[{\"type\":\"choropleth\",\"colorbar\":{\"outlinewidth\":0,\"ticks\":\"\"}}],\"histogram2d\":[{\"type\":\"histogram2d\",\"colorbar\":{\"outlinewidth\":0,\"ticks\":\"\"},\"colorscale\":[[0.0,\"#0d0887\"],[0.1111111111111111,\"#46039f\"],[0.2222222222222222,\"#7201a8\"],[0.3333333333333333,\"#9c179e\"],[0.4444444444444444,\"#bd3786\"],[0.5555555555555556,\"#d8576b\"],[0.6666666666666666,\"#ed7953\"],[0.7777777777777778,\"#fb9f3a\"],[0.8888888888888888,\"#fdca26\"],[1.0,\"#f0f921\"]]}],\"heatmap\":[{\"type\":\"heatmap\",\"colorbar\":{\"outlinewidth\":0,\"ticks\":\"\"},\"colorscale\":[[0.0,\"#0d0887\"],[0.1111111111111111,\"#46039f\"],[0.2222222222222222,\"#7201a8\"],[0.3333333333333333,\"#9c179e\"],[0.4444444444444444,\"#bd3786\"],[0.5555555555555556,\"#d8576b\"],[0.6666666666666666,\"#ed7953\"],[0.7777777777777778,\"#fb9f3a\"],[0.8888888888888888,\"#fdca26\"],[1.0,\"#f0f921\"]]}],\"heatmapgl\":[{\"type\":\"heatmapgl\",\"colorbar\":{\"outlinewidth\":0,\"ticks\":\"\"},\"colorscale\":[[0.0,\"#0d0887\"],[0.1111111111111111,\"#46039f\"],[0.2222222222222222,\"#7201a8\"],[0.3333333333333333,\"#9c179e\"],[0.4444444444444444,\"#bd3786\"],[0.5555555555555556,\"#d8576b\"],[0.6666666666666666,\"#ed7953\"],[0.7777777777777778,\"#fb9f3a\"],[0.8888888888888888,\"#fdca26\"],[1.0,\"#f0f921\"]]}],\"contourcarpet\":[{\"type\":\"contourcarpet\",\"colorbar\":{\"outlinewidth\":0,\"ticks\":\"\"}}],\"contour\":[{\"type\":\"contour\",\"colorbar\":{\"outlinewidth\":0,\"ticks\":\"\"},\"colorscale\":[[0.0,\"#0d0887\"],[0.1111111111111111,\"#46039f\"],[0.2222222222222222,\"#7201a8\"],[0.3333333333333333,\"#9c179e\"],[0.4444444444444444,\"#bd3786\"],[0.5555555555555556,\"#d8576b\"],[0.6666666666666666,\"#ed7953\"],[0.7777777777777778,\"#fb9f3a\"],[0.8888888888888888,\"#fdca26\"],[1.0,\"#f0f921\"]]}],\"surface\":[{\"type\":\"surface\",\"colorbar\":{\"outlinewidth\":0,\"ticks\":\"\"},\"colorscale\":[[0.0,\"#0d0887\"],[0.1111111111111111,\"#46039f\"],[0.2222222222222222,\"#7201a8\"],[0.3333333333333333,\"#9c179e\"],[0.4444444444444444,\"#bd3786\"],[0.5555555555555556,\"#d8576b\"],[0.6666666666666666,\"#ed7953\"],[0.7777777777777778,\"#fb9f3a\"],[0.8888888888888888,\"#fdca26\"],[1.0,\"#f0f921\"]]}],\"mesh3d\":[{\"type\":\"mesh3d\",\"colorbar\":{\"outlinewidth\":0,\"ticks\":\"\"}}],\"scatter\":[{\"marker\":{\"line\":{\"color\":\"#283442\"}},\"type\":\"scatter\"}],\"parcoords\":[{\"type\":\"parcoords\",\"line\":{\"colorbar\":{\"outlinewidth\":0,\"ticks\":\"\"}}}],\"scatterpolargl\":[{\"type\":\"scatterpolargl\",\"marker\":{\"colorbar\":{\"outlinewidth\":0,\"ticks\":\"\"}}}],\"bar\":[{\"error_x\":{\"color\":\"#f2f5fa\"},\"error_y\":{\"color\":\"#f2f5fa\"},\"marker\":{\"line\":{\"color\":\"rgb(17,17,17)\",\"width\":0.5},\"pattern\":{\"fillmode\":\"overlay\",\"size\":10,\"solidity\":0.2}},\"type\":\"bar\"}],\"scattergeo\":[{\"type\":\"scattergeo\",\"marker\":{\"colorbar\":{\"outlinewidth\":0,\"ticks\":\"\"}}}],\"scatterpolar\":[{\"type\":\"scatterpolar\",\"marker\":{\"colorbar\":{\"outlinewidth\":0,\"ticks\":\"\"}}}],\"histogram\":[{\"marker\":{\"pattern\":{\"fillmode\":\"overlay\",\"size\":10,\"solidity\":0.2}},\"type\":\"histogram\"}],\"scattergl\":[{\"marker\":{\"line\":{\"color\":\"#283442\"}},\"type\":\"scattergl\"}],\"scatter3d\":[{\"type\":\"scatter3d\",\"line\":{\"colorbar\":{\"outlinewidth\":0,\"ticks\":\"\"}},\"marker\":{\"colorbar\":{\"outlinewidth\":0,\"ticks\":\"\"}}}],\"scattermapbox\":[{\"type\":\"scattermapbox\",\"marker\":{\"colorbar\":{\"outlinewidth\":0,\"ticks\":\"\"}}}],\"scatterternary\":[{\"type\":\"scatterternary\",\"marker\":{\"colorbar\":{\"outlinewidth\":0,\"ticks\":\"\"}}}],\"scattercarpet\":[{\"type\":\"scattercarpet\",\"marker\":{\"colorbar\":{\"outlinewidth\":0,\"ticks\":\"\"}}}],\"carpet\":[{\"aaxis\":{\"endlinecolor\":\"#A2B1C6\",\"gridcolor\":\"#506784\",\"linecolor\":\"#506784\",\"minorgridcolor\":\"#506784\",\"startlinecolor\":\"#A2B1C6\"},\"baxis\":{\"endlinecolor\":\"#A2B1C6\",\"gridcolor\":\"#506784\",\"linecolor\":\"#506784\",\"minorgridcolor\":\"#506784\",\"startlinecolor\":\"#A2B1C6\"},\"type\":\"carpet\"}],\"table\":[{\"cells\":{\"fill\":{\"color\":\"#506784\"},\"line\":{\"color\":\"rgb(17,17,17)\"}},\"header\":{\"fill\":{\"color\":\"#2a3f5f\"},\"line\":{\"color\":\"rgb(17,17,17)\"}},\"type\":\"table\"}],\"barpolar\":[{\"marker\":{\"line\":{\"color\":\"rgb(17,17,17)\",\"width\":0.5},\"pattern\":{\"fillmode\":\"overlay\",\"size\":10,\"solidity\":0.2}},\"type\":\"barpolar\"}],\"pie\":[{\"automargin\":true,\"type\":\"pie\"}]},\"layout\":{\"autotypenumbers\":\"strict\",\"colorway\":[\"#636efa\",\"#EF553B\",\"#00cc96\",\"#ab63fa\",\"#FFA15A\",\"#19d3f3\",\"#FF6692\",\"#B6E880\",\"#FF97FF\",\"#FECB52\"],\"font\":{\"color\":\"#f2f5fa\"},\"hovermode\":\"closest\",\"hoverlabel\":{\"align\":\"left\"},\"paper_bgcolor\":\"rgb(17,17,17)\",\"plot_bgcolor\":\"rgb(17,17,17)\",\"polar\":{\"bgcolor\":\"rgb(17,17,17)\",\"angularaxis\":{\"gridcolor\":\"#506784\",\"linecolor\":\"#506784\",\"ticks\":\"\"},\"radialaxis\":{\"gridcolor\":\"#506784\",\"linecolor\":\"#506784\",\"ticks\":\"\"}},\"ternary\":{\"bgcolor\":\"rgb(17,17,17)\",\"aaxis\":{\"gridcolor\":\"#506784\",\"linecolor\":\"#506784\",\"ticks\":\"\"},\"baxis\":{\"gridcolor\":\"#506784\",\"linecolor\":\"#506784\",\"ticks\":\"\"},\"caxis\":{\"gridcolor\":\"#506784\",\"linecolor\":\"#506784\",\"ticks\":\"\"}},\"coloraxis\":{\"colorbar\":{\"outlinewidth\":0,\"ticks\":\"\"}},\"colorscale\":{\"sequential\":[[0.0,\"#0d0887\"],[0.1111111111111111,\"#46039f\"],[0.2222222222222222,\"#7201a8\"],[0.3333333333333333,\"#9c179e\"],[0.4444444444444444,\"#bd3786\"],[0.5555555555555556,\"#d8576b\"],[0.6666666666666666,\"#ed7953\"],[0.7777777777777778,\"#fb9f3a\"],[0.8888888888888888,\"#fdca26\"],[1.0,\"#f0f921\"]],\"sequentialminus\":[[0.0,\"#0d0887\"],[0.1111111111111111,\"#46039f\"],[0.2222222222222222,\"#7201a8\"],[0.3333333333333333,\"#9c179e\"],[0.4444444444444444,\"#bd3786\"],[0.5555555555555556,\"#d8576b\"],[0.6666666666666666,\"#ed7953\"],[0.7777777777777778,\"#fb9f3a\"],[0.8888888888888888,\"#fdca26\"],[1.0,\"#f0f921\"]],\"diverging\":[[0,\"#8e0152\"],[0.1,\"#c51b7d\"],[0.2,\"#de77ae\"],[0.3,\"#f1b6da\"],[0.4,\"#fde0ef\"],[0.5,\"#f7f7f7\"],[0.6,\"#e6f5d0\"],[0.7,\"#b8e186\"],[0.8,\"#7fbc41\"],[0.9,\"#4d9221\"],[1,\"#276419\"]]},\"xaxis\":{\"gridcolor\":\"#283442\",\"linecolor\":\"#506784\",\"ticks\":\"\",\"title\":{\"standoff\":15},\"zerolinecolor\":\"#283442\",\"automargin\":true,\"zerolinewidth\":2},\"yaxis\":{\"gridcolor\":\"#283442\",\"linecolor\":\"#506784\",\"ticks\":\"\",\"title\":{\"standoff\":15},\"zerolinecolor\":\"#283442\",\"automargin\":true,\"zerolinewidth\":2},\"scene\":{\"xaxis\":{\"backgroundcolor\":\"rgb(17,17,17)\",\"gridcolor\":\"#506784\",\"linecolor\":\"#506784\",\"showbackground\":true,\"ticks\":\"\",\"zerolinecolor\":\"#C8D4E3\",\"gridwidth\":2},\"yaxis\":{\"backgroundcolor\":\"rgb(17,17,17)\",\"gridcolor\":\"#506784\",\"linecolor\":\"#506784\",\"showbackground\":true,\"ticks\":\"\",\"zerolinecolor\":\"#C8D4E3\",\"gridwidth\":2},\"zaxis\":{\"backgroundcolor\":\"rgb(17,17,17)\",\"gridcolor\":\"#506784\",\"linecolor\":\"#506784\",\"showbackground\":true,\"ticks\":\"\",\"zerolinecolor\":\"#C8D4E3\",\"gridwidth\":2}},\"shapedefaults\":{\"line\":{\"color\":\"#f2f5fa\"}},\"annotationdefaults\":{\"arrowcolor\":\"#f2f5fa\",\"arrowhead\":0,\"arrowwidth\":1},\"geo\":{\"bgcolor\":\"rgb(17,17,17)\",\"landcolor\":\"rgb(17,17,17)\",\"subunitcolor\":\"#506784\",\"showland\":true,\"showlakes\":true,\"lakecolor\":\"rgb(17,17,17)\"},\"title\":{\"x\":0.05},\"updatemenudefaults\":{\"bgcolor\":\"#506784\",\"borderwidth\":0},\"sliderdefaults\":{\"bgcolor\":\"#C8D4E3\",\"borderwidth\":1,\"bordercolor\":\"rgb(17,17,17)\",\"tickwidth\":0},\"mapbox\":{\"style\":\"dark\"}}},\"xaxis\":{\"anchor\":\"y\",\"domain\":[0.0,1.0],\"title\":{\"text\":\"Nr of authors\"}},\"yaxis\":{\"anchor\":\"x\",\"domain\":[0.0,1.0],\"title\":{\"text\":\"count\"},\"type\":\"log\"},\"legend\":{\"tracegroupgap\":0},\"margin\":{\"t\":60},\"barmode\":\"relative\"},                        {\"responsive\": true}                    ).then(function(){\n                            \nvar gd = document.getElementById('68e58d1f-a87b-4996-8a0f-def9d7886dbf');\nvar x = new MutationObserver(function (mutations, observer) {{\n        var display = window.getComputedStyle(gd).display;\n        if (!display || display === 'none') {{\n            console.log([gd, 'removed!']);\n            Plotly.purge(gd);\n            observer.disconnect();\n        }}\n}});\n\n// Listen for the removal of the full notebook cells\nvar notebookContainer = gd.closest('#notebook-container');\nif (notebookContainer) {{\n    x.observe(notebookContainer, {childList: true});\n}}\n\n// Listen for the clearing of the current output cell\nvar outputEl = gd.closest('.output');\nif (outputEl) {{\n    x.observe(outputEl, {childList: true});\n}}\n\n                        })                };                });            </script>        </div>"
     },
     "metadata": {},
     "output_type": "display_data"
    }
   ],
   "source": [
    "hist_author_count = px.histogram(df_file_author_count_sorted, x=col_name_nr_of_authors)\n",
    "hist_author_count.show()\n",
    "hist_author_log_count = px.histogram(df_file_author_count_sorted, x=col_name_nr_of_authors, log_y=True)\n",
    "hist_author_log_count.show()"
   ],
   "metadata": {
    "collapsed": false
   }
  },
  {
   "cell_type": "markdown",
   "source": [
    "As we can see in a lot of projects, there are certain files which are touched by a lot of authors, but most files are touched by a single author.\n",
    "The file with the most authors is the pom.xml, where the project configuration is stored.\n",
    "There every developer has to change the file if e.g. a dependency is added, removed or updated.\n",
    "Then follow some tests with 8 or 7 coauthors, and then we are already at a moderate 7, but only between 2 minor releases."
   ],
   "metadata": {
    "collapsed": false
   }
  },
  {
   "cell_type": "markdown",
   "source": [
    "Visualise Nr of files per author:"
   ],
   "metadata": {
    "collapsed": false
   }
  },
  {
   "cell_type": "code",
   "execution_count": 187,
   "outputs": [],
   "source": [
    "author_file_count = {(k, len(files)) for k, files in authors_to_files.items()}\n",
    "col_name_author = 'Author'\n",
    "col_name_nr_of_files = 'Nr of files'\n",
    "df_author_file_count = DataFrame(author_file_count, columns=[col_name_author, col_name_nr_of_files])\n",
    "df_author_file_count_sorted = df_author_file_count.sort_values(by=[col_name_nr_of_files], ascending=False)"
   ],
   "metadata": {
    "collapsed": false
   }
  },
  {
   "cell_type": "markdown",
   "source": [
    "The 20 authors which changed the most files:"
   ],
   "metadata": {
    "collapsed": false
   }
  },
  {
   "cell_type": "code",
   "execution_count": 188,
   "outputs": [
    {
     "data": {
      "text/plain": "                   Author  Nr of files\n52                javanna          191\n42  Martijn van Groningen          186\n9            Adrien Grand          174\n0         Simon Willnauer          155\n10        Clinton Gormley          129\n19                uboness          113\n63           Luca Cavanna          105\n20             Lee Hinman           76\n43             Shay Banon           67\n35           David Pilato           63\n38             Igor Motov           63\n50            Boaz Leskes           58\n28      Florian Schilling           42\n21      Alexander Reelsen           40\n47          Andrew Selden           34\n40           Zachary Tong           34\n54       Konrad Feldmeier           28\n8             markharwood           25\n25            Nik Everett           25\n32      Holger Hoffstätte           20",
      "text/html": "<div>\n<style scoped>\n    .dataframe tbody tr th:only-of-type {\n        vertical-align: middle;\n    }\n\n    .dataframe tbody tr th {\n        vertical-align: top;\n    }\n\n    .dataframe thead th {\n        text-align: right;\n    }\n</style>\n<table border=\"1\" class=\"dataframe\">\n  <thead>\n    <tr style=\"text-align: right;\">\n      <th></th>\n      <th>Author</th>\n      <th>Nr of files</th>\n    </tr>\n  </thead>\n  <tbody>\n    <tr>\n      <th>52</th>\n      <td>javanna</td>\n      <td>191</td>\n    </tr>\n    <tr>\n      <th>42</th>\n      <td>Martijn van Groningen</td>\n      <td>186</td>\n    </tr>\n    <tr>\n      <th>9</th>\n      <td>Adrien Grand</td>\n      <td>174</td>\n    </tr>\n    <tr>\n      <th>0</th>\n      <td>Simon Willnauer</td>\n      <td>155</td>\n    </tr>\n    <tr>\n      <th>10</th>\n      <td>Clinton Gormley</td>\n      <td>129</td>\n    </tr>\n    <tr>\n      <th>19</th>\n      <td>uboness</td>\n      <td>113</td>\n    </tr>\n    <tr>\n      <th>63</th>\n      <td>Luca Cavanna</td>\n      <td>105</td>\n    </tr>\n    <tr>\n      <th>20</th>\n      <td>Lee Hinman</td>\n      <td>76</td>\n    </tr>\n    <tr>\n      <th>43</th>\n      <td>Shay Banon</td>\n      <td>67</td>\n    </tr>\n    <tr>\n      <th>35</th>\n      <td>David Pilato</td>\n      <td>63</td>\n    </tr>\n    <tr>\n      <th>38</th>\n      <td>Igor Motov</td>\n      <td>63</td>\n    </tr>\n    <tr>\n      <th>50</th>\n      <td>Boaz Leskes</td>\n      <td>58</td>\n    </tr>\n    <tr>\n      <th>28</th>\n      <td>Florian Schilling</td>\n      <td>42</td>\n    </tr>\n    <tr>\n      <th>21</th>\n      <td>Alexander Reelsen</td>\n      <td>40</td>\n    </tr>\n    <tr>\n      <th>47</th>\n      <td>Andrew Selden</td>\n      <td>34</td>\n    </tr>\n    <tr>\n      <th>40</th>\n      <td>Zachary Tong</td>\n      <td>34</td>\n    </tr>\n    <tr>\n      <th>54</th>\n      <td>Konrad Feldmeier</td>\n      <td>28</td>\n    </tr>\n    <tr>\n      <th>8</th>\n      <td>markharwood</td>\n      <td>25</td>\n    </tr>\n    <tr>\n      <th>25</th>\n      <td>Nik Everett</td>\n      <td>25</td>\n    </tr>\n    <tr>\n      <th>32</th>\n      <td>Holger Hoffstätte</td>\n      <td>20</td>\n    </tr>\n  </tbody>\n</table>\n</div>"
     },
     "metadata": {},
     "output_type": "display_data"
    }
   ],
   "source": [
    "display(df_author_file_count_sorted[:20])"
   ],
   "metadata": {
    "collapsed": false
   }
  },
  {
   "cell_type": "markdown",
   "source": [
    "Distribution of files modified per author:"
   ],
   "metadata": {
    "collapsed": false
   }
  },
  {
   "cell_type": "code",
   "execution_count": 189,
   "outputs": [
    {
     "data": {
      "application/vnd.plotly.v1+json": {
       "data": [
        {
         "alignmentgroup": "True",
         "bingroup": "x",
         "hovertemplate": "Nr of files=%{x}<br>count=%{y}<extra></extra>",
         "legendgroup": "",
         "marker": {
          "color": "#636efa",
          "pattern": {
           "shape": ""
          }
         },
         "name": "",
         "offsetgroup": "",
         "orientation": "v",
         "showlegend": false,
         "x": [
          191,
          186,
          174,
          155,
          129,
          113,
          105,
          76,
          67,
          63,
          63,
          58,
          42,
          40,
          34,
          34,
          28,
          25,
          25,
          20,
          19,
          18,
          16,
          15,
          14,
          11,
          11,
          9,
          7,
          6,
          5,
          4,
          4,
          4,
          3,
          3,
          3,
          3,
          3,
          2,
          2,
          2,
          2,
          2,
          2,
          2,
          2,
          2,
          2,
          1,
          1,
          1,
          1,
          1,
          1,
          1,
          1,
          1,
          1,
          1,
          1,
          1,
          1,
          1
         ],
         "xaxis": "x",
         "yaxis": "y",
         "type": "histogram"
        }
       ],
       "layout": {
        "template": {
         "data": {
          "histogram2dcontour": [
           {
            "type": "histogram2dcontour",
            "colorbar": {
             "outlinewidth": 0,
             "ticks": ""
            },
            "colorscale": [
             [
              0.0,
              "#0d0887"
             ],
             [
              0.1111111111111111,
              "#46039f"
             ],
             [
              0.2222222222222222,
              "#7201a8"
             ],
             [
              0.3333333333333333,
              "#9c179e"
             ],
             [
              0.4444444444444444,
              "#bd3786"
             ],
             [
              0.5555555555555556,
              "#d8576b"
             ],
             [
              0.6666666666666666,
              "#ed7953"
             ],
             [
              0.7777777777777778,
              "#fb9f3a"
             ],
             [
              0.8888888888888888,
              "#fdca26"
             ],
             [
              1.0,
              "#f0f921"
             ]
            ]
           }
          ],
          "choropleth": [
           {
            "type": "choropleth",
            "colorbar": {
             "outlinewidth": 0,
             "ticks": ""
            }
           }
          ],
          "histogram2d": [
           {
            "type": "histogram2d",
            "colorbar": {
             "outlinewidth": 0,
             "ticks": ""
            },
            "colorscale": [
             [
              0.0,
              "#0d0887"
             ],
             [
              0.1111111111111111,
              "#46039f"
             ],
             [
              0.2222222222222222,
              "#7201a8"
             ],
             [
              0.3333333333333333,
              "#9c179e"
             ],
             [
              0.4444444444444444,
              "#bd3786"
             ],
             [
              0.5555555555555556,
              "#d8576b"
             ],
             [
              0.6666666666666666,
              "#ed7953"
             ],
             [
              0.7777777777777778,
              "#fb9f3a"
             ],
             [
              0.8888888888888888,
              "#fdca26"
             ],
             [
              1.0,
              "#f0f921"
             ]
            ]
           }
          ],
          "heatmap": [
           {
            "type": "heatmap",
            "colorbar": {
             "outlinewidth": 0,
             "ticks": ""
            },
            "colorscale": [
             [
              0.0,
              "#0d0887"
             ],
             [
              0.1111111111111111,
              "#46039f"
             ],
             [
              0.2222222222222222,
              "#7201a8"
             ],
             [
              0.3333333333333333,
              "#9c179e"
             ],
             [
              0.4444444444444444,
              "#bd3786"
             ],
             [
              0.5555555555555556,
              "#d8576b"
             ],
             [
              0.6666666666666666,
              "#ed7953"
             ],
             [
              0.7777777777777778,
              "#fb9f3a"
             ],
             [
              0.8888888888888888,
              "#fdca26"
             ],
             [
              1.0,
              "#f0f921"
             ]
            ]
           }
          ],
          "heatmapgl": [
           {
            "type": "heatmapgl",
            "colorbar": {
             "outlinewidth": 0,
             "ticks": ""
            },
            "colorscale": [
             [
              0.0,
              "#0d0887"
             ],
             [
              0.1111111111111111,
              "#46039f"
             ],
             [
              0.2222222222222222,
              "#7201a8"
             ],
             [
              0.3333333333333333,
              "#9c179e"
             ],
             [
              0.4444444444444444,
              "#bd3786"
             ],
             [
              0.5555555555555556,
              "#d8576b"
             ],
             [
              0.6666666666666666,
              "#ed7953"
             ],
             [
              0.7777777777777778,
              "#fb9f3a"
             ],
             [
              0.8888888888888888,
              "#fdca26"
             ],
             [
              1.0,
              "#f0f921"
             ]
            ]
           }
          ],
          "contourcarpet": [
           {
            "type": "contourcarpet",
            "colorbar": {
             "outlinewidth": 0,
             "ticks": ""
            }
           }
          ],
          "contour": [
           {
            "type": "contour",
            "colorbar": {
             "outlinewidth": 0,
             "ticks": ""
            },
            "colorscale": [
             [
              0.0,
              "#0d0887"
             ],
             [
              0.1111111111111111,
              "#46039f"
             ],
             [
              0.2222222222222222,
              "#7201a8"
             ],
             [
              0.3333333333333333,
              "#9c179e"
             ],
             [
              0.4444444444444444,
              "#bd3786"
             ],
             [
              0.5555555555555556,
              "#d8576b"
             ],
             [
              0.6666666666666666,
              "#ed7953"
             ],
             [
              0.7777777777777778,
              "#fb9f3a"
             ],
             [
              0.8888888888888888,
              "#fdca26"
             ],
             [
              1.0,
              "#f0f921"
             ]
            ]
           }
          ],
          "surface": [
           {
            "type": "surface",
            "colorbar": {
             "outlinewidth": 0,
             "ticks": ""
            },
            "colorscale": [
             [
              0.0,
              "#0d0887"
             ],
             [
              0.1111111111111111,
              "#46039f"
             ],
             [
              0.2222222222222222,
              "#7201a8"
             ],
             [
              0.3333333333333333,
              "#9c179e"
             ],
             [
              0.4444444444444444,
              "#bd3786"
             ],
             [
              0.5555555555555556,
              "#d8576b"
             ],
             [
              0.6666666666666666,
              "#ed7953"
             ],
             [
              0.7777777777777778,
              "#fb9f3a"
             ],
             [
              0.8888888888888888,
              "#fdca26"
             ],
             [
              1.0,
              "#f0f921"
             ]
            ]
           }
          ],
          "mesh3d": [
           {
            "type": "mesh3d",
            "colorbar": {
             "outlinewidth": 0,
             "ticks": ""
            }
           }
          ],
          "scatter": [
           {
            "marker": {
             "line": {
              "color": "#283442"
             }
            },
            "type": "scatter"
           }
          ],
          "parcoords": [
           {
            "type": "parcoords",
            "line": {
             "colorbar": {
              "outlinewidth": 0,
              "ticks": ""
             }
            }
           }
          ],
          "scatterpolargl": [
           {
            "type": "scatterpolargl",
            "marker": {
             "colorbar": {
              "outlinewidth": 0,
              "ticks": ""
             }
            }
           }
          ],
          "bar": [
           {
            "error_x": {
             "color": "#f2f5fa"
            },
            "error_y": {
             "color": "#f2f5fa"
            },
            "marker": {
             "line": {
              "color": "rgb(17,17,17)",
              "width": 0.5
             },
             "pattern": {
              "fillmode": "overlay",
              "size": 10,
              "solidity": 0.2
             }
            },
            "type": "bar"
           }
          ],
          "scattergeo": [
           {
            "type": "scattergeo",
            "marker": {
             "colorbar": {
              "outlinewidth": 0,
              "ticks": ""
             }
            }
           }
          ],
          "scatterpolar": [
           {
            "type": "scatterpolar",
            "marker": {
             "colorbar": {
              "outlinewidth": 0,
              "ticks": ""
             }
            }
           }
          ],
          "histogram": [
           {
            "marker": {
             "pattern": {
              "fillmode": "overlay",
              "size": 10,
              "solidity": 0.2
             }
            },
            "type": "histogram"
           }
          ],
          "scattergl": [
           {
            "marker": {
             "line": {
              "color": "#283442"
             }
            },
            "type": "scattergl"
           }
          ],
          "scatter3d": [
           {
            "type": "scatter3d",
            "line": {
             "colorbar": {
              "outlinewidth": 0,
              "ticks": ""
             }
            },
            "marker": {
             "colorbar": {
              "outlinewidth": 0,
              "ticks": ""
             }
            }
           }
          ],
          "scattermapbox": [
           {
            "type": "scattermapbox",
            "marker": {
             "colorbar": {
              "outlinewidth": 0,
              "ticks": ""
             }
            }
           }
          ],
          "scatterternary": [
           {
            "type": "scatterternary",
            "marker": {
             "colorbar": {
              "outlinewidth": 0,
              "ticks": ""
             }
            }
           }
          ],
          "scattercarpet": [
           {
            "type": "scattercarpet",
            "marker": {
             "colorbar": {
              "outlinewidth": 0,
              "ticks": ""
             }
            }
           }
          ],
          "carpet": [
           {
            "aaxis": {
             "endlinecolor": "#A2B1C6",
             "gridcolor": "#506784",
             "linecolor": "#506784",
             "minorgridcolor": "#506784",
             "startlinecolor": "#A2B1C6"
            },
            "baxis": {
             "endlinecolor": "#A2B1C6",
             "gridcolor": "#506784",
             "linecolor": "#506784",
             "minorgridcolor": "#506784",
             "startlinecolor": "#A2B1C6"
            },
            "type": "carpet"
           }
          ],
          "table": [
           {
            "cells": {
             "fill": {
              "color": "#506784"
             },
             "line": {
              "color": "rgb(17,17,17)"
             }
            },
            "header": {
             "fill": {
              "color": "#2a3f5f"
             },
             "line": {
              "color": "rgb(17,17,17)"
             }
            },
            "type": "table"
           }
          ],
          "barpolar": [
           {
            "marker": {
             "line": {
              "color": "rgb(17,17,17)",
              "width": 0.5
             },
             "pattern": {
              "fillmode": "overlay",
              "size": 10,
              "solidity": 0.2
             }
            },
            "type": "barpolar"
           }
          ],
          "pie": [
           {
            "automargin": true,
            "type": "pie"
           }
          ]
         },
         "layout": {
          "autotypenumbers": "strict",
          "colorway": [
           "#636efa",
           "#EF553B",
           "#00cc96",
           "#ab63fa",
           "#FFA15A",
           "#19d3f3",
           "#FF6692",
           "#B6E880",
           "#FF97FF",
           "#FECB52"
          ],
          "font": {
           "color": "#f2f5fa"
          },
          "hovermode": "closest",
          "hoverlabel": {
           "align": "left"
          },
          "paper_bgcolor": "rgb(17,17,17)",
          "plot_bgcolor": "rgb(17,17,17)",
          "polar": {
           "bgcolor": "rgb(17,17,17)",
           "angularaxis": {
            "gridcolor": "#506784",
            "linecolor": "#506784",
            "ticks": ""
           },
           "radialaxis": {
            "gridcolor": "#506784",
            "linecolor": "#506784",
            "ticks": ""
           }
          },
          "ternary": {
           "bgcolor": "rgb(17,17,17)",
           "aaxis": {
            "gridcolor": "#506784",
            "linecolor": "#506784",
            "ticks": ""
           },
           "baxis": {
            "gridcolor": "#506784",
            "linecolor": "#506784",
            "ticks": ""
           },
           "caxis": {
            "gridcolor": "#506784",
            "linecolor": "#506784",
            "ticks": ""
           }
          },
          "coloraxis": {
           "colorbar": {
            "outlinewidth": 0,
            "ticks": ""
           }
          },
          "colorscale": {
           "sequential": [
            [
             0.0,
             "#0d0887"
            ],
            [
             0.1111111111111111,
             "#46039f"
            ],
            [
             0.2222222222222222,
             "#7201a8"
            ],
            [
             0.3333333333333333,
             "#9c179e"
            ],
            [
             0.4444444444444444,
             "#bd3786"
            ],
            [
             0.5555555555555556,
             "#d8576b"
            ],
            [
             0.6666666666666666,
             "#ed7953"
            ],
            [
             0.7777777777777778,
             "#fb9f3a"
            ],
            [
             0.8888888888888888,
             "#fdca26"
            ],
            [
             1.0,
             "#f0f921"
            ]
           ],
           "sequentialminus": [
            [
             0.0,
             "#0d0887"
            ],
            [
             0.1111111111111111,
             "#46039f"
            ],
            [
             0.2222222222222222,
             "#7201a8"
            ],
            [
             0.3333333333333333,
             "#9c179e"
            ],
            [
             0.4444444444444444,
             "#bd3786"
            ],
            [
             0.5555555555555556,
             "#d8576b"
            ],
            [
             0.6666666666666666,
             "#ed7953"
            ],
            [
             0.7777777777777778,
             "#fb9f3a"
            ],
            [
             0.8888888888888888,
             "#fdca26"
            ],
            [
             1.0,
             "#f0f921"
            ]
           ],
           "diverging": [
            [
             0,
             "#8e0152"
            ],
            [
             0.1,
             "#c51b7d"
            ],
            [
             0.2,
             "#de77ae"
            ],
            [
             0.3,
             "#f1b6da"
            ],
            [
             0.4,
             "#fde0ef"
            ],
            [
             0.5,
             "#f7f7f7"
            ],
            [
             0.6,
             "#e6f5d0"
            ],
            [
             0.7,
             "#b8e186"
            ],
            [
             0.8,
             "#7fbc41"
            ],
            [
             0.9,
             "#4d9221"
            ],
            [
             1,
             "#276419"
            ]
           ]
          },
          "xaxis": {
           "gridcolor": "#283442",
           "linecolor": "#506784",
           "ticks": "",
           "title": {
            "standoff": 15
           },
           "zerolinecolor": "#283442",
           "automargin": true,
           "zerolinewidth": 2
          },
          "yaxis": {
           "gridcolor": "#283442",
           "linecolor": "#506784",
           "ticks": "",
           "title": {
            "standoff": 15
           },
           "zerolinecolor": "#283442",
           "automargin": true,
           "zerolinewidth": 2
          },
          "scene": {
           "xaxis": {
            "backgroundcolor": "rgb(17,17,17)",
            "gridcolor": "#506784",
            "linecolor": "#506784",
            "showbackground": true,
            "ticks": "",
            "zerolinecolor": "#C8D4E3",
            "gridwidth": 2
           },
           "yaxis": {
            "backgroundcolor": "rgb(17,17,17)",
            "gridcolor": "#506784",
            "linecolor": "#506784",
            "showbackground": true,
            "ticks": "",
            "zerolinecolor": "#C8D4E3",
            "gridwidth": 2
           },
           "zaxis": {
            "backgroundcolor": "rgb(17,17,17)",
            "gridcolor": "#506784",
            "linecolor": "#506784",
            "showbackground": true,
            "ticks": "",
            "zerolinecolor": "#C8D4E3",
            "gridwidth": 2
           }
          },
          "shapedefaults": {
           "line": {
            "color": "#f2f5fa"
           }
          },
          "annotationdefaults": {
           "arrowcolor": "#f2f5fa",
           "arrowhead": 0,
           "arrowwidth": 1
          },
          "geo": {
           "bgcolor": "rgb(17,17,17)",
           "landcolor": "rgb(17,17,17)",
           "subunitcolor": "#506784",
           "showland": true,
           "showlakes": true,
           "lakecolor": "rgb(17,17,17)"
          },
          "title": {
           "x": 0.05
          },
          "updatemenudefaults": {
           "bgcolor": "#506784",
           "borderwidth": 0
          },
          "sliderdefaults": {
           "bgcolor": "#C8D4E3",
           "borderwidth": 1,
           "bordercolor": "rgb(17,17,17)",
           "tickwidth": 0
          },
          "mapbox": {
           "style": "dark"
          }
         }
        },
        "xaxis": {
         "anchor": "y",
         "domain": [
          0.0,
          1.0
         ],
         "title": {
          "text": "Nr of files"
         }
        },
        "yaxis": {
         "anchor": "x",
         "domain": [
          0.0,
          1.0
         ],
         "title": {
          "text": "count"
         }
        },
        "legend": {
         "tracegroupgap": 0
        },
        "margin": {
         "t": 60
        },
        "barmode": "relative"
       },
       "config": {
        "plotlyServerURL": "https://plot.ly"
       }
      },
      "text/html": "<div>                            <div id=\"c787660d-f8f0-4afc-99d8-7588a007710d\" class=\"plotly-graph-div\" style=\"height:525px; width:100%;\"></div>            <script type=\"text/javascript\">                require([\"plotly\"], function(Plotly) {                    window.PLOTLYENV=window.PLOTLYENV || {};                                    if (document.getElementById(\"c787660d-f8f0-4afc-99d8-7588a007710d\")) {                    Plotly.newPlot(                        \"c787660d-f8f0-4afc-99d8-7588a007710d\",                        [{\"alignmentgroup\":\"True\",\"bingroup\":\"x\",\"hovertemplate\":\"Nr of files=%{x}<br>count=%{y}<extra></extra>\",\"legendgroup\":\"\",\"marker\":{\"color\":\"#636efa\",\"pattern\":{\"shape\":\"\"}},\"name\":\"\",\"offsetgroup\":\"\",\"orientation\":\"v\",\"showlegend\":false,\"x\":[191,186,174,155,129,113,105,76,67,63,63,58,42,40,34,34,28,25,25,20,19,18,16,15,14,11,11,9,7,6,5,4,4,4,3,3,3,3,3,2,2,2,2,2,2,2,2,2,2,1,1,1,1,1,1,1,1,1,1,1,1,1,1,1],\"xaxis\":\"x\",\"yaxis\":\"y\",\"type\":\"histogram\"}],                        {\"template\":{\"data\":{\"histogram2dcontour\":[{\"type\":\"histogram2dcontour\",\"colorbar\":{\"outlinewidth\":0,\"ticks\":\"\"},\"colorscale\":[[0.0,\"#0d0887\"],[0.1111111111111111,\"#46039f\"],[0.2222222222222222,\"#7201a8\"],[0.3333333333333333,\"#9c179e\"],[0.4444444444444444,\"#bd3786\"],[0.5555555555555556,\"#d8576b\"],[0.6666666666666666,\"#ed7953\"],[0.7777777777777778,\"#fb9f3a\"],[0.8888888888888888,\"#fdca26\"],[1.0,\"#f0f921\"]]}],\"choropleth\":[{\"type\":\"choropleth\",\"colorbar\":{\"outlinewidth\":0,\"ticks\":\"\"}}],\"histogram2d\":[{\"type\":\"histogram2d\",\"colorbar\":{\"outlinewidth\":0,\"ticks\":\"\"},\"colorscale\":[[0.0,\"#0d0887\"],[0.1111111111111111,\"#46039f\"],[0.2222222222222222,\"#7201a8\"],[0.3333333333333333,\"#9c179e\"],[0.4444444444444444,\"#bd3786\"],[0.5555555555555556,\"#d8576b\"],[0.6666666666666666,\"#ed7953\"],[0.7777777777777778,\"#fb9f3a\"],[0.8888888888888888,\"#fdca26\"],[1.0,\"#f0f921\"]]}],\"heatmap\":[{\"type\":\"heatmap\",\"colorbar\":{\"outlinewidth\":0,\"ticks\":\"\"},\"colorscale\":[[0.0,\"#0d0887\"],[0.1111111111111111,\"#46039f\"],[0.2222222222222222,\"#7201a8\"],[0.3333333333333333,\"#9c179e\"],[0.4444444444444444,\"#bd3786\"],[0.5555555555555556,\"#d8576b\"],[0.6666666666666666,\"#ed7953\"],[0.7777777777777778,\"#fb9f3a\"],[0.8888888888888888,\"#fdca26\"],[1.0,\"#f0f921\"]]}],\"heatmapgl\":[{\"type\":\"heatmapgl\",\"colorbar\":{\"outlinewidth\":0,\"ticks\":\"\"},\"colorscale\":[[0.0,\"#0d0887\"],[0.1111111111111111,\"#46039f\"],[0.2222222222222222,\"#7201a8\"],[0.3333333333333333,\"#9c179e\"],[0.4444444444444444,\"#bd3786\"],[0.5555555555555556,\"#d8576b\"],[0.6666666666666666,\"#ed7953\"],[0.7777777777777778,\"#fb9f3a\"],[0.8888888888888888,\"#fdca26\"],[1.0,\"#f0f921\"]]}],\"contourcarpet\":[{\"type\":\"contourcarpet\",\"colorbar\":{\"outlinewidth\":0,\"ticks\":\"\"}}],\"contour\":[{\"type\":\"contour\",\"colorbar\":{\"outlinewidth\":0,\"ticks\":\"\"},\"colorscale\":[[0.0,\"#0d0887\"],[0.1111111111111111,\"#46039f\"],[0.2222222222222222,\"#7201a8\"],[0.3333333333333333,\"#9c179e\"],[0.4444444444444444,\"#bd3786\"],[0.5555555555555556,\"#d8576b\"],[0.6666666666666666,\"#ed7953\"],[0.7777777777777778,\"#fb9f3a\"],[0.8888888888888888,\"#fdca26\"],[1.0,\"#f0f921\"]]}],\"surface\":[{\"type\":\"surface\",\"colorbar\":{\"outlinewidth\":0,\"ticks\":\"\"},\"colorscale\":[[0.0,\"#0d0887\"],[0.1111111111111111,\"#46039f\"],[0.2222222222222222,\"#7201a8\"],[0.3333333333333333,\"#9c179e\"],[0.4444444444444444,\"#bd3786\"],[0.5555555555555556,\"#d8576b\"],[0.6666666666666666,\"#ed7953\"],[0.7777777777777778,\"#fb9f3a\"],[0.8888888888888888,\"#fdca26\"],[1.0,\"#f0f921\"]]}],\"mesh3d\":[{\"type\":\"mesh3d\",\"colorbar\":{\"outlinewidth\":0,\"ticks\":\"\"}}],\"scatter\":[{\"marker\":{\"line\":{\"color\":\"#283442\"}},\"type\":\"scatter\"}],\"parcoords\":[{\"type\":\"parcoords\",\"line\":{\"colorbar\":{\"outlinewidth\":0,\"ticks\":\"\"}}}],\"scatterpolargl\":[{\"type\":\"scatterpolargl\",\"marker\":{\"colorbar\":{\"outlinewidth\":0,\"ticks\":\"\"}}}],\"bar\":[{\"error_x\":{\"color\":\"#f2f5fa\"},\"error_y\":{\"color\":\"#f2f5fa\"},\"marker\":{\"line\":{\"color\":\"rgb(17,17,17)\",\"width\":0.5},\"pattern\":{\"fillmode\":\"overlay\",\"size\":10,\"solidity\":0.2}},\"type\":\"bar\"}],\"scattergeo\":[{\"type\":\"scattergeo\",\"marker\":{\"colorbar\":{\"outlinewidth\":0,\"ticks\":\"\"}}}],\"scatterpolar\":[{\"type\":\"scatterpolar\",\"marker\":{\"colorbar\":{\"outlinewidth\":0,\"ticks\":\"\"}}}],\"histogram\":[{\"marker\":{\"pattern\":{\"fillmode\":\"overlay\",\"size\":10,\"solidity\":0.2}},\"type\":\"histogram\"}],\"scattergl\":[{\"marker\":{\"line\":{\"color\":\"#283442\"}},\"type\":\"scattergl\"}],\"scatter3d\":[{\"type\":\"scatter3d\",\"line\":{\"colorbar\":{\"outlinewidth\":0,\"ticks\":\"\"}},\"marker\":{\"colorbar\":{\"outlinewidth\":0,\"ticks\":\"\"}}}],\"scattermapbox\":[{\"type\":\"scattermapbox\",\"marker\":{\"colorbar\":{\"outlinewidth\":0,\"ticks\":\"\"}}}],\"scatterternary\":[{\"type\":\"scatterternary\",\"marker\":{\"colorbar\":{\"outlinewidth\":0,\"ticks\":\"\"}}}],\"scattercarpet\":[{\"type\":\"scattercarpet\",\"marker\":{\"colorbar\":{\"outlinewidth\":0,\"ticks\":\"\"}}}],\"carpet\":[{\"aaxis\":{\"endlinecolor\":\"#A2B1C6\",\"gridcolor\":\"#506784\",\"linecolor\":\"#506784\",\"minorgridcolor\":\"#506784\",\"startlinecolor\":\"#A2B1C6\"},\"baxis\":{\"endlinecolor\":\"#A2B1C6\",\"gridcolor\":\"#506784\",\"linecolor\":\"#506784\",\"minorgridcolor\":\"#506784\",\"startlinecolor\":\"#A2B1C6\"},\"type\":\"carpet\"}],\"table\":[{\"cells\":{\"fill\":{\"color\":\"#506784\"},\"line\":{\"color\":\"rgb(17,17,17)\"}},\"header\":{\"fill\":{\"color\":\"#2a3f5f\"},\"line\":{\"color\":\"rgb(17,17,17)\"}},\"type\":\"table\"}],\"barpolar\":[{\"marker\":{\"line\":{\"color\":\"rgb(17,17,17)\",\"width\":0.5},\"pattern\":{\"fillmode\":\"overlay\",\"size\":10,\"solidity\":0.2}},\"type\":\"barpolar\"}],\"pie\":[{\"automargin\":true,\"type\":\"pie\"}]},\"layout\":{\"autotypenumbers\":\"strict\",\"colorway\":[\"#636efa\",\"#EF553B\",\"#00cc96\",\"#ab63fa\",\"#FFA15A\",\"#19d3f3\",\"#FF6692\",\"#B6E880\",\"#FF97FF\",\"#FECB52\"],\"font\":{\"color\":\"#f2f5fa\"},\"hovermode\":\"closest\",\"hoverlabel\":{\"align\":\"left\"},\"paper_bgcolor\":\"rgb(17,17,17)\",\"plot_bgcolor\":\"rgb(17,17,17)\",\"polar\":{\"bgcolor\":\"rgb(17,17,17)\",\"angularaxis\":{\"gridcolor\":\"#506784\",\"linecolor\":\"#506784\",\"ticks\":\"\"},\"radialaxis\":{\"gridcolor\":\"#506784\",\"linecolor\":\"#506784\",\"ticks\":\"\"}},\"ternary\":{\"bgcolor\":\"rgb(17,17,17)\",\"aaxis\":{\"gridcolor\":\"#506784\",\"linecolor\":\"#506784\",\"ticks\":\"\"},\"baxis\":{\"gridcolor\":\"#506784\",\"linecolor\":\"#506784\",\"ticks\":\"\"},\"caxis\":{\"gridcolor\":\"#506784\",\"linecolor\":\"#506784\",\"ticks\":\"\"}},\"coloraxis\":{\"colorbar\":{\"outlinewidth\":0,\"ticks\":\"\"}},\"colorscale\":{\"sequential\":[[0.0,\"#0d0887\"],[0.1111111111111111,\"#46039f\"],[0.2222222222222222,\"#7201a8\"],[0.3333333333333333,\"#9c179e\"],[0.4444444444444444,\"#bd3786\"],[0.5555555555555556,\"#d8576b\"],[0.6666666666666666,\"#ed7953\"],[0.7777777777777778,\"#fb9f3a\"],[0.8888888888888888,\"#fdca26\"],[1.0,\"#f0f921\"]],\"sequentialminus\":[[0.0,\"#0d0887\"],[0.1111111111111111,\"#46039f\"],[0.2222222222222222,\"#7201a8\"],[0.3333333333333333,\"#9c179e\"],[0.4444444444444444,\"#bd3786\"],[0.5555555555555556,\"#d8576b\"],[0.6666666666666666,\"#ed7953\"],[0.7777777777777778,\"#fb9f3a\"],[0.8888888888888888,\"#fdca26\"],[1.0,\"#f0f921\"]],\"diverging\":[[0,\"#8e0152\"],[0.1,\"#c51b7d\"],[0.2,\"#de77ae\"],[0.3,\"#f1b6da\"],[0.4,\"#fde0ef\"],[0.5,\"#f7f7f7\"],[0.6,\"#e6f5d0\"],[0.7,\"#b8e186\"],[0.8,\"#7fbc41\"],[0.9,\"#4d9221\"],[1,\"#276419\"]]},\"xaxis\":{\"gridcolor\":\"#283442\",\"linecolor\":\"#506784\",\"ticks\":\"\",\"title\":{\"standoff\":15},\"zerolinecolor\":\"#283442\",\"automargin\":true,\"zerolinewidth\":2},\"yaxis\":{\"gridcolor\":\"#283442\",\"linecolor\":\"#506784\",\"ticks\":\"\",\"title\":{\"standoff\":15},\"zerolinecolor\":\"#283442\",\"automargin\":true,\"zerolinewidth\":2},\"scene\":{\"xaxis\":{\"backgroundcolor\":\"rgb(17,17,17)\",\"gridcolor\":\"#506784\",\"linecolor\":\"#506784\",\"showbackground\":true,\"ticks\":\"\",\"zerolinecolor\":\"#C8D4E3\",\"gridwidth\":2},\"yaxis\":{\"backgroundcolor\":\"rgb(17,17,17)\",\"gridcolor\":\"#506784\",\"linecolor\":\"#506784\",\"showbackground\":true,\"ticks\":\"\",\"zerolinecolor\":\"#C8D4E3\",\"gridwidth\":2},\"zaxis\":{\"backgroundcolor\":\"rgb(17,17,17)\",\"gridcolor\":\"#506784\",\"linecolor\":\"#506784\",\"showbackground\":true,\"ticks\":\"\",\"zerolinecolor\":\"#C8D4E3\",\"gridwidth\":2}},\"shapedefaults\":{\"line\":{\"color\":\"#f2f5fa\"}},\"annotationdefaults\":{\"arrowcolor\":\"#f2f5fa\",\"arrowhead\":0,\"arrowwidth\":1},\"geo\":{\"bgcolor\":\"rgb(17,17,17)\",\"landcolor\":\"rgb(17,17,17)\",\"subunitcolor\":\"#506784\",\"showland\":true,\"showlakes\":true,\"lakecolor\":\"rgb(17,17,17)\"},\"title\":{\"x\":0.05},\"updatemenudefaults\":{\"bgcolor\":\"#506784\",\"borderwidth\":0},\"sliderdefaults\":{\"bgcolor\":\"#C8D4E3\",\"borderwidth\":1,\"bordercolor\":\"rgb(17,17,17)\",\"tickwidth\":0},\"mapbox\":{\"style\":\"dark\"}}},\"xaxis\":{\"anchor\":\"y\",\"domain\":[0.0,1.0],\"title\":{\"text\":\"Nr of files\"}},\"yaxis\":{\"anchor\":\"x\",\"domain\":[0.0,1.0],\"title\":{\"text\":\"count\"}},\"legend\":{\"tracegroupgap\":0},\"margin\":{\"t\":60},\"barmode\":\"relative\"},                        {\"responsive\": true}                    ).then(function(){\n                            \nvar gd = document.getElementById('c787660d-f8f0-4afc-99d8-7588a007710d');\nvar x = new MutationObserver(function (mutations, observer) {{\n        var display = window.getComputedStyle(gd).display;\n        if (!display || display === 'none') {{\n            console.log([gd, 'removed!']);\n            Plotly.purge(gd);\n            observer.disconnect();\n        }}\n}});\n\n// Listen for the removal of the full notebook cells\nvar notebookContainer = gd.closest('#notebook-container');\nif (notebookContainer) {{\n    x.observe(notebookContainer, {childList: true});\n}}\n\n// Listen for the clearing of the current output cell\nvar outputEl = gd.closest('.output');\nif (outputEl) {{\n    x.observe(outputEl, {childList: true});\n}}\n\n                        })                };                });            </script>        </div>"
     },
     "metadata": {},
     "output_type": "display_data"
    }
   ],
   "source": [
    "hist_author_count = px.histogram(df_author_file_count_sorted, x=col_name_nr_of_files)\n",
    "hist_author_count.show()"
   ],
   "metadata": {
    "collapsed": false
   }
  },
  {
   "cell_type": "markdown",
   "source": [
    "Most of the people only change a few files, as has been seen in other open source projects.\n",
    "There are some main contributes which changed more than 20 files."
   ],
   "metadata": {
    "collapsed": false
   }
  },
  {
   "cell_type": "markdown",
   "source": [
    "\n",
    "Now, let's look at the following 3 packages in more detail:\n",
    "1. `src/main/java/org/elasticsearch/search`\n",
    "2. `src/main/java/org/elasticsearch/index`\n",
    "3. `src/main/java/org/elasticsearch/action`\n",
    "\n",
    "Create a function that, given the path of a package and a modification type (see class Modification above), returns a dictionary of authors => number, where the number counts the total lines added or removed or added+removed or added-removed (depending on the given Modification parameter), for the given package. To compute the value at the package level, you should aggregate the data per file.\n",
    "\n",
    "Using the function defined above, visualize the author contributions (lines added + lines removed). The visualization should have the author on the x axis, and the total lines on the y axis. Sort the visualization in decreasing amount of contributions, i.e., the main author should be the first.\n",
    "\n",
    "Compare the visualization for the 3 packages and comment."
   ],
   "metadata": {
    "collapsed": false
   }
  },
  {
   "cell_type": "code",
   "execution_count": 190,
   "outputs": [
    {
     "data": {
      "text/plain": "[('Simon Willnauer',\n  {<Modification.ADDED: 'Lines added'>: 93,\n   <Modification.REMOVED: 'Lines removed'>: 202,\n   <Modification.TOTAL: 'Lines added + lines removed'>: 295,\n   <Modification.DIFF: 'Lines added - lines removed'>: -109}),\n ('Lee Hinman',\n  {<Modification.ADDED: 'Lines added'>: 244,\n   <Modification.REMOVED: 'Lines removed'>: 25,\n   <Modification.TOTAL: 'Lines added + lines removed'>: 269,\n   <Modification.DIFF: 'Lines added - lines removed'>: 219}),\n ('Adrien Grand',\n  {<Modification.ADDED: 'Lines added'>: 1823,\n   <Modification.REMOVED: 'Lines removed'>: 370,\n   <Modification.TOTAL: 'Lines added + lines removed'>: 2193,\n   <Modification.DIFF: 'Lines added - lines removed'>: 1453}),\n ('Martijn van Groningen',\n  {<Modification.ADDED: 'Lines added'>: 15,\n   <Modification.REMOVED: 'Lines removed'>: 67,\n   <Modification.TOTAL: 'Lines added + lines removed'>: 82,\n   <Modification.DIFF: 'Lines added - lines removed'>: -52}),\n ('Clinton Gormley',\n  {<Modification.ADDED: 'Lines added'>: 0,\n   <Modification.REMOVED: 'Lines removed'>: 0,\n   <Modification.TOTAL: 'Lines added + lines removed'>: 0,\n   <Modification.DIFF: 'Lines added - lines removed'>: 0}),\n ('uboness',\n  {<Modification.ADDED: 'Lines added'>: 2513,\n   <Modification.REMOVED: 'Lines removed'>: 846,\n   <Modification.TOTAL: 'Lines added + lines removed'>: 3359,\n   <Modification.DIFF: 'Lines added - lines removed'>: 1667}),\n ('Luca Cavanna',\n  {<Modification.ADDED: 'Lines added'>: 45,\n   <Modification.REMOVED: 'Lines removed'>: 24,\n   <Modification.TOTAL: 'Lines added + lines removed'>: 69,\n   <Modification.DIFF: 'Lines added - lines removed'>: 21}),\n ('Paul Horn',\n  {<Modification.ADDED: 'Lines added'>: 0,\n   <Modification.REMOVED: 'Lines removed'>: 0,\n   <Modification.TOTAL: 'Lines added + lines removed'>: 0,\n   <Modification.DIFF: 'Lines added - lines removed'>: 0}),\n ('Brusic',\n  {<Modification.ADDED: 'Lines added'>: 0,\n   <Modification.REMOVED: 'Lines removed'>: 0,\n   <Modification.TOTAL: 'Lines added + lines removed'>: 0,\n   <Modification.DIFF: 'Lines added - lines removed'>: 0}),\n ('Nik Everett',\n  {<Modification.ADDED: 'Lines added'>: 242,\n   <Modification.REMOVED: 'Lines removed'>: 96,\n   <Modification.TOTAL: 'Lines added + lines removed'>: 338,\n   <Modification.DIFF: 'Lines added - lines removed'>: 146}),\n ('Karel Minarik',\n  {<Modification.ADDED: 'Lines added'>: 0,\n   <Modification.REMOVED: 'Lines removed'>: 0,\n   <Modification.TOTAL: 'Lines added + lines removed'>: 0,\n   <Modification.DIFF: 'Lines added - lines removed'>: 0}),\n ('Andrew Raines',\n  {<Modification.ADDED: 'Lines added'>: 0,\n   <Modification.REMOVED: 'Lines removed'>: 0,\n   <Modification.TOTAL: 'Lines added + lines removed'>: 0,\n   <Modification.DIFF: 'Lines added - lines removed'>: 0}),\n ('Shay Banon',\n  {<Modification.ADDED: 'Lines added'>: 0,\n   <Modification.REMOVED: 'Lines removed'>: 0,\n   <Modification.TOTAL: 'Lines added + lines removed'>: 0,\n   <Modification.DIFF: 'Lines added - lines removed'>: 0}),\n ('David Pilato',\n  {<Modification.ADDED: 'Lines added'>: 0,\n   <Modification.REMOVED: 'Lines removed'>: 0,\n   <Modification.TOTAL: 'Lines added + lines removed'>: 0,\n   <Modification.DIFF: 'Lines added - lines removed'>: 0}),\n ('Alexander Reelsen',\n  {<Modification.ADDED: 'Lines added'>: 76,\n   <Modification.REMOVED: 'Lines removed'>: 3,\n   <Modification.TOTAL: 'Lines added + lines removed'>: 79,\n   <Modification.DIFF: 'Lines added - lines removed'>: 73}),\n ('mrsolo',\n  {<Modification.ADDED: 'Lines added'>: 0,\n   <Modification.REMOVED: 'Lines removed'>: 0,\n   <Modification.TOTAL: 'Lines added + lines removed'>: 0,\n   <Modification.DIFF: 'Lines added - lines removed'>: 0}),\n ('Benjamin Devèze',\n  {<Modification.ADDED: 'Lines added'>: 0,\n   <Modification.REMOVED: 'Lines removed'>: 0,\n   <Modification.TOTAL: 'Lines added + lines removed'>: 0,\n   <Modification.DIFF: 'Lines added - lines removed'>: 0}),\n ('Igor Motov',\n  {<Modification.ADDED: 'Lines added'>: 0,\n   <Modification.REMOVED: 'Lines removed'>: 0,\n   <Modification.TOTAL: 'Lines added + lines removed'>: 0,\n   <Modification.DIFF: 'Lines added - lines removed'>: 0}),\n ('Mark Conlin',\n  {<Modification.ADDED: 'Lines added'>: 0,\n   <Modification.REMOVED: 'Lines removed'>: 0,\n   <Modification.TOTAL: 'Lines added + lines removed'>: 0,\n   <Modification.DIFF: 'Lines added - lines removed'>: 0}),\n ('George P. Stathis',\n  {<Modification.ADDED: 'Lines added'>: 0,\n   <Modification.REMOVED: 'Lines removed'>: 0,\n   <Modification.TOTAL: 'Lines added + lines removed'>: 0,\n   <Modification.DIFF: 'Lines added - lines removed'>: 0})]"
     },
     "metadata": {},
     "output_type": "display_data"
    }
   ],
   "source": [
    "from typing import Dict\n",
    "\n",
    "\n",
    "AuthorChurnDict = Dict[str, Dict[Modification, int]]\n",
    "\n",
    "# noinspection PyShadowingNames\n",
    "def author_churn_of_path(path: str, from_tag: str = from_tag, to_tag: str = to_tag) -> AuthorChurnDict:\n",
    "    modifications: AuthorChurnDict = {}\n",
    "    repo = Repository(path_to_repo=repo_checkout_path, from_tag=from_tag, to_tag=to_tag)\n",
    "    for commit in repo.traverse_commits():\n",
    "        author_identifier = commit.author.name\n",
    "        modifications.setdefault(author_identifier, dict([(mod_type, 0) for mod_type in Modification]))\n",
    "        for file in commit.modified_files:\n",
    "            if file.new_path is None:\n",
    "                continue\n",
    "            if not file.new_path.__contains__(path):\n",
    "                continue\n",
    "            modifications[author_identifier][Modification.ADDED] += file.added_lines\n",
    "            modifications[author_identifier][Modification.REMOVED] += file.deleted_lines\n",
    "            modifications[author_identifier][Modification.TOTAL] += file.added_lines + file.deleted_lines\n",
    "            modifications[author_identifier][Modification.DIFF] += file.added_lines - file.deleted_lines\n",
    "\n",
    "    return modifications\n",
    "\n",
    "display([(k, v) for k, v in author_churn_of_path('src/main/java/org/elasticsearch/search').items()][:20])"
   ],
   "metadata": {
    "collapsed": false
   }
  },
  {
   "cell_type": "markdown",
   "id": "ff9eee63",
   "metadata": {},
   "source": [
    "## Task 2: Knowledge loss\n",
    "\n",
    "We now want to analyze the knowledge loss when the main contributor of the analyzed project would leave. For this we will use the circle packaging layout introduced in the \"Code as a Crime Scene\" book. It should show how much of each file was written by the main contributor of _elasticsearch_ (according to the analysis above using `Modification.TOTAL`) and indicate which areas would be affected most when this contributor leaves the project. This assignment includes the necessary `knowledge_loss.html` file as well as the `d3` folder with the d3 dependencies. Your task is to create the `output.json` file according to the specification below. This file can then be visualized with the files provided.\n",
    "\n",
    "For showing the visualization, once you have the output as `output.json` you should\n",
    "* make sure to have the `knowledge_loss.html` file in the same folder\n",
    "* start a local HTTP server in the same folder (e.g. with python `python3 -m http.server`, serving necessary for d3)\n",
    "* open the served `knowledge_loss.html` and look at the visualization\n",
    "\n",
    "For testing, you can use the provided `output.json` and should see a circle packaging layout with two circles, one big red, and one small white-red.\n",
    "\n",
    "For the package you identify as the worst in terms of knowledge loss, investigate the author contributions using the function defined in the previous exercise and comment how the situation is, e.g. how big the gap between the main author and the second biggest contributor for the selected package is."
   ]
  },
  {
   "cell_type": "markdown",
   "id": "186eb566",
   "metadata": {},
   "source": [
    "### Output Format for Visualization\n",
    "\n",
    "Example:\n",
    "\n",
    "* `root` is always the root of the tree\n",
    "* `size` should be the total number of lines of contribution\n",
    "* `weight` can be set to the same as `size`\n",
    "* `ownership` should be set to the percentage of contributions from the main author (e.g. 0.98 for 98% if contributions coming from the main author)\n",
    "\n",
    "```\n",
    "{\n",
    "  \"name\": \"root\",\n",
    "  \"children\": [\n",
    "    {\n",
    "      \"name\": \"test\",\n",
    "      \"children\": [\n",
    "        {\n",
    "          \"name\": \"benchmarking\",\n",
    "          \"children\": [\n",
    "            {\n",
    "              \"author_color\": \"red\",\n",
    "              \"size\": \"4005\",\n",
    "              \"name\": \"t6726-patmat-analysis.scala\",\n",
    "              \"weight\": 1.0,\n",
    "              \"ownership\": 0.9,\n",
    "              \"children\": []\n",
    "            },\n",
    "            {\n",
    "              \"author_color\": \"red\",\n",
    "              \"size\": \"55\",\n",
    "              \"name\": \"TreeSetIterator.scala\",\n",
    "              \"weight\": 0.88,\n",
    "              \"ownership\": 0.2,\n",
    "              \"children\": []\n",
    "            }\n",
    "          ]\n",
    "        }\n",
    "      ]\n",
    "    }\n",
    "  ]\n",
    "}\n",
    "```\n",
    "\n",
    "### JSON Export\n",
    "\n",
    "For exporting the data to JSON you can use the following snippet:\n",
    "\n",
    "```\n",
    "import json\n",
    "\n",
    "with open(\"output.json\", \"w\") as file:\n",
    "    json.dump(tree, file, indent=4)\n",
    "```"
   ]
  },
  {
   "cell_type": "code",
   "execution_count": 190,
   "id": "9d6a1e1d",
   "metadata": {},
   "outputs": [],
   "source": []
  },
  {
   "cell_type": "markdown",
   "id": "6fe260b7",
   "metadata": {},
   "source": [
    "## Task 3: Code Churn Analysis\n",
    "\n",
    "The third and last task is to analyze the code churn of the _elasticsearch_ project. For this analysis we look at the code churn, meaning the daily change in the total number of lines of the project. Visualize the code churn over time bucketing the data by day. Remember that you'll need to fill the gaps for days when there are no commits. Chose a filling strategy and justify it.\n",
    "\n",
    "Look at the churn trend over time and identify two outliers. For each of them:\n",
    "- identify if it was caused by a single or multiple commits (since you are bucketing the data by day)\n",
    "- find the hash of the involved commit(s)\n",
    "- find the involved files\n",
    "- look at the actual diff\n",
    "\n",
    "Based on the above, discuss if the outlier is a false positive or should be a reason for concern."
   ]
  },
  {
   "cell_type": "code",
   "execution_count": 191,
   "id": "be3fd5d8",
   "metadata": {},
   "outputs": [],
   "source": [
    "date_to_churn = {}\n",
    "\n",
    "for commit in repo.traverse_commits():\n",
    "    date = commit.committer_date.date()\n",
    "    if date in date_to_churn:\n",
    "        date_to_churn[date][\"lines added\"] += commit.insertions\n",
    "        date_to_churn[date][\"lines deleted\"] += commit.deletions\n",
    "        date_to_churn[date][\"hashes\"].append(commit.hash)\n",
    "        date_to_churn[date][\"messages\"].append(commit.msg)\n",
    "    else:\n",
    "        date_to_churn[date] = {\"lines added\":commit.insertions,\n",
    "                               \"lines deleted\":commit.deletions,\n",
    "                               \"hashes\":[commit.hash],\n",
    "                               \"messages\":[commit.msg]}\n",
    "\n"
   ]
  },
  {
   "cell_type": "markdown",
   "source": [
    "I choose to add zeros to fill the gaps, because if there are no commits, it means that the amount of lines could not have changed."
   ],
   "metadata": {
    "collapsed": false
   }
  },
  {
   "cell_type": "code",
   "execution_count": 192,
   "outputs": [],
   "source": [
    "min_date = min(date_to_churn.keys())\n",
    "max_date = max(date_to_churn.keys())\n",
    "date_list = [entry.date() for entry in pd.date_range(min_date, max_date)]\n",
    "for date in date_list:\n",
    "    if date not in date_to_churn:\n",
    "        date_to_churn[date] = {\"lines added\":0,\n",
    "                               \"lines deleted\":0,\n",
    "                               \"hashes\":[],\n",
    "                               \"messages\":[]}"
   ],
   "metadata": {
    "collapsed": false
   }
  },
  {
   "cell_type": "code",
   "execution_count": 193,
   "outputs": [
    {
     "data": {
      "text/html": "<style>\n        .bk-notebook-logo {\n            display: block;\n            width: 20px;\n            height: 20px;\n            background-image: url(data:image/png;base64,iVBORw0KGgoAAAANSUhEUgAAABQAAAAUCAYAAACNiR0NAAAABHNCSVQICAgIfAhkiAAAAAlwSFlzAAALEgAACxIB0t1+/AAAABx0RVh0U29mdHdhcmUAQWRvYmUgRmlyZXdvcmtzIENTNui8sowAAAOkSURBVDiNjZRtaJVlGMd/1/08zzln5zjP1LWcU9N0NkN8m2CYjpgQYQXqSs0I84OLIC0hkEKoPtiH3gmKoiJDU7QpLgoLjLIQCpEsNJ1vqUOdO7ppbuec5+V+rj4ctwzd8IIbbi6u+8f1539dt3A78eXC7QizUF7gyV1fD1Yqg4JWz84yffhm0qkFqBogB9rM8tZdtwVsPUhWhGcFJngGeWrPzHm5oaMmkfEg1usvLFyc8jLRqDOMru7AyC8saQr7GG7f5fvDeH7Ej8CM66nIF+8yngt6HWaKh7k49Soy9nXurCi1o3qUbS3zWfrYeQDTB/Qj6kX6Ybhw4B+bOYoLKCC9H3Nu/leUTZ1JdRWkkn2ldcCamzrcf47KKXdAJllSlxAOkRgyHsGC/zRday5Qld9DyoM4/q/rUoy/CXh3jzOu3bHUVZeU+DEn8FInkPBFlu3+nW3Nw0mk6vCDiWg8CeJaxEwuHS3+z5RgY+YBR6V1Z1nxSOfoaPa4LASWxxdNp+VWTk7+4vzaou8v8PN+xo+KY2xsw6une2frhw05CTYOmQvsEhjhWjn0bmXPjpE1+kplmmkP3suftwTubK9Vq22qKmrBhpY4jvd5afdRA3wGjFAgcnTK2s4hY0/GPNIb0nErGMCRxWOOX64Z8RAC4oCXdklmEvcL8o0BfkNK4lUg9HTl+oPlQxdNo3Mg4Nv175e/1LDGzZen30MEjRUtmXSfiTVu1kK8W4txyV6BMKlbgk3lMwYCiusNy9fVfvvwMxv8Ynl6vxoByANLTWplvuj/nF9m2+PDtt1eiHPBr1oIfhCChQMBw6Aw0UulqTKZdfVvfG7VcfIqLG9bcldL/+pdWTLxLUy8Qq38heUIjh4XlzZxzQm19lLFlr8vdQ97rjZVOLf8nclzckbcD4wxXMidpX30sFd37Fv/GtwwhzhxGVAprjbg0gCAEeIgwCZyTV2Z1REEW8O4py0wsjeloKoMr6iCY6dP92H6Vw/oTyICIthibxjm/DfN9lVz8IqtqKYLUXfoKVMVQVVJOElGjrnnUt9T9wbgp8AyYKaGlqingHZU/uG2NTZSVqwHQTWkx9hxjkpWDaCg6Ckj5qebgBVbT3V3NNXMSiWSDdGV3hrtzla7J+duwPOToIg42ChPQOQjspnSlp1V+Gjdged7+8UN5CRAV7a5EdFNwCjEaBR27b3W890TE7g24NAP/mMDXRWrGoFPQI9ls/MWO2dWFAar/xcOIImbbpA3zgAAAABJRU5ErkJggg==);\n        }\n    </style>\n    <div>\n        <a href=\"https://bokeh.org\" target=\"_blank\" class=\"bk-notebook-logo\"></a>\n        <span id=\"p53102\">Loading BokehJS ...</span>\n    </div>\n"
     },
     "metadata": {},
     "output_type": "display_data"
    },
    {
     "data": {
      "application/javascript": "(function(root) {\n  function now() {\n    return new Date();\n  }\n\n  const force = true;\n\n  if (typeof root._bokeh_onload_callbacks === \"undefined\" || force === true) {\n    root._bokeh_onload_callbacks = [];\n    root._bokeh_is_loading = undefined;\n  }\n\nconst JS_MIME_TYPE = 'application/javascript';\n  const HTML_MIME_TYPE = 'text/html';\n  const EXEC_MIME_TYPE = 'application/vnd.bokehjs_exec.v0+json';\n  const CLASS_NAME = 'output_bokeh rendered_html';\n\n  /**\n   * Render data to the DOM node\n   */\n  function render(props, node) {\n    const script = document.createElement(\"script\");\n    node.appendChild(script);\n  }\n\n  /**\n   * Handle when an output is cleared or removed\n   */\n  function handleClearOutput(event, handle) {\n    const cell = handle.cell;\n\n    const id = cell.output_area._bokeh_element_id;\n    const server_id = cell.output_area._bokeh_server_id;\n    // Clean up Bokeh references\n    if (id != null && id in Bokeh.index) {\n      Bokeh.index[id].model.document.clear();\n      delete Bokeh.index[id];\n    }\n\n    if (server_id !== undefined) {\n      // Clean up Bokeh references\n      const cmd_clean = \"from bokeh.io.state import curstate; print(curstate().uuid_to_server['\" + server_id + \"'].get_sessions()[0].document.roots[0]._id)\";\n      cell.notebook.kernel.execute(cmd_clean, {\n        iopub: {\n          output: function(msg) {\n            const id = msg.content.text.trim();\n            if (id in Bokeh.index) {\n              Bokeh.index[id].model.document.clear();\n              delete Bokeh.index[id];\n            }\n          }\n        }\n      });\n      // Destroy server and session\n      const cmd_destroy = \"import bokeh.io.notebook as ion; ion.destroy_server('\" + server_id + \"')\";\n      cell.notebook.kernel.execute(cmd_destroy);\n    }\n  }\n\n  /**\n   * Handle when a new output is added\n   */\n  function handleAddOutput(event, handle) {\n    const output_area = handle.output_area;\n    const output = handle.output;\n\n    // limit handleAddOutput to display_data with EXEC_MIME_TYPE content only\n    if ((output.output_type != \"display_data\") || (!Object.prototype.hasOwnProperty.call(output.data, EXEC_MIME_TYPE))) {\n      return\n    }\n\n    const toinsert = output_area.element.find(\".\" + CLASS_NAME.split(' ')[0]);\n\n    if (output.metadata[EXEC_MIME_TYPE][\"id\"] !== undefined) {\n      toinsert[toinsert.length - 1].firstChild.textContent = output.data[JS_MIME_TYPE];\n      // store reference to embed id on output_area\n      output_area._bokeh_element_id = output.metadata[EXEC_MIME_TYPE][\"id\"];\n    }\n    if (output.metadata[EXEC_MIME_TYPE][\"server_id\"] !== undefined) {\n      const bk_div = document.createElement(\"div\");\n      bk_div.innerHTML = output.data[HTML_MIME_TYPE];\n      const script_attrs = bk_div.children[0].attributes;\n      for (let i = 0; i < script_attrs.length; i++) {\n        toinsert[toinsert.length - 1].firstChild.setAttribute(script_attrs[i].name, script_attrs[i].value);\n        toinsert[toinsert.length - 1].firstChild.textContent = bk_div.children[0].textContent\n      }\n      // store reference to server id on output_area\n      output_area._bokeh_server_id = output.metadata[EXEC_MIME_TYPE][\"server_id\"];\n    }\n  }\n\n  function register_renderer(events, OutputArea) {\n\n    function append_mime(data, metadata, element) {\n      // create a DOM node to render to\n      const toinsert = this.create_output_subarea(\n        metadata,\n        CLASS_NAME,\n        EXEC_MIME_TYPE\n      );\n      this.keyboard_manager.register_events(toinsert);\n      // Render to node\n      const props = {data: data, metadata: metadata[EXEC_MIME_TYPE]};\n      render(props, toinsert[toinsert.length - 1]);\n      element.append(toinsert);\n      return toinsert\n    }\n\n    /* Handle when an output is cleared or removed */\n    events.on('clear_output.CodeCell', handleClearOutput);\n    events.on('delete.Cell', handleClearOutput);\n\n    /* Handle when a new output is added */\n    events.on('output_added.OutputArea', handleAddOutput);\n\n    /**\n     * Register the mime type and append_mime function with output_area\n     */\n    OutputArea.prototype.register_mime_type(EXEC_MIME_TYPE, append_mime, {\n      /* Is output safe? */\n      safe: true,\n      /* Index of renderer in `output_area.display_order` */\n      index: 0\n    });\n  }\n\n  // register the mime type if in Jupyter Notebook environment and previously unregistered\n  if (root.Jupyter !== undefined) {\n    const events = require('base/js/events');\n    const OutputArea = require('notebook/js/outputarea').OutputArea;\n\n    if (OutputArea.prototype.mime_types().indexOf(EXEC_MIME_TYPE) == -1) {\n      register_renderer(events, OutputArea);\n    }\n  }\n  if (typeof (root._bokeh_timeout) === \"undefined\" || force === true) {\n    root._bokeh_timeout = Date.now() + 5000;\n    root._bokeh_failed_load = false;\n  }\n\n  const NB_LOAD_WARNING = {'data': {'text/html':\n     \"<div style='background-color: #fdd'>\\n\"+\n     \"<p>\\n\"+\n     \"BokehJS does not appear to have successfully loaded. If loading BokehJS from CDN, this \\n\"+\n     \"may be due to a slow or bad network connection. Possible fixes:\\n\"+\n     \"</p>\\n\"+\n     \"<ul>\\n\"+\n     \"<li>re-rerun `output_notebook()` to attempt to load from CDN again, or</li>\\n\"+\n     \"<li>use INLINE resources instead, as so:</li>\\n\"+\n     \"</ul>\\n\"+\n     \"<code>\\n\"+\n     \"from bokeh.resources import INLINE\\n\"+\n     \"output_notebook(resources=INLINE)\\n\"+\n     \"</code>\\n\"+\n     \"</div>\"}};\n\n  function display_loaded() {\n    const el = document.getElementById(\"p53102\");\n    if (el != null) {\n      el.textContent = \"BokehJS is loading...\";\n    }\n    if (root.Bokeh !== undefined) {\n      if (el != null) {\n        el.textContent = \"BokehJS \" + root.Bokeh.version + \" successfully loaded.\";\n      }\n    } else if (Date.now() < root._bokeh_timeout) {\n      setTimeout(display_loaded, 100)\n    }\n  }\n\n  function run_callbacks() {\n    try {\n      root._bokeh_onload_callbacks.forEach(function(callback) {\n        if (callback != null)\n          callback();\n      });\n    } finally {\n      delete root._bokeh_onload_callbacks\n    }\n    console.debug(\"Bokeh: all callbacks have finished\");\n  }\n\n  function load_libs(css_urls, js_urls, callback) {\n    if (css_urls == null) css_urls = [];\n    if (js_urls == null) js_urls = [];\n\n    root._bokeh_onload_callbacks.push(callback);\n    if (root._bokeh_is_loading > 0) {\n      console.debug(\"Bokeh: BokehJS is being loaded, scheduling callback at\", now());\n      return null;\n    }\n    if (js_urls == null || js_urls.length === 0) {\n      run_callbacks();\n      return null;\n    }\n    console.debug(\"Bokeh: BokehJS not loaded, scheduling load and callback at\", now());\n    root._bokeh_is_loading = css_urls.length + js_urls.length;\n\n    function on_load() {\n      root._bokeh_is_loading--;\n      if (root._bokeh_is_loading === 0) {\n        console.debug(\"Bokeh: all BokehJS libraries/stylesheets loaded\");\n        run_callbacks()\n      }\n    }\n\n    function on_error(url) {\n      console.error(\"failed to load \" + url);\n    }\n\n    for (let i = 0; i < css_urls.length; i++) {\n      const url = css_urls[i];\n      const element = document.createElement(\"link\");\n      element.onload = on_load;\n      element.onerror = on_error.bind(null, url);\n      element.rel = \"stylesheet\";\n      element.type = \"text/css\";\n      element.href = url;\n      console.debug(\"Bokeh: injecting link tag for BokehJS stylesheet: \", url);\n      document.body.appendChild(element);\n    }\n\n    for (let i = 0; i < js_urls.length; i++) {\n      const url = js_urls[i];\n      const element = document.createElement('script');\n      element.onload = on_load;\n      element.onerror = on_error.bind(null, url);\n      element.async = false;\n      element.src = url;\n      console.debug(\"Bokeh: injecting script tag for BokehJS library: \", url);\n      document.head.appendChild(element);\n    }\n  };\n\n  function inject_raw_css(css) {\n    const element = document.createElement(\"style\");\n    element.appendChild(document.createTextNode(css));\n    document.body.appendChild(element);\n  }\n\n  const js_urls = [\"https://cdn.bokeh.org/bokeh/release/bokeh-3.0.2.min.js\", \"https://cdn.bokeh.org/bokeh/release/bokeh-gl-3.0.2.min.js\", \"https://cdn.bokeh.org/bokeh/release/bokeh-widgets-3.0.2.min.js\", \"https://cdn.bokeh.org/bokeh/release/bokeh-tables-3.0.2.min.js\", \"https://cdn.bokeh.org/bokeh/release/bokeh-mathjax-3.0.2.min.js\"];\n  const css_urls = [];\n\n  const inline_js = [    function(Bokeh) {\n      Bokeh.set_log_level(\"info\");\n    },\nfunction(Bokeh) {\n    }\n  ];\n\n  function run_inline_js() {\n    if (root.Bokeh !== undefined || force === true) {\n          for (let i = 0; i < inline_js.length; i++) {\n      inline_js[i].call(root, root.Bokeh);\n    }\nif (force === true) {\n        display_loaded();\n      }} else if (Date.now() < root._bokeh_timeout) {\n      setTimeout(run_inline_js, 100);\n    } else if (!root._bokeh_failed_load) {\n      console.log(\"Bokeh: BokehJS failed to load within specified timeout.\");\n      root._bokeh_failed_load = true;\n    } else if (force !== true) {\n      const cell = $(document.getElementById(\"p53102\")).parents('.cell').data().cell;\n      cell.output_area.append_execute_result(NB_LOAD_WARNING)\n    }\n  }\n\n  if (root._bokeh_is_loading === 0) {\n    console.debug(\"Bokeh: BokehJS loaded, going straight to plotting\");\n    run_inline_js();\n  } else {\n    load_libs(css_urls, js_urls, function() {\n      console.debug(\"Bokeh: BokehJS plotting callback run at\", now());\n      run_inline_js();\n    });\n  }\n}(window));",
      "application/vnd.bokehjs_load.v0+json": "(function(root) {\n  function now() {\n    return new Date();\n  }\n\n  const force = true;\n\n  if (typeof root._bokeh_onload_callbacks === \"undefined\" || force === true) {\n    root._bokeh_onload_callbacks = [];\n    root._bokeh_is_loading = undefined;\n  }\n\n\n  if (typeof (root._bokeh_timeout) === \"undefined\" || force === true) {\n    root._bokeh_timeout = Date.now() + 5000;\n    root._bokeh_failed_load = false;\n  }\n\n  const NB_LOAD_WARNING = {'data': {'text/html':\n     \"<div style='background-color: #fdd'>\\n\"+\n     \"<p>\\n\"+\n     \"BokehJS does not appear to have successfully loaded. If loading BokehJS from CDN, this \\n\"+\n     \"may be due to a slow or bad network connection. Possible fixes:\\n\"+\n     \"</p>\\n\"+\n     \"<ul>\\n\"+\n     \"<li>re-rerun `output_notebook()` to attempt to load from CDN again, or</li>\\n\"+\n     \"<li>use INLINE resources instead, as so:</li>\\n\"+\n     \"</ul>\\n\"+\n     \"<code>\\n\"+\n     \"from bokeh.resources import INLINE\\n\"+\n     \"output_notebook(resources=INLINE)\\n\"+\n     \"</code>\\n\"+\n     \"</div>\"}};\n\n  function display_loaded() {\n    const el = document.getElementById(\"p53102\");\n    if (el != null) {\n      el.textContent = \"BokehJS is loading...\";\n    }\n    if (root.Bokeh !== undefined) {\n      if (el != null) {\n        el.textContent = \"BokehJS \" + root.Bokeh.version + \" successfully loaded.\";\n      }\n    } else if (Date.now() < root._bokeh_timeout) {\n      setTimeout(display_loaded, 100)\n    }\n  }\n\n  function run_callbacks() {\n    try {\n      root._bokeh_onload_callbacks.forEach(function(callback) {\n        if (callback != null)\n          callback();\n      });\n    } finally {\n      delete root._bokeh_onload_callbacks\n    }\n    console.debug(\"Bokeh: all callbacks have finished\");\n  }\n\n  function load_libs(css_urls, js_urls, callback) {\n    if (css_urls == null) css_urls = [];\n    if (js_urls == null) js_urls = [];\n\n    root._bokeh_onload_callbacks.push(callback);\n    if (root._bokeh_is_loading > 0) {\n      console.debug(\"Bokeh: BokehJS is being loaded, scheduling callback at\", now());\n      return null;\n    }\n    if (js_urls == null || js_urls.length === 0) {\n      run_callbacks();\n      return null;\n    }\n    console.debug(\"Bokeh: BokehJS not loaded, scheduling load and callback at\", now());\n    root._bokeh_is_loading = css_urls.length + js_urls.length;\n\n    function on_load() {\n      root._bokeh_is_loading--;\n      if (root._bokeh_is_loading === 0) {\n        console.debug(\"Bokeh: all BokehJS libraries/stylesheets loaded\");\n        run_callbacks()\n      }\n    }\n\n    function on_error(url) {\n      console.error(\"failed to load \" + url);\n    }\n\n    for (let i = 0; i < css_urls.length; i++) {\n      const url = css_urls[i];\n      const element = document.createElement(\"link\");\n      element.onload = on_load;\n      element.onerror = on_error.bind(null, url);\n      element.rel = \"stylesheet\";\n      element.type = \"text/css\";\n      element.href = url;\n      console.debug(\"Bokeh: injecting link tag for BokehJS stylesheet: \", url);\n      document.body.appendChild(element);\n    }\n\n    for (let i = 0; i < js_urls.length; i++) {\n      const url = js_urls[i];\n      const element = document.createElement('script');\n      element.onload = on_load;\n      element.onerror = on_error.bind(null, url);\n      element.async = false;\n      element.src = url;\n      console.debug(\"Bokeh: injecting script tag for BokehJS library: \", url);\n      document.head.appendChild(element);\n    }\n  };\n\n  function inject_raw_css(css) {\n    const element = document.createElement(\"style\");\n    element.appendChild(document.createTextNode(css));\n    document.body.appendChild(element);\n  }\n\n  const js_urls = [\"https://cdn.bokeh.org/bokeh/release/bokeh-3.0.2.min.js\", \"https://cdn.bokeh.org/bokeh/release/bokeh-gl-3.0.2.min.js\", \"https://cdn.bokeh.org/bokeh/release/bokeh-widgets-3.0.2.min.js\", \"https://cdn.bokeh.org/bokeh/release/bokeh-tables-3.0.2.min.js\", \"https://cdn.bokeh.org/bokeh/release/bokeh-mathjax-3.0.2.min.js\"];\n  const css_urls = [];\n\n  const inline_js = [    function(Bokeh) {\n      Bokeh.set_log_level(\"info\");\n    },\nfunction(Bokeh) {\n    }\n  ];\n\n  function run_inline_js() {\n    if (root.Bokeh !== undefined || force === true) {\n          for (let i = 0; i < inline_js.length; i++) {\n      inline_js[i].call(root, root.Bokeh);\n    }\nif (force === true) {\n        display_loaded();\n      }} else if (Date.now() < root._bokeh_timeout) {\n      setTimeout(run_inline_js, 100);\n    } else if (!root._bokeh_failed_load) {\n      console.log(\"Bokeh: BokehJS failed to load within specified timeout.\");\n      root._bokeh_failed_load = true;\n    } else if (force !== true) {\n      const cell = $(document.getElementById(\"p53102\")).parents('.cell').data().cell;\n      cell.output_area.append_execute_result(NB_LOAD_WARNING)\n    }\n  }\n\n  if (root._bokeh_is_loading === 0) {\n    console.debug(\"Bokeh: BokehJS loaded, going straight to plotting\");\n    run_inline_js();\n  } else {\n    load_libs(css_urls, js_urls, function() {\n      console.debug(\"Bokeh: BokehJS plotting callback run at\", now());\n      run_inline_js();\n    });\n  }\n}(window));"
     },
     "metadata": {},
     "output_type": "display_data"
    },
    {
     "data": {
      "text/html": "\n  <div id=\"a7f441fa-cace-434e-88e0-bfcfa8bfc279\" data-root-id=\"p53358\" style=\"display: contents;\"></div>\n"
     },
     "metadata": {},
     "output_type": "display_data"
    },
    {
     "data": {
      "application/javascript": "(function(root) {\n  function embed_document(root) {\n  const docs_json = {\"092981de-da77-4415-b3ae-54e305c03288\":{\"version\":\"3.0.2\",\"title\":\"Bokeh Application\",\"defs\":[],\"roots\":[{\"type\":\"object\",\"name\":\"Column\",\"id\":\"p53358\",\"attributes\":{\"children\":[{\"type\":\"object\",\"name\":\"Figure\",\"id\":\"p53106\",\"attributes\":{\"width\":800,\"height\":300,\"x_range\":{\"type\":\"object\",\"name\":\"Range1d\",\"id\":\"p53115\",\"attributes\":{\"start\":1390262400000.0,\"end\":1391644800000.0}},\"y_range\":{\"type\":\"object\",\"name\":\"DataRange1d\",\"id\":\"p53108\"},\"x_scale\":{\"type\":\"object\",\"name\":\"LinearScale\",\"id\":\"p53119\"},\"y_scale\":{\"type\":\"object\",\"name\":\"LinearScale\",\"id\":\"p53121\"},\"title\":{\"type\":\"object\",\"name\":\"Title\",\"id\":\"p53110\",\"attributes\":{\"text_color\":\"#E0E0E0\",\"text_font\":\"Helvetica\",\"text_font_size\":\"1.15em\"}},\"outline_line_color\":\"#E0E0E0\",\"outline_line_alpha\":0.25,\"renderers\":[{\"type\":\"object\",\"name\":\"GlyphRenderer\",\"id\":\"p53182\",\"attributes\":{\"data_source\":{\"type\":\"object\",\"name\":\"ColumnDataSource\",\"id\":\"p53103\",\"attributes\":{\"selected\":{\"type\":\"object\",\"name\":\"Selection\",\"id\":\"p53104\",\"attributes\":{\"indices\":[],\"line_indices\":[]}},\"selection_policy\":{\"type\":\"object\",\"name\":\"UnionRenderers\",\"id\":\"p53105\"},\"data\":{\"type\":\"map\",\"entries\":[[\"date\",[1390262400000.0,1390348800000.0,1390435200000.0,1390521600000.0,1390608000000.0,1390694400000.0,1390780800000.0,1390867200000.0,1390953600000.0,1391040000000.0,1391126400000.0,1391212800000.0,1391299200000.0,1391385600000.0,1391472000000.0,1391558400000.0,1391644800000.0,1391731200000.0,1391817600000.0,1391904000000.0,1391990400000.0,1392076800000.0,1392163200000.0,1392249600000.0,1392336000000.0,1392422400000.0,1392508800000.0,1392595200000.0,1392681600000.0,1392768000000.0,1392854400000.0,1392940800000.0,1393027200000.0,1393113600000.0,1393200000000.0,1393286400000.0,1393372800000.0,1393459200000.0,1393545600000.0,1393632000000.0,1393718400000.0,1393804800000.0,1393891200000.0,1393977600000.0,1394064000000.0,1394150400000.0,1394236800000.0,1394323200000.0,1394409600000.0,1394496000000.0,1394582400000.0,1394668800000.0,1394755200000.0,1394841600000.0,1394928000000.0,1395014400000.0,1395100800000.0,1395187200000.0,1395273600000.0,1395360000000.0,1395446400000.0,1395532800000.0,1395619200000.0,1395705600000.0]],[\"added\",[517,1033,958,736,14,0,747,3074,682,511,568,0,404,709,315,47,2353,1233,4,114,373,244,130,78,3493,0,0,751,3,463,1405,352,67,0,930,729,2720,2001,942,11,1,4495,729,288,2079,233,0,4,2974,419,44,7087,3972,254,219,2815,822,823,4361,5,57,0,37,439]],[\"deleted\",[155,379,306,1011,3,0,375,2915,48,248,280,0,11,1619,139,30,483,518,0,38,122,2067,20,19,753,0,0,78,2,56,191,64,2,0,505,563,5237,461,308,5,1,135,126,44,376,123,0,4,2747,50,34,881,588,143,14,990,98,320,782,1,16,0,37,3313]],[\"hashes\",[6,18,14,14,2,0,14,19,10,7,9,0,2,13,6,2,17,20,1,2,11,12,7,10,12,0,0,4,2,11,12,8,2,0,8,6,16,8,17,1,1,7,8,6,9,6,0,2,11,7,9,18,24,3,4,21,9,8,27,2,1,0,3,7]]]}}},\"view\":{\"type\":\"object\",\"name\":\"CDSView\",\"id\":\"p53183\",\"attributes\":{\"filter\":{\"type\":\"object\",\"name\":\"AllIndices\",\"id\":\"p53184\"}}},\"glyph\":{\"type\":\"object\",\"name\":\"Line\",\"id\":\"p53179\",\"attributes\":{\"x\":{\"type\":\"field\",\"field\":\"date\"},\"y\":{\"type\":\"field\",\"field\":\"added\"},\"line_color\":\"green\"}},\"nonselection_glyph\":{\"type\":\"object\",\"name\":\"Line\",\"id\":\"p53180\",\"attributes\":{\"x\":{\"type\":\"field\",\"field\":\"date\"},\"y\":{\"type\":\"field\",\"field\":\"added\"},\"line_color\":\"green\",\"line_alpha\":0.1}},\"muted_glyph\":{\"type\":\"object\",\"name\":\"Line\",\"id\":\"p53181\",\"attributes\":{\"x\":{\"type\":\"field\",\"field\":\"date\"},\"y\":{\"type\":\"field\",\"field\":\"added\"},\"line_color\":\"green\",\"line_alpha\":0.2}}}},{\"type\":\"object\",\"name\":\"GlyphRenderer\",\"id\":\"p53230\",\"attributes\":{\"data_source\":{\"id\":\"p53103\"},\"view\":{\"type\":\"object\",\"name\":\"CDSView\",\"id\":\"p53231\",\"attributes\":{\"filter\":{\"type\":\"object\",\"name\":\"AllIndices\",\"id\":\"p53232\"}}},\"glyph\":{\"type\":\"object\",\"name\":\"Line\",\"id\":\"p53227\",\"attributes\":{\"x\":{\"type\":\"field\",\"field\":\"date\"},\"y\":{\"type\":\"field\",\"field\":\"deleted\"},\"line_color\":\"red\"}},\"nonselection_glyph\":{\"type\":\"object\",\"name\":\"Line\",\"id\":\"p53228\",\"attributes\":{\"x\":{\"type\":\"field\",\"field\":\"date\"},\"y\":{\"type\":\"field\",\"field\":\"deleted\"},\"line_color\":\"red\",\"line_alpha\":0.1}},\"muted_glyph\":{\"type\":\"object\",\"name\":\"Line\",\"id\":\"p53229\",\"attributes\":{\"x\":{\"type\":\"field\",\"field\":\"date\"},\"y\":{\"type\":\"field\",\"field\":\"deleted\"},\"line_color\":\"red\",\"line_alpha\":0.2}}}}],\"toolbar\":{\"type\":\"object\",\"name\":\"Toolbar\",\"id\":\"p53109\",\"attributes\":{\"tools\":[{\"type\":\"object\",\"name\":\"PanTool\",\"id\":\"p53173\",\"attributes\":{\"dimensions\":\"width\"}},{\"type\":\"object\",\"name\":\"HoverTool\",\"id\":\"p53274\",\"attributes\":{\"renderers\":\"auto\",\"tooltips\":[[\"date\",\"@date{%F}\"],[\"added\",\"@added\"],[\"deleted\",\"@deleted\"],[\"amount of commits\",\"@hashes\"]],\"formatters\":{\"type\":\"map\",\"entries\":[[\"@date\",\"datetime\"]]}}}]}},\"toolbar_location\":null,\"left\":[{\"type\":\"object\",\"name\":\"LinearAxis\",\"id\":\"p53166\",\"attributes\":{\"ticker\":{\"type\":\"object\",\"name\":\"BasicTicker\",\"id\":\"p53167\",\"attributes\":{\"mantissas\":[1,2,5]}},\"formatter\":{\"type\":\"object\",\"name\":\"BasicTickFormatter\",\"id\":\"p53168\"},\"axis_label\":\"lines of change\",\"axis_label_standoff\":10,\"axis_label_text_color\":\"#E0E0E0\",\"axis_label_text_font\":\"Helvetica\",\"axis_label_text_font_size\":\"1.25em\",\"axis_label_text_font_style\":\"normal\",\"major_label_policy\":{\"type\":\"object\",\"name\":\"AllLabels\",\"id\":\"p53169\"},\"major_label_text_color\":\"#E0E0E0\",\"major_label_text_font\":\"Helvetica\",\"major_label_text_font_size\":\"1.025em\",\"axis_line_color\":\"#E0E0E0\",\"axis_line_alpha\":0,\"major_tick_line_color\":\"#E0E0E0\",\"major_tick_line_alpha\":0,\"minor_tick_line_color\":\"#E0E0E0\",\"minor_tick_line_alpha\":0}}],\"above\":[{\"type\":\"object\",\"name\":\"DatetimeAxis\",\"id\":\"p53123\",\"attributes\":{\"ticker\":{\"type\":\"object\",\"name\":\"DatetimeTicker\",\"id\":\"p53124\",\"attributes\":{\"num_minor_ticks\":5,\"tickers\":[{\"type\":\"object\",\"name\":\"AdaptiveTicker\",\"id\":\"p53125\",\"attributes\":{\"num_minor_ticks\":0,\"mantissas\":[1,2,5],\"max_interval\":500.0}},{\"type\":\"object\",\"name\":\"AdaptiveTicker\",\"id\":\"p53126\",\"attributes\":{\"num_minor_ticks\":0,\"base\":60,\"mantissas\":[1,2,5,10,15,20,30],\"min_interval\":1000.0,\"max_interval\":1800000.0}},{\"type\":\"object\",\"name\":\"AdaptiveTicker\",\"id\":\"p53127\",\"attributes\":{\"num_minor_ticks\":0,\"base\":24,\"mantissas\":[1,2,4,6,8,12],\"min_interval\":3600000.0,\"max_interval\":43200000.0}},{\"type\":\"object\",\"name\":\"DaysTicker\",\"id\":\"p53128\",\"attributes\":{\"days\":[1,2,3,4,5,6,7,8,9,10,11,12,13,14,15,16,17,18,19,20,21,22,23,24,25,26,27,28,29,30,31]}},{\"type\":\"object\",\"name\":\"DaysTicker\",\"id\":\"p53129\",\"attributes\":{\"days\":[1,4,7,10,13,16,19,22,25,28]}},{\"type\":\"object\",\"name\":\"DaysTicker\",\"id\":\"p53130\",\"attributes\":{\"days\":[1,8,15,22]}},{\"type\":\"object\",\"name\":\"DaysTicker\",\"id\":\"p53131\",\"attributes\":{\"days\":[1,15]}},{\"type\":\"object\",\"name\":\"MonthsTicker\",\"id\":\"p53132\",\"attributes\":{\"months\":[0,1,2,3,4,5,6,7,8,9,10,11]}},{\"type\":\"object\",\"name\":\"MonthsTicker\",\"id\":\"p53133\",\"attributes\":{\"months\":[0,2,4,6,8,10]}},{\"type\":\"object\",\"name\":\"MonthsTicker\",\"id\":\"p53134\",\"attributes\":{\"months\":[0,4,8]}},{\"type\":\"object\",\"name\":\"MonthsTicker\",\"id\":\"p53135\",\"attributes\":{\"months\":[0,6]}},{\"type\":\"object\",\"name\":\"YearsTicker\",\"id\":\"p53136\"}]}},\"formatter\":{\"type\":\"object\",\"name\":\"DatetimeTickFormatter\",\"id\":\"p53137\"},\"axis_label_standoff\":10,\"axis_label_text_color\":\"#E0E0E0\",\"axis_label_text_font\":\"Helvetica\",\"axis_label_text_font_size\":\"1.25em\",\"axis_label_text_font_style\":\"normal\",\"major_label_policy\":{\"type\":\"object\",\"name\":\"AllLabels\",\"id\":\"p53138\"},\"major_label_text_color\":\"#E0E0E0\",\"major_label_text_font\":\"Helvetica\",\"major_label_text_font_size\":\"1.025em\",\"axis_line_color\":\"#E0E0E0\",\"axis_line_alpha\":0,\"major_tick_line_color\":\"#E0E0E0\",\"major_tick_line_alpha\":0,\"minor_tick_line_color\":\"#E0E0E0\",\"minor_tick_line_alpha\":0}}],\"center\":[{\"type\":\"object\",\"name\":\"Grid\",\"id\":\"p53165\",\"attributes\":{\"axis\":{\"id\":\"p53123\"},\"grid_line_color\":\"#E0E0E0\",\"grid_line_alpha\":0.25}},{\"type\":\"object\",\"name\":\"Grid\",\"id\":\"p53172\",\"attributes\":{\"dimension\":1,\"axis\":{\"id\":\"p53166\"},\"grid_line_color\":\"#E0E0E0\",\"grid_line_alpha\":0.25}},{\"type\":\"object\",\"name\":\"Legend\",\"id\":\"p53222\",\"attributes\":{\"border_line_alpha\":0,\"background_fill_color\":\"#20262B\",\"background_fill_alpha\":0.25,\"label_text_color\":\"#E0E0E0\",\"label_text_font\":\"Helvetica\",\"label_text_font_size\":\"1.025em\",\"label_standoff\":8,\"glyph_width\":15,\"spacing\":8,\"items\":[{\"type\":\"object\",\"name\":\"LegendItem\",\"id\":\"p53223\",\"attributes\":{\"label\":{\"type\":\"value\",\"value\":\"added lines\"},\"renderers\":[{\"id\":\"p53182\"}]}},{\"type\":\"object\",\"name\":\"LegendItem\",\"id\":\"p53273\",\"attributes\":{\"label\":{\"type\":\"value\",\"value\":\"deleted lines\"},\"renderers\":[{\"id\":\"p53230\"}]}}]}}],\"background_fill_color\":\"#20262B\",\"border_fill_color\":\"#15191C\"}},{\"type\":\"object\",\"name\":\"Figure\",\"id\":\"p53276\",\"attributes\":{\"width\":800,\"height\":130,\"x_range\":{\"type\":\"object\",\"name\":\"DataRange1d\",\"id\":\"p53278\"},\"y_range\":{\"id\":\"p53108\"},\"x_scale\":{\"type\":\"object\",\"name\":\"LinearScale\",\"id\":\"p53288\"},\"y_scale\":{\"type\":\"object\",\"name\":\"LinearScale\",\"id\":\"p53290\"},\"title\":{\"type\":\"object\",\"name\":\"Title\",\"id\":\"p53280\",\"attributes\":{\"text_color\":\"#E0E0E0\",\"text_font\":\"Helvetica\",\"text_font_size\":\"1.15em\"}},\"outline_line_color\":\"#E0E0E0\",\"outline_line_alpha\":0.25,\"renderers\":[{\"type\":\"object\",\"name\":\"GlyphRenderer\",\"id\":\"p53344\",\"attributes\":{\"data_source\":{\"id\":\"p53103\"},\"view\":{\"type\":\"object\",\"name\":\"CDSView\",\"id\":\"p53345\",\"attributes\":{\"filter\":{\"type\":\"object\",\"name\":\"AllIndices\",\"id\":\"p53346\"}}},\"glyph\":{\"type\":\"object\",\"name\":\"Line\",\"id\":\"p53341\",\"attributes\":{\"x\":{\"type\":\"field\",\"field\":\"date\"},\"y\":{\"type\":\"field\",\"field\":\"added\"},\"line_color\":\"green\"}},\"nonselection_glyph\":{\"type\":\"object\",\"name\":\"Line\",\"id\":\"p53342\",\"attributes\":{\"x\":{\"type\":\"field\",\"field\":\"date\"},\"y\":{\"type\":\"field\",\"field\":\"added\"},\"line_color\":\"green\",\"line_alpha\":0.1}},\"muted_glyph\":{\"type\":\"object\",\"name\":\"Line\",\"id\":\"p53343\",\"attributes\":{\"x\":{\"type\":\"field\",\"field\":\"date\"},\"y\":{\"type\":\"field\",\"field\":\"added\"},\"line_color\":\"green\",\"line_alpha\":0.2}}}},{\"type\":\"object\",\"name\":\"GlyphRenderer\",\"id\":\"p53353\",\"attributes\":{\"data_source\":{\"id\":\"p53103\"},\"view\":{\"type\":\"object\",\"name\":\"CDSView\",\"id\":\"p53354\",\"attributes\":{\"filter\":{\"type\":\"object\",\"name\":\"AllIndices\",\"id\":\"p53355\"}}},\"glyph\":{\"type\":\"object\",\"name\":\"Line\",\"id\":\"p53350\",\"attributes\":{\"x\":{\"type\":\"field\",\"field\":\"date\"},\"y\":{\"type\":\"field\",\"field\":\"deleted\"},\"line_color\":\"red\"}},\"nonselection_glyph\":{\"type\":\"object\",\"name\":\"Line\",\"id\":\"p53351\",\"attributes\":{\"x\":{\"type\":\"field\",\"field\":\"date\"},\"y\":{\"type\":\"field\",\"field\":\"deleted\"},\"line_color\":\"red\",\"line_alpha\":0.1}},\"muted_glyph\":{\"type\":\"object\",\"name\":\"Line\",\"id\":\"p53352\",\"attributes\":{\"x\":{\"type\":\"field\",\"field\":\"date\"},\"y\":{\"type\":\"field\",\"field\":\"deleted\"},\"line_color\":\"red\",\"line_alpha\":0.2}}}}],\"toolbar\":{\"type\":\"object\",\"name\":\"Toolbar\",\"id\":\"p53279\",\"attributes\":{\"tools\":[{\"type\":\"object\",\"name\":\"RangeTool\",\"id\":\"p53336\",\"attributes\":{\"x_range\":{\"id\":\"p53115\"},\"overlay\":{\"type\":\"object\",\"name\":\"BoxAnnotation\",\"id\":\"p53337\",\"attributes\":{\"syncable\":false,\"level\":\"overlay\",\"line_color\":\"black\",\"line_alpha\":1.0,\"line_width\":0.5,\"line_dash\":[2,2],\"fill_color\":\"lightgrey\",\"fill_alpha\":0.5}}}}],\"active_multi\":{\"id\":\"p53336\"}}},\"toolbar_location\":null,\"below\":[{\"type\":\"object\",\"name\":\"DatetimeAxis\",\"id\":\"p53292\",\"attributes\":{\"ticker\":{\"type\":\"object\",\"name\":\"DatetimeTicker\",\"id\":\"p53293\",\"attributes\":{\"num_minor_ticks\":5,\"tickers\":[{\"type\":\"object\",\"name\":\"AdaptiveTicker\",\"id\":\"p53294\",\"attributes\":{\"num_minor_ticks\":0,\"mantissas\":[1,2,5],\"max_interval\":500.0}},{\"type\":\"object\",\"name\":\"AdaptiveTicker\",\"id\":\"p53295\",\"attributes\":{\"num_minor_ticks\":0,\"base\":60,\"mantissas\":[1,2,5,10,15,20,30],\"min_interval\":1000.0,\"max_interval\":1800000.0}},{\"type\":\"object\",\"name\":\"AdaptiveTicker\",\"id\":\"p53296\",\"attributes\":{\"num_minor_ticks\":0,\"base\":24,\"mantissas\":[1,2,4,6,8,12],\"min_interval\":3600000.0,\"max_interval\":43200000.0}},{\"type\":\"object\",\"name\":\"DaysTicker\",\"id\":\"p53297\",\"attributes\":{\"days\":[1,2,3,4,5,6,7,8,9,10,11,12,13,14,15,16,17,18,19,20,21,22,23,24,25,26,27,28,29,30,31]}},{\"type\":\"object\",\"name\":\"DaysTicker\",\"id\":\"p53298\",\"attributes\":{\"days\":[1,4,7,10,13,16,19,22,25,28]}},{\"type\":\"object\",\"name\":\"DaysTicker\",\"id\":\"p53299\",\"attributes\":{\"days\":[1,8,15,22]}},{\"type\":\"object\",\"name\":\"DaysTicker\",\"id\":\"p53300\",\"attributes\":{\"days\":[1,15]}},{\"type\":\"object\",\"name\":\"MonthsTicker\",\"id\":\"p53301\",\"attributes\":{\"months\":[0,1,2,3,4,5,6,7,8,9,10,11]}},{\"type\":\"object\",\"name\":\"MonthsTicker\",\"id\":\"p53302\",\"attributes\":{\"months\":[0,2,4,6,8,10]}},{\"type\":\"object\",\"name\":\"MonthsTicker\",\"id\":\"p53303\",\"attributes\":{\"months\":[0,4,8]}},{\"type\":\"object\",\"name\":\"MonthsTicker\",\"id\":\"p53304\",\"attributes\":{\"months\":[0,6]}},{\"type\":\"object\",\"name\":\"YearsTicker\",\"id\":\"p53305\"}]}},\"formatter\":{\"type\":\"object\",\"name\":\"DatetimeTickFormatter\",\"id\":\"p53306\"},\"axis_label_standoff\":10,\"axis_label_text_color\":\"#E0E0E0\",\"axis_label_text_font\":\"Helvetica\",\"axis_label_text_font_size\":\"1.25em\",\"axis_label_text_font_style\":\"normal\",\"major_label_policy\":{\"type\":\"object\",\"name\":\"AllLabels\",\"id\":\"p53307\"},\"major_label_text_color\":\"#E0E0E0\",\"major_label_text_font\":\"Helvetica\",\"major_label_text_font_size\":\"1.025em\",\"axis_line_color\":\"#E0E0E0\",\"axis_line_alpha\":0,\"major_tick_line_color\":\"#E0E0E0\",\"major_tick_line_alpha\":0,\"minor_tick_line_color\":\"#E0E0E0\",\"minor_tick_line_alpha\":0}}],\"center\":[{\"type\":\"object\",\"name\":\"Grid\",\"id\":\"p53334\",\"attributes\":{\"axis\":{\"id\":\"p53292\"},\"grid_line_color\":\"#E0E0E0\",\"grid_line_alpha\":0.25}}],\"background_fill_color\":\"#20262B\",\"border_fill_color\":\"#15191C\"}}]}}]}};\n  const render_items = [{\"docid\":\"092981de-da77-4415-b3ae-54e305c03288\",\"roots\":{\"p53358\":\"a7f441fa-cace-434e-88e0-bfcfa8bfc279\"},\"root_ids\":[\"p53358\"]}];\n  root.Bokeh.embed.embed_items_notebook(docs_json, render_items);\n  }\n  if (root.Bokeh !== undefined) {\n    embed_document(root);\n  } else {\n    let attempts = 0;\n    const timer = setInterval(function(root) {\n      if (root.Bokeh !== undefined) {\n        clearInterval(timer);\n        embed_document(root);\n      } else {\n        attempts++;\n        if (attempts > 100) {\n          clearInterval(timer);\n          console.log(\"Bokeh: ERROR: Unable to run BokehJS code because BokehJS library is missing\");\n        }\n      }\n    }, 10, root)\n  }\n})(window);",
      "application/vnd.bokehjs_exec.v0+json": ""
     },
     "metadata": {
      "application/vnd.bokehjs_exec.v0+json": {
       "id": "p53358"
      }
     },
     "output_type": "display_data"
    }
   ],
   "source": [
    "from bokeh.io.output import output_notebook\n",
    "from bokeh.layouts import column\n",
    "from bokeh.models import ColumnDataSource, RangeTool\n",
    "from bokeh.models.tools import HoverTool\n",
    "from bokeh.plotting import figure, show\n",
    "import numpy as np\n",
    "\n",
    "output_notebook()\n",
    "\n",
    "items = list(date_to_churn.items())\n",
    "items.sort(key=lambda t: t[0])\n",
    "dates = [datetime.combine(item[0], datetime.min.time()) for item in items]\n",
    "\n",
    "source = ColumnDataSource(data=dict(\n",
    "    date=dates,\n",
    "    added=[item[1]['lines added'] for item in items],\n",
    "    deleted=[item[1]['lines deleted'] for item in items],\n",
    "    hashes=[len(item[1]['hashes']) for item in items],#[item[1]['hashes'] for item in items], TODO\n",
    "    ))\n",
    "\n",
    "p = figure(height=300, width=800, tools=\"xpan\", toolbar_location=None,\n",
    "           x_axis_type=\"datetime\", x_axis_location=\"above\",\n",
    "           x_range=(dates[0], dates[int(len(dates)/4)]))\n",
    "\n",
    "p.line('date', 'added', source=source, color='green', legend_label='added lines')\n",
    "p.line('date', 'deleted', source=source, color='red', legend_label='deleted lines')\n",
    "p.yaxis.axis_label = 'lines of change'\n",
    "p.legend.location = \"top_right\"\n",
    "p.add_tools(HoverTool(tooltips=[\n",
    "            ('date', '@date{%F}'),\n",
    "            ('added', '@added'),\n",
    "            ('deleted', '@deleted'),\n",
    "            ('amount of commits', '@hashes')\n",
    "            ],\n",
    "            formatters={\n",
    "            '@date'        : 'datetime',\n",
    "            #'@hashes'      : 'printf',# use 'datetime' formatter for '@date' field\n",
    "            }))\n",
    "\n",
    "select = figure(height=130, width=800, y_range=p.y_range,\n",
    "                x_axis_type=\"datetime\", y_axis_type=None,\n",
    "                tools=\"\", toolbar_location=None)\n",
    "\n",
    "range_tool = RangeTool(x_range=p.x_range)\n",
    "\n",
    "select.line('date', 'added', source=source, color='green')\n",
    "select.line('date', 'deleted', source=source, color='red')\n",
    "\n",
    "select.add_tools(range_tool)\n",
    "select.toolbar.active_multi = range_tool\n",
    "\n",
    "show(column(p, select))"
   ],
   "metadata": {
    "collapsed": false
   }
  },
  {
   "cell_type": "code",
   "execution_count": 198,
   "outputs": [],
   "source": [
    "def commits_on(date):\n",
    "    hashes = date_to_churn[date]['hashes']\n",
    "\n",
    "    commits = []\n",
    "    for commit in repo.traverse_commits():\n",
    "        if commit.hash in hashes:\n",
    "            commits.append(commit)\n",
    "    return commits\n",
    "\n",
    "def date_overview(date):\n",
    "    print(date)\n",
    "    for commit in commits_on(date):\n",
    "        print_commit_overview(commit)\n",
    "\n",
    "def print_commit_overview(commit):\n",
    "    print(\"\\nhash:\", commit.hash)\n",
    "    print(\"msg:\", commit.msg)\n",
    "    for file in commit.modified_files:\n",
    "        print(f\"+{file.added_lines}   \\t-{file.deleted_lines}   \\t{file.new_path if file.new_path else 'del '+file.old_path}\")\n",
    "\n",
    "def print_diff(diff):\n",
    "    for code_line in diff.split('\\n'):\n",
    "        print(code_line)"
   ],
   "metadata": {
    "collapsed": false
   }
  },
  {
   "cell_type": "code",
   "execution_count": 195,
   "outputs": [],
   "source": [
    "analysed_dates_tuples = [(2014, 3, 13), (2014, 2, 26)]\n",
    "analysed_dates = [datetime(*tuple).date() for tuple in analysed_dates_tuples]"
   ],
   "metadata": {
    "collapsed": false
   }
  },
  {
   "cell_type": "code",
   "execution_count": 199,
   "outputs": [
    {
     "name": "stdout",
     "output_type": "stream",
     "text": [
      "2014-03-13\n",
      "\n",
      "hash: a7230f8d3aa128bd3de112a619e05b191f4df320\n",
      "msg: Disable by default plugins isolation\n",
      "+1   \t-1   \tsrc/main/java/org/elasticsearch/plugins/PluginsService.java\n",
      "\n",
      "hash: e99c666f8226eebb6daeb7ae1839e28babb38d64\n",
      "msg: [TESTS] Fix incorrect discovery options.\n",
      "+2   \t-2   \tsrc/test/java/org/elasticsearch/discovery/DiscoveryTests.java\n",
      "\n",
      "hash: 822f0873dcb7ee8b678c23c041d6a6966851d830\n",
      "msg: [DOCS] Added spring data elasticsearch integration\n",
      "+3   \t-0   \tdocs/community/integrations.asciidoc\n",
      "\n",
      "hash: f7cd6d43aad4a250bd1f3be199c62cfd6b927e91\n",
      "msg: [DOCS] Various aggregation doc fixes\n",
      "+21   \t-21   \tdocs/reference/search/aggregations.asciidoc\n",
      "\n",
      "hash: c7a3781dcdebe459a6964d669e92a75c4b480587\n",
      "msg: For unicast zen discovery don't overwrite a ping response for a node if the previous ping response has a set master and the current response hasn't.\n",
      "\n",
      "Per single main ping request we maintain the received ping response per node. Each node level ping response is mapped into that. If from a previous node level ping request the response has already been set for a node, it will be overwritten. We give higher value to the latest response. This change makes sure that this doesn't happen if the previous response has a set master and the current response hasn't a set master. Otherwise a node will lose the fact that another node has elected itself as master, the result of that would be that there would multiple master nodes in a single cluster.\n",
      "\n",
      "Closes #5413\n",
      "+11   \t-1   \tsrc/main/java/org/elasticsearch/discovery/zen/ping/unicast/UnicastZenPing.java\n",
      "+112   \t-0   \tsrc/test/java/org/elasticsearch/cluster/ZenUnicastDiscoveryTests.java\n",
      "\n",
      "hash: 406f0836ed9af8b9b81ab4f1f7357ee8148bdee3\n",
      "msg: [TESTS] Added AwaitsFix\n",
      "+6   \t-0   \tsrc/test/java/org/elasticsearch/discovery/DiscoveryTests.java\n",
      "\n",
      "hash: 873ffd3df7687596a20af096fe05b7524fd767ae\n",
      "msg: Invoke postCollection on aggregation collectors.\n",
      "Also cleanup how facet and aggs collector are used inside the QueryCollector\n",
      "\n",
      "Closes #5387\n",
      "+1   \t-1   \tsrc/main/java/org/elasticsearch/percolator/PercolatorService.java\n",
      "+18   \t-28   \tsrc/main/java/org/elasticsearch/percolator/QueryCollector.java\n",
      "\n",
      "hash: 8c592101aee9640b42bd9336db33ad7f09d339d2\n",
      "msg: ContextSuggester\n",
      "================\n",
      "\n",
      "This commit extends the `CompletionSuggester` by context\n",
      "informations. In example such a context informations can\n",
      "be a simple string representing a category reducing the\n",
      "suggestions in order to this category.\n",
      "\n",
      "Three base implementations of these context informations\n",
      "have been setup in this commit.\n",
      "\n",
      "- a Category Context\n",
      "- a Geo Context\n",
      "\n",
      "All the mapping for these context informations are\n",
      "specified within a context field in the completion\n",
      "field that should use this kind of information.\n",
      "+2   \t-0   \tdocs/reference/search/suggesters.asciidoc\n",
      "+3   \t-0   \tdocs/reference/search/suggesters/completion-suggest.asciidoc\n",
      "+319   \t-0   \tdocs/reference/search/suggesters/context-suggest.asciidoc\n",
      "+128   \t-0   \tsrc/main/java/org/apache/lucene/analysis/PrefixAnalyzer.java\n",
      "+17   \t-7   \tsrc/main/java/org/apache/lucene/search/suggest/analyzing/XAnalyzingSuggester.java\n",
      "+6   \t-5   \tsrc/main/java/org/apache/lucene/search/suggest/analyzing/XFuzzySuggester.java\n",
      "+35   \t-7   \tsrc/main/java/org/elasticsearch/common/geo/GeoHashUtils.java\n",
      "+11   \t-1   \tsrc/main/java/org/elasticsearch/common/geo/GeoPoint.java\n",
      "+59   \t-0   \tsrc/main/java/org/elasticsearch/common/geo/GeohashPathIterator.java\n",
      "+8   \t-0   \tsrc/main/java/org/elasticsearch/common/xcontent/XContentBuilder.java\n",
      "+101   \t-21   \tsrc/main/java/org/elasticsearch/index/mapper/core/CompletionFieldMapper.java\n",
      "+3   \t-2   \tsrc/main/java/org/elasticsearch/index/query/GeohashCellFilter.java\n",
      "+74   \t-0   \tsrc/main/java/org/elasticsearch/search/suggest/SuggestBuilder.java\n",
      "+4   \t-7   \tsrc/main/java/org/elasticsearch/search/suggest/SuggestionSearchContext.java\n",
      "+25   \t-16   \tsrc/main/java/org/elasticsearch/search/suggest/completion/AnalyzingCompletionLookupProvider.java\n",
      "+4   \t-5   \tsrc/main/java/org/elasticsearch/search/suggest/completion/Completion090PostingsFormat.java\n",
      "+52   \t-18   \tsrc/main/java/org/elasticsearch/search/suggest/completion/CompletionSuggestParser.java\n",
      "+20   \t-7   \tsrc/main/java/org/elasticsearch/search/suggest/completion/CompletionSuggestionContext.java\n",
      "+1   \t-1   \tsrc/main/java/org/elasticsearch/search/suggest/completion/CompletionTokenStream.java\n",
      "+341   \t-0   \tsrc/main/java/org/elasticsearch/search/suggest/context/CategoryContextMapping.java\n",
      "+127   \t-0   \tsrc/main/java/org/elasticsearch/search/suggest/context/ContextBuilder.java\n",
      "+316   \t-0   \tsrc/main/java/org/elasticsearch/search/suggest/context/ContextMapping.java\n",
      "+664   \t-0   \tsrc/main/java/org/elasticsearch/search/suggest/context/GeolocationContextMapping.java\n",
      "+21   \t-17   \tsrc/test/java/org/elasticsearch/search/geo/GeoFilterTests.java\n",
      "+640   \t-0   \tsrc/test/java/org/elasticsearch/search/suggest/ContextSuggestSearchTests.java\n",
      "+13   \t-13   \tsrc/test/java/org/elasticsearch/search/suggest/completion/AnalyzingCompletionLookupProviderV1.java\n",
      "+8   \t-7   \tsrc/test/java/org/elasticsearch/search/suggest/completion/CompletionPostingsFormatTest.java\n",
      "+19   \t-0   \tsrc/test/java/org/elasticsearch/test/hamcrest/ElasticsearchGeoAssertions.java\n",
      "\n",
      "hash: 629a82cf5df5f45fb3cb9c68a5508d289687db29\n",
      "msg: [TEST] Randomized number of replicas used for indices created during tests\n",
      "\n",
      "Introduced two levels of randomization for the number of replicas when running tests:\n",
      "\n",
      "1) through the existing random index template, which now sets a random number of replicas that can either be 0 or 1 that is shared across all the indices created in the same test method unless overwritten\n",
      "\n",
      "2)  through createIndex and prepareCreate methods, between 0 and the number of data nodes available, similar to what happens using the indexSettings method, which changes for every createIndex or prepareCreate unless overwritten (overwrites index template for what concerns the number of replicas)\n",
      "\n",
      "Added the following facilities to deal with the random number of replicas:\n",
      "\n",
      "- made it possible to retrieve how many data nodes are available in the `TestCluster`\n",
      "- added common methods similar to indexSettings, to be used in combination with createIndex and prepareCreate method and explicitly control the second level of randomization: numberOfReplicas, minimumNumberOfReplicas and maximumNumberOfReplicas\n",
      "\n",
      "Tests that specified the number of replicas have been reviewed:\n",
      "- removed manual replicas randomization where present, replaced with ordinary one that's now available\n",
      "- adapted tests that didn't need a specific number of replicas to the new random behaviour\n",
      "- also done some more cleanup, used common methods like assertAcked, ensureGreen, refresh, flush and refreshAndFlush where possible\n",
      "+10   \t-12   \tsrc/test/java/org/elasticsearch/broadcast/BroadcastActionsTests.java\n",
      "+3   \t-7   \tsrc/test/java/org/elasticsearch/cluster/ClusterHealthTests.java\n",
      "+1   \t-1   \tsrc/test/java/org/elasticsearch/cluster/ack/AckClusterUpdateSettingsTests.java\n",
      "+4   \t-4   \tsrc/test/java/org/elasticsearch/cluster/ack/AckTests.java\n",
      "+6   \t-3   \tsrc/test/java/org/elasticsearch/cluster/allocation/AwarenessAllocationTests.java\n",
      "+1   \t-1   \tsrc/test/java/org/elasticsearch/cluster/allocation/SimpleAllocationTests.java\n",
      "+0   \t-5   \tsrc/test/java/org/elasticsearch/flt/FuzzyLikeThisActionTests.java\n",
      "+16   \t-40   \tsrc/test/java/org/elasticsearch/indices/IndicesOptionsTests.java\n",
      "+13   \t-22   \tsrc/test/java/org/elasticsearch/indices/fielddata/breaker/CircuitBreakerServiceTests.java\n",
      "+0   \t-2   \tsrc/test/java/org/elasticsearch/indices/fielddata/breaker/RandomExceptionCircuitBreakerTests.java\n",
      "+0   \t-5   \tsrc/test/java/org/elasticsearch/indices/mapping/ConcurrentDynamicTemplateTests.java\n",
      "+0   \t-5   \tsrc/test/java/org/elasticsearch/indices/mapping/SimpleGetFieldMappingsTests.java\n",
      "+6   \t-4   \tsrc/test/java/org/elasticsearch/indices/settings/UpdateNumberOfReplicasTests.java\n",
      "+19   \t-25   \tsrc/test/java/org/elasticsearch/indices/stats/SimpleIndexStatsTests.java\n",
      "+6   \t-0   \tsrc/test/java/org/elasticsearch/indices/template/IndexTemplateFileLoadingTests.java\n",
      "+5   \t-4   \tsrc/test/java/org/elasticsearch/mlt/MoreLikeThisActionTests.java\n",
      "+3   \t-3   \tsrc/test/java/org/elasticsearch/percolator/PercolatorTests.java\n",
      "+6   \t-9   \tsrc/test/java/org/elasticsearch/percolator/RecoveryPercolatorTests.java\n",
      "+18   \t-15   \tsrc/test/java/org/elasticsearch/percolator/TTLPercolatorTests.java\n",
      "+8   \t-5   \tsrc/test/java/org/elasticsearch/recovery/FullRollingRestartTests.java\n",
      "+4   \t-6   \tsrc/test/java/org/elasticsearch/recovery/RecoveryWhileUnderLoadTests.java\n",
      "+10   \t-6   \tsrc/test/java/org/elasticsearch/recovery/SimpleRecoveryTests.java\n",
      "+0   \t-5   \tsrc/test/java/org/elasticsearch/search/StressSearchServiceReaperTest.java\n",
      "+0   \t-5   \tsrc/test/java/org/elasticsearch/search/aggregations/CombiTests.java\n",
      "+0   \t-5   \tsrc/test/java/org/elasticsearch/search/aggregations/RandomTests.java\n",
      "+0   \t-5   \tsrc/test/java/org/elasticsearch/search/aggregations/bucket/DateHistogramTests.java\n",
      "+0   \t-7   \tsrc/test/java/org/elasticsearch/search/aggregations/bucket/DateRangeTests.java\n",
      "+0   \t-7   \tsrc/test/java/org/elasticsearch/search/aggregations/bucket/DoubleTermsTests.java\n",
      "+0   \t-5   \tsrc/test/java/org/elasticsearch/search/aggregations/bucket/FilterTests.java\n",
      "+0   \t-5   \tsrc/test/java/org/elasticsearch/search/aggregations/bucket/GeoDistanceTests.java\n",
      "+0   \t-5   \tsrc/test/java/org/elasticsearch/search/aggregations/bucket/GeoHashGridTests.java\n",
      "+0   \t-7   \tsrc/test/java/org/elasticsearch/search/aggregations/bucket/GlobalTests.java\n",
      "+0   \t-5   \tsrc/test/java/org/elasticsearch/search/aggregations/bucket/HistogramTests.java\n",
      "+0   \t-5   \tsrc/test/java/org/elasticsearch/search/aggregations/bucket/IPv4RangeTests.java\n",
      "+0   \t-7   \tsrc/test/java/org/elasticsearch/search/aggregations/bucket/LongTermsTests.java\n",
      "+0   \t-7   \tsrc/test/java/org/elasticsearch/search/aggregations/bucket/MinDocCountTests.java\n",
      "+0   \t-5   \tsrc/test/java/org/elasticsearch/search/aggregations/bucket/MissingTests.java\n",
      "+0   \t-10   \tsrc/test/java/org/elasticsearch/search/aggregations/bucket/NaNSortingTests.java\n",
      "+0   \t-7   \tsrc/test/java/org/elasticsearch/search/aggregations/bucket/NestedTests.java\n",
      "+0   \t-5   \tsrc/test/java/org/elasticsearch/search/aggregations/bucket/RangeTests.java\n",
      "+0   \t-5   \tsrc/test/java/org/elasticsearch/search/aggregations/bucket/ShardReduceTests.java\n",
      "+0   \t-5   \tsrc/test/java/org/elasticsearch/search/aggregations/bucket/ShardSizeTests.java\n",
      "+0   \t-7   \tsrc/test/java/org/elasticsearch/search/aggregations/bucket/StringTermsTests.java\n",
      "+0   \t-5   \tsrc/test/java/org/elasticsearch/search/aggregations/metrics/AbstractNumericTests.java\n",
      "+0   \t-5   \tsrc/test/java/org/elasticsearch/search/aggregations/metrics/ValueCountTests.java\n",
      "+5   \t-6   \tsrc/test/java/org/elasticsearch/search/basic/SearchWithRandomExceptionsTests.java\n",
      "+12   \t-13   \tsrc/test/java/org/elasticsearch/search/basic/TransportSearchFailuresTests.java\n",
      "+0   \t-5   \tsrc/test/java/org/elasticsearch/search/facet/SimpleFacetsTests.java\n",
      "+1   \t-7   \tsrc/test/java/org/elasticsearch/search/functionscore/RandomScoreFunctionTests.java\n",
      "+7   \t-2   \tsrc/test/java/org/elasticsearch/search/preference/SearchPreferenceTests.java\n",
      "+3   \t-6   \tsrc/test/java/org/elasticsearch/search/rescore/QueryRescorerTests.java\n",
      "+0   \t-5   \tsrc/test/java/org/elasticsearch/search/suggest/CompletionSuggestSearchTests.java\n",
      "+33   \t-57   \tsrc/test/java/org/elasticsearch/search/suggest/ContextSuggestSearchTests.java\n",
      "+3   \t-13   \tsrc/test/java/org/elasticsearch/search/suggest/SuggestSearchTests.java\n",
      "+6   \t-4   \tsrc/test/java/org/elasticsearch/snapshots/SharedClusterSnapshotRestoreTests.java\n",
      "+19   \t-8   \tsrc/test/java/org/elasticsearch/test/ElasticsearchIntegrationTest.java\n",
      "+14   \t-2   \tsrc/test/java/org/elasticsearch/test/TestCluster.java\n",
      "+20   \t-12   \tsrc/test/java/org/elasticsearch/ttl/SimpleTTLTests.java\n",
      "+3   \t-3   \tsrc/test/java/org/elasticsearch/versioning/ConcurrentDocumentOperationTests.java\n",
      "\n",
      "hash: c57261bd759ddf1a084b537ebb955d94595b661d\n",
      "msg: Allow edit distances > 2 on FuzzyLikeThisQuery\n",
      "\n",
      "Due to a regression edit distances > 2 threw exceptions after unifying\n",
      "the fuzziness factor in Elasticsearch `1.0`. This commit brings back the\n",
      "expceted behavior.\n",
      "\n",
      "Closes #5292\n",
      "+8   \t-1   \tsrc/main/java/org/elasticsearch/index/query/FuzzyLikeThisQueryParser.java\n",
      "+1   \t-0   \tsrc/test/java/org/apache/lucene/util/AbstractRandomizedTest.java\n",
      "+36   \t-1   \tsrc/test/java/org/elasticsearch/index/query/SimpleIndexQueryParserTests.java\n",
      "\n",
      "hash: abb18484df7700f725c12a2488e6f659711613b6\n",
      "msg: Make aggregations CacheRecycler-free.\n",
      "\n",
      "Aggregations were still using CacheRecycler on the reduce phase. They are now\n",
      "using page-based recycling for both the aggregation phase and the reduce phase.\n",
      "\n",
      "Close #4929\n",
      "+11   \t-85   \tsrc/main/java/org/elasticsearch/common/util/AbstractHash.java\n",
      "+127   \t-0   \tsrc/main/java/org/elasticsearch/common/util/AbstractPagedHashMap.java\n",
      "+4   \t-1   \tsrc/main/java/org/elasticsearch/common/util/BytesRefHash.java\n",
      "+200   \t-0   \tsrc/main/java/org/elasticsearch/common/util/DoubleObjectPagedHashMap.java\n",
      "+6   \t-9   \tsrc/main/java/org/elasticsearch/common/util/LongHash.java\n",
      "+200   \t-0   \tsrc/main/java/org/elasticsearch/common/util/LongObjectPagedHashMap.java\n",
      "+1   \t-1   \tsrc/main/java/org/elasticsearch/percolator/PercolatorService.java\n",
      "+6   \t-6   \tsrc/main/java/org/elasticsearch/search/aggregations/InternalAggregation.java\n",
      "+5   \t-5   \tsrc/main/java/org/elasticsearch/search/aggregations/InternalAggregations.java\n",
      "+2   \t-2   \tsrc/main/java/org/elasticsearch/search/aggregations/bucket/InternalSingleBucketAggregation.java\n",
      "+17   \t-22   \tsrc/main/java/org/elasticsearch/search/aggregations/bucket/geogrid/InternalGeoHashGrid.java\n",
      "+18   \t-21   \tsrc/main/java/org/elasticsearch/search/aggregations/bucket/histogram/InternalHistogram.java\n",
      "+6   \t-6   \tsrc/main/java/org/elasticsearch/search/aggregations/bucket/range/InternalRange.java\n",
      "+12   \t-17   \tsrc/main/java/org/elasticsearch/search/aggregations/bucket/terms/DoubleTerms.java\n",
      "+8   \t-8   \tsrc/main/java/org/elasticsearch/search/aggregations/bucket/terms/InternalTerms.java\n",
      "+12   \t-17   \tsrc/main/java/org/elasticsearch/search/aggregations/bucket/terms/LongTerms.java\n",
      "+6   \t-3   \tsrc/main/java/org/elasticsearch/search/controller/SearchPhaseController.java\n",
      "+59   \t-0   \tsrc/test/java/org/elasticsearch/common/util/DoubleObjectHashMapTests.java\n",
      "+59   \t-0   \tsrc/test/java/org/elasticsearch/common/util/LongObjectHashMapTests.java\n",
      "\n",
      "hash: ec8bfeae5830f9437fe3db6b46af1f7a96cdfc22\n",
      "msg: Remove AggregationContext.cacheRecycler().\n",
      "+0   \t-5   \tsrc/main/java/org/elasticsearch/search/aggregations/support/AggregationContext.java\n",
      "\n",
      "hash: 90a0cb5ac7f9a34b58567d7f35479209a0d12a40\n",
      "msg: Cardinality aggregation.\n",
      "\n",
      "This aggregation computes unique term counts using the hyperloglog++ algorithm\n",
      "which uses linear counting to estimate low cardinalities and hyperloglog on\n",
      "higher cardinalities.\n",
      "\n",
      "Since this algorithm works on hashes, it is useful for high-cardinality fields\n",
      "to store the hash of values directly in the index, which is the purpose of\n",
      "the new `murmur3` field type. This is less necessary on low-cardinality\n",
      "string fields because the aggregator is smart enough to only compute the hash\n",
      "once per unique value per segment thanks to ordinals, or on numeric fields\n",
      "since hashing them is very fast.\n",
      "\n",
      "Close #5426\n",
      "+0   \t-0   \tdocs/reference/images/cardinality_error.png\n",
      "+3   \t-1   \tdocs/reference/search/aggregations/metrics.asciidoc\n",
      "+159   \t-0   \tdocs/reference/search/aggregations/metrics/cardinality-aggregation.asciidoc\n",
      "+156   \t-0   \tsrc/main/java/org/elasticsearch/common/hash/MurmurHash3.java\n",
      "+6   \t-0   \tsrc/main/java/org/elasticsearch/common/util/BigArrays.java\n",
      "+17   \t-0   \tsrc/main/java/org/elasticsearch/common/util/BigByteArray.java\n",
      "+1   \t-0   \tsrc/main/java/org/elasticsearch/common/util/BloomFilter.java\n",
      "+5   \t-0   \tsrc/main/java/org/elasticsearch/common/util/ByteArray.java\n",
      "+23   \t-0   \tsrc/main/java/org/elasticsearch/common/util/UnsafeUtils.java\n",
      "+120   \t-0   \tsrc/main/java/org/elasticsearch/index/fielddata/MurmurHash3Values.java\n",
      "+2   \t-1   \tsrc/main/java/org/elasticsearch/index/mapper/DocumentMapperParser.java\n",
      "+4   \t-0   \tsrc/main/java/org/elasticsearch/index/mapper/MapperBuilders.java\n",
      "+111   \t-0   \tsrc/main/java/org/elasticsearch/index/mapper/core/Murmur3FieldMapper.java\n",
      "+5   \t-0   \tsrc/main/java/org/elasticsearch/search/aggregations/AggregationBuilders.java\n",
      "+2   \t-0   \tsrc/main/java/org/elasticsearch/search/aggregations/AggregationModule.java\n",
      "+2   \t-0   \tsrc/main/java/org/elasticsearch/search/aggregations/TransportAggregationModule.java\n",
      "+31   \t-0   \tsrc/main/java/org/elasticsearch/search/aggregations/metrics/cardinality/Cardinality.java\n",
      "+271   \t-0   \tsrc/main/java/org/elasticsearch/search/aggregations/metrics/cardinality/CardinalityAggregator.java\n",
      "+78   \t-0   \tsrc/main/java/org/elasticsearch/search/aggregations/metrics/cardinality/CardinalityAggregatorFactory.java\n",
      "+57   \t-0   \tsrc/main/java/org/elasticsearch/search/aggregations/metrics/cardinality/CardinalityBuilder.java\n",
      "+134   \t-0   \tsrc/main/java/org/elasticsearch/search/aggregations/metrics/cardinality/CardinalityParser.java\n",
      "+541   \t-0   \tsrc/main/java/org/elasticsearch/search/aggregations/metrics/cardinality/HyperLogLogPlusPlus.java\n",
      "+138   \t-0   \tsrc/main/java/org/elasticsearch/search/aggregations/metrics/cardinality/InternalCardinality.java\n",
      "+162   \t-0   \tsrc/test/java/org/elasticsearch/benchmark/search/aggregations/CardinalityAggregationSearchBenchmark.java\n",
      "+55   \t-0   \tsrc/test/java/org/elasticsearch/common/hashing/MurmurHash3Tests.java\n",
      "+21   \t-0   \tsrc/test/java/org/elasticsearch/common/util/BigArraysTests.java\n",
      "+431   \t-0   \tsrc/test/java/org/elasticsearch/search/aggregations/metrics/CardinalityTests.java\n",
      "+137   \t-0   \tsrc/test/java/org/elasticsearch/search/aggregations/metrics/cardinality/HyperLogLogPlusPlusTests.java\n",
      "+5   \t-0   \tsrc/test/java/org/elasticsearch/test/cache/recycler/MockBigArrays.java\n",
      "\n",
      "hash: a8f645a213e52832d39ddd25beea010e9b7d028d\n",
      "msg: Added static analysis profile to pom.xml\n",
      "\n",
      "Added pmd, findbug as well as site generation logic to top pom.xml file\n",
      "Created customized pmd ruleset\n",
      "+20   \t-0   \tdev-tools/pmd/custom.xml\n",
      "+69   \t-0   \tpom.xml\n",
      "\n",
      "hash: 8967c4e5615e32bccc78bc2904113858bd8d84e0\n",
      "msg: [TEST] Add mapping to use an actual stopword analyzer\n",
      "\n",
      "This test was added when the default  analyzer was filtering stopwords. But since\n",
      "1.0 the default analyzer doesn't filter stopwords\n",
      "+5   \t-2   \tsrc/test/java/org/elasticsearch/search/suggest/SuggestSearchTests.java\n",
      "\n",
      "hash: 9124328f6dc87d9a66f919f49d61a9432db4c5dc\n",
      "msg: [TEST] Stabelize ConcurrentPercolatorTests after # shard randomization\n",
      "+6   \t-5   \tsrc/test/java/org/elasticsearch/percolator/ConcurrentPercolatorTests.java\n",
      "\n",
      "hash: 1d2f1503ffa5a326a7b252fc0f928793e9a1d78c\n",
      "msg: [TEST] Rewrite SearchStatsTests to not shut down nodes after indexing.\n",
      "\n",
      "The test was shutting down nodes even if some of the inidces had only a\n",
      "single shard. This caused that we basically had no shard active that\n",
      "could sever the docs and caused random failures. This commit fixed the\n",
      "test to rather allocate enough shards such that we never need to resize\n",
      "the cluster which also makes the test faster.\n",
      "+20   \t-8   \tsrc/test/java/org/elasticsearch/search/stats/SearchStatsTests.java\n",
      "\n",
      "hash: e37d61b920f6676dfdb6fed11c9bc757fff6c865\n",
      "msg: Add retry mechanism to get snapshot method\n",
      "\n",
      "During snapshot finalization the snapshot file is getting overwritten. If we try to read the snapshot file at this moment we can get back an empty or incomplete snapshot. This change adds a retry mechanism in case of such failure.\n",
      "+25   \t-5   \tsrc/main/java/org/elasticsearch/repositories/blobstore/BlobStoreRepository.java\n"
     ]
    }
   ],
   "source": [
    "date_overview(analysed_dates[0])"
   ],
   "metadata": {
    "collapsed": false
   }
  },
  {
   "cell_type": "markdown",
   "source": [
    "The first code churn outlier on 2014-02-26 contains a huge amount of changes, which are non-trivial. So it is indeed a problematic outlier."
   ],
   "metadata": {
    "collapsed": false
   }
  },
  {
   "cell_type": "code",
   "execution_count": 200,
   "outputs": [
    {
     "name": "stdout",
     "output_type": "stream",
     "text": [
      "2014-02-26\n",
      "\n",
      "hash: c88aa24bacfbde6e0f65a7f4a45bdab041d96795\n",
      "msg: Refactored TransportIndexReplicationOperationAction to be able to expose the shard id related to a shard failure\n",
      "\n",
      "The `ShardOperationFailedException` is now created within `TransportIndexReplicationAction` passing in the current shard id as a constructor argument.\n",
      "Also replaced `AtomicReferenceArray<Object>` with `AtomicReferenceArray<ShardActionResult>`, where `ShardActionResult` wraps the `ShardResponse` or the failure, containing all the needed info.\n",
      "+2   \t-2   \tsrc/main/java/org/elasticsearch/action/delete/index/IndexDeleteResponse.java\n",
      "+4   \t-15   \tsrc/main/java/org/elasticsearch/action/delete/index/TransportIndexDeleteAction.java\n",
      "+2   \t-17   \tsrc/main/java/org/elasticsearch/action/deletebyquery/TransportIndexDeleteByQueryAction.java\n",
      "+56   \t-8   \tsrc/main/java/org/elasticsearch/action/support/replication/TransportIndexReplicationOperationAction.java\n",
      "+13   \t-5   \tsrc/test/java/org/elasticsearch/deleteByQuery/DeleteByQueryTests.java\n",
      "\n",
      "hash: e751d048c6619f17c96723b6b44d2eed056abf85\n",
      "msg: Minor cleanups.\n",
      "+9   \t-7   \tTESTING.asciidoc\n",
      "\n",
      "hash: c56ac5158fa925eb25ee8c12d1de217b643835e8\n",
      "msg: Class name typo.\n",
      "+1   \t-1   \tsrc/test/java/org/elasticsearch/node/internal/InternalSettingsPreparerTests.java\n",
      "\n",
      "hash: 1d34626db4a28e8605ef54b8e32ecb47553bc1ae\n",
      "msg: Add failures reason to delete by query response\n",
      "\n",
      "Closes #5093\n",
      "+35   \t-5   \tsrc/main/java/org/elasticsearch/rest/action/deletebyquery/RestDeleteByQueryAction.java\n",
      "\n",
      "hash: f343807f60e83e39e52dc860016b7b1c0ef34663\n",
      "msg: Expose delete by query shard failures follow-up\n",
      "\n",
      "- Removed if conditions on index name and shard_id\n",
      "- Added REST test\n",
      "+21   \t-0   \trest-api-spec/test/delete_by_query/10_basic.yaml\n",
      "+2   \t-6   \tsrc/main/java/org/elasticsearch/rest/action/deletebyquery/RestDeleteByQueryAction.java\n",
      "\n",
      "hash: 20594357e9ee65f31375145e4bd18d3c5f2dffbd\n",
      "msg: [TEST] removed REST test that checks for delete by query shard failures\n",
      "\n",
      "The clients return an exception in case of failure and not the whole json response containing failures, thus this tests can only work with the Java REST tests runner\n",
      "+0   \t-20   \trest-api-spec/test/delete_by_query/10_basic.yaml\n",
      "\n",
      "hash: 500e37e4a0d7f7f2a506ee90b95ab187021c7397\n",
      "msg: [DOCS]: fixed small problem in example json\n",
      "+1   \t-1   \tdocs/reference/query-dsl/queries/multi-match-query.asciidoc\n",
      "\n",
      "hash: a40f504b97222768bd0c462b9234bcdbfe723fa0\n",
      "msg: refactor SimpleQueryParser settings into separate class, add \"lenient\" option\n",
      "\n",
      "Fixes #5011\n",
      "+83   \t-11   \tsrc/main/java/org/elasticsearch/index/query/SimpleQueryParser.java\n",
      "+10   \t-0   \tsrc/main/java/org/elasticsearch/index/query/SimpleQueryStringBuilder.java\n",
      "+7   \t-5   \tsrc/main/java/org/elasticsearch/index/query/SimpleQueryStringParser.java\n",
      "+19   \t-0   \tsrc/test/java/org/elasticsearch/search/query/SimpleQueryTests.java\n",
      "\n",
      "hash: e0684a112f0266bc57a815cb2494b6bc33b3e70d\n",
      "msg: Migrated p/c queries from id cache to field data. Changed p/c queries to use paging data structures (BytesRefHash, BigFloatArray, BigIntArray) instead of hppc maps / sets.\n",
      "Also removed the id cache.\n",
      "\n",
      "Closes #4930\n",
      "+2   \t-1   \tsrc/main/java/org/elasticsearch/action/admin/indices/cache/clear/TransportClearIndicesCacheAction.java\n",
      "+21   \t-0   \tsrc/main/java/org/elasticsearch/cache/recycler/PageCacheRecycler.java\n",
      "+9   \t-0   \tsrc/main/java/org/elasticsearch/common/util/AbstractBigArray.java\n",
      "+82   \t-0   \tsrc/main/java/org/elasticsearch/common/util/BigArrays.java\n",
      "+109   \t-0   \tsrc/main/java/org/elasticsearch/common/util/BigFloatArray.java\n",
      "+12   \t-15   \tsrc/main/java/org/elasticsearch/common/util/FloatArray.java\n",
      "+1   \t-12   \tsrc/main/java/org/elasticsearch/index/cache/IndexCache.java\n",
      "+0   \t-2   \tsrc/main/java/org/elasticsearch/index/cache/IndexCacheModule.java\n",
      "+0   \t-46   \tdel src/main/java/org/elasticsearch/index/cache/id/IdCache.java\n",
      "+0   \t-47   \tdel src/main/java/org/elasticsearch/index/cache/id/IdCacheModule.java\n",
      "+3   \t-0   \tsrc/main/java/org/elasticsearch/index/cache/id/IdCacheStats.java\n",
      "+0   \t-35   \tdel src/main/java/org/elasticsearch/index/cache/id/IdReaderCache.java\n",
      "+0   \t-51   \tdel src/main/java/org/elasticsearch/index/cache/id/ShardIdCache.java\n",
      "+0   \t-32   \tdel src/main/java/org/elasticsearch/index/cache/id/ShardIdCacheModule.java\n",
      "+0   \t-353   \tdel src/main/java/org/elasticsearch/index/cache/id/simple/SimpleIdCache.java\n",
      "+0   \t-86   \tdel src/main/java/org/elasticsearch/index/cache/id/simple/SimpleIdReaderCache.java\n",
      "+0   \t-120   \tdel src/main/java/org/elasticsearch/index/cache/id/simple/SimpleIdReaderTypeCache.java\n",
      "+2   \t-1   \tsrc/main/java/org/elasticsearch/index/fielddata/IndexFieldData.java\n",
      "+4   \t-1   \tsrc/main/java/org/elasticsearch/index/fielddata/IndexFieldDataService.java\n",
      "+9   \t-3   \tsrc/main/java/org/elasticsearch/index/fielddata/ShardFieldData.java\n",
      "+2   \t-1   \tsrc/main/java/org/elasticsearch/index/fielddata/plain/DisabledIndexFieldData.java\n",
      "+2   \t-1   \tsrc/main/java/org/elasticsearch/index/fielddata/plain/DocValuesIndexFieldData.java\n",
      "+2   \t-1   \tsrc/main/java/org/elasticsearch/index/fielddata/plain/DoubleArrayIndexFieldData.java\n",
      "+2   \t-1   \tsrc/main/java/org/elasticsearch/index/fielddata/plain/FSTBytesIndexFieldData.java\n",
      "+2   \t-1   \tsrc/main/java/org/elasticsearch/index/fielddata/plain/FloatArrayIndexFieldData.java\n",
      "+2   \t-1   \tsrc/main/java/org/elasticsearch/index/fielddata/plain/GeoPointBinaryDVIndexFieldData.java\n",
      "+2   \t-1   \tsrc/main/java/org/elasticsearch/index/fielddata/plain/GeoPointCompressedIndexFieldData.java\n",
      "+2   \t-1   \tsrc/main/java/org/elasticsearch/index/fielddata/plain/GeoPointDoubleArrayIndexFieldData.java\n",
      "+2   \t-1   \tsrc/main/java/org/elasticsearch/index/fielddata/plain/PackedArrayIndexFieldData.java\n",
      "+2   \t-1   \tsrc/main/java/org/elasticsearch/index/fielddata/plain/PagedBytesIndexFieldData.java\n",
      "+148   \t-0   \tsrc/main/java/org/elasticsearch/index/fielddata/plain/ParentChildAtomicFieldData.java\n",
      "+84   \t-0   \tsrc/main/java/org/elasticsearch/index/fielddata/plain/ParentChildFilteredTermsEnum.java\n",
      "+197   \t-0   \tsrc/main/java/org/elasticsearch/index/fielddata/plain/ParentChildIndexFieldData.java\n",
      "+327   \t-0   \tsrc/main/java/org/elasticsearch/index/fielddata/plain/ParentChildIntersectTermsEnum.java\n",
      "+6   \t-31   \tsrc/main/java/org/elasticsearch/index/mapper/Uid.java\n",
      "+2   \t-1   \tsrc/main/java/org/elasticsearch/index/mapper/internal/ParentFieldMapper.java\n",
      "+7   \t-3   \tsrc/main/java/org/elasticsearch/index/query/HasChildFilterParser.java\n",
      "+12   \t-4   \tsrc/main/java/org/elasticsearch/index/query/HasChildQueryParser.java\n",
      "+7   \t-1   \tsrc/main/java/org/elasticsearch/index/query/HasParentFilterParser.java\n",
      "+8   \t-2   \tsrc/main/java/org/elasticsearch/index/query/HasParentQueryParser.java\n",
      "+13   \t-2   \tsrc/main/java/org/elasticsearch/index/query/TopChildrenQueryParser.java\n",
      "+73   \t-36   \tsrc/main/java/org/elasticsearch/index/search/child/ChildrenConstantScoreQuery.java\n",
      "+211   \t-105   \tsrc/main/java/org/elasticsearch/index/search/child/ChildrenQuery.java\n",
      "+74   \t-35   \tsrc/main/java/org/elasticsearch/index/search/child/ParentConstantScoreQuery.java\n",
      "+0   \t-59   \tdel src/main/java/org/elasticsearch/index/search/child/ParentIdCollector.java\n",
      "+8   \t-15   \tsrc/main/java/org/elasticsearch/index/search/child/ParentIdsFilter.java\n",
      "+117   \t-52   \tsrc/main/java/org/elasticsearch/index/search/child/ParentQuery.java\n",
      "+39   \t-9   \tsrc/main/java/org/elasticsearch/index/search/child/TopChildrenQuery.java\n",
      "+0   \t-3   \tsrc/main/java/org/elasticsearch/index/service/InternalIndexService.java\n",
      "+1   \t-4   \tsrc/main/java/org/elasticsearch/index/shard/service/IndexShard.java\n",
      "+5   \t-12   \tsrc/main/java/org/elasticsearch/index/shard/service/InternalIndexShard.java\n",
      "+0   \t-6   \tsrc/main/java/org/elasticsearch/percolator/PercolateContext.java\n",
      "+8   \t-36   \tsrc/main/java/org/elasticsearch/search/SearchService.java\n",
      "+0   \t-5   \tsrc/main/java/org/elasticsearch/search/internal/DefaultSearchContext.java\n",
      "+0   \t-3   \tsrc/main/java/org/elasticsearch/search/internal/SearchContext.java\n",
      "+0   \t-410   \tdel src/test/java/org/elasticsearch/index/cache/id/SimpleIdCacheTests.java\n",
      "+7   \t-3   \tsrc/test/java/org/elasticsearch/index/fielddata/AbstractFieldDataTests.java\n",
      "+8   \t-3   \tsrc/test/java/org/elasticsearch/index/fielddata/IndexFieldDataServiceTests.java\n",
      "+172   \t-0   \tsrc/test/java/org/elasticsearch/index/fielddata/ParentChildFieldDataTests.java\n",
      "+125   \t-0   \tsrc/test/java/org/elasticsearch/index/fielddata/plain/ParentChildFilteredTermsEnumTests.java\n",
      "+5   \t-7   \tsrc/test/java/org/elasticsearch/index/mapper/UidTests.java\n",
      "+5   \t-0   \tsrc/test/java/org/elasticsearch/index/query/IndexQueryParserFilterCachingTests.java\n",
      "+5   \t-0   \tsrc/test/java/org/elasticsearch/index/query/SimpleIndexQueryParserTests.java\n",
      "+5   \t-3   \tsrc/test/java/org/elasticsearch/index/search/FieldDataTermsFilterTests.java\n",
      "+15   \t-10   \tsrc/test/java/org/elasticsearch/index/search/child/ChildrenConstantScoreQueryTests.java\n",
      "+5   \t-1   \tsrc/test/java/org/elasticsearch/index/search/child/ChildrenQueryTests.java\n",
      "+5   \t-2   \tsrc/test/java/org/elasticsearch/index/search/child/ParentConstantScoreQueryTests.java\n",
      "+4   \t-1   \tsrc/test/java/org/elasticsearch/index/search/child/ParentQueryTests.java\n",
      "+5   \t-11   \tsrc/test/java/org/elasticsearch/index/search/child/TestSearchContext.java\n",
      "+25   \t-10   \tsrc/test/java/org/elasticsearch/search/child/SimpleChildQuerySearchTests.java\n",
      "+172   \t-0   \tsrc/test/java/org/elasticsearch/test/index/service/StubIndexService.java\n",
      "\n",
      "hash: 00c4facbf5257e3f9a04d681f4b0156c6952e39e\n",
      "msg: Added missing licence header.\n",
      "+19   \t-0   \tsrc/test/java/org/elasticsearch/index/fielddata/ParentChildFieldDataTests.java\n",
      "\n",
      "hash: 455fdedc905be2ce220e42397979c65558fa095a\n",
      "msg: Moved AbstractHash, BytesRefHash and LongHash to o.e.common.util\n",
      "+1   \t-3   \tsrc/main/java/org/elasticsearch/common/util/AbstractHash.java\n",
      "+1   \t-2   \tsrc/main/java/org/elasticsearch/common/util/BytesRefHash.java\n",
      "+1   \t-3   \tsrc/main/java/org/elasticsearch/common/util/LongHash.java\n",
      "+1   \t-1   \tsrc/main/java/org/elasticsearch/index/search/child/ChildrenConstantScoreQuery.java\n",
      "+1   \t-1   \tsrc/main/java/org/elasticsearch/index/search/child/ChildrenQuery.java\n",
      "+1   \t-1   \tsrc/main/java/org/elasticsearch/index/search/child/ParentConstantScoreQuery.java\n",
      "+1   \t-1   \tsrc/main/java/org/elasticsearch/index/search/child/ParentIdsFilter.java\n",
      "+1   \t-1   \tsrc/main/java/org/elasticsearch/index/search/child/ParentQuery.java\n",
      "+1   \t-1   \tsrc/main/java/org/elasticsearch/search/aggregations/bucket/geogrid/GeoHashGridAggregator.java\n",
      "+1   \t-1   \tsrc/main/java/org/elasticsearch/search/aggregations/bucket/histogram/HistogramAggregator.java\n",
      "+1   \t-1   \tsrc/main/java/org/elasticsearch/search/aggregations/bucket/terms/DoubleTermsAggregator.java\n",
      "+1   \t-1   \tsrc/main/java/org/elasticsearch/search/aggregations/bucket/terms/LongTermsAggregator.java\n",
      "+1   \t-1   \tsrc/main/java/org/elasticsearch/search/aggregations/bucket/terms/StringTermsAggregator.java\n",
      "+1   \t-2   \tsrc/test/java/org/elasticsearch/common/util/BytesRefHashTests.java\n",
      "+2   \t-1   \tsrc/test/java/org/elasticsearch/common/util/LongHashTests.java\n",
      "\n",
      "hash: 8d7d3e1d6f07e6f2c7c12d9250753393a49c4e34\n",
      "msg: [DOCS] Updated memory considerations for p/c queries and filters.\n",
      "+3   \t-3   \tdocs/reference/query-dsl/filters/has-child-filter.asciidoc\n",
      "+3   \t-3   \tdocs/reference/query-dsl/filters/has-parent-filter.asciidoc\n",
      "+3   \t-3   \tdocs/reference/query-dsl/queries/has-child-query.asciidoc\n",
      "+3   \t-3   \tdocs/reference/query-dsl/queries/has-parent-query.asciidoc\n",
      "+3   \t-3   \tdocs/reference/query-dsl/queries/top-children-query.asciidoc\n",
      "\n",
      "hash: 77f37a9123cfde448bb9a4c19472182c844589cf\n",
      "msg: Upgrade to Lucene 4.7\n",
      "\n",
      "Closes #5104\n",
      "Closes #5129\n",
      "Closes #3757\n",
      "+1   \t-7   \tpom.xml\n",
      "+0   \t-2096   \tdel src/main/java/org/apache/lucene/analysis/miscellaneous/XASCIIFoldingFilter.java\n",
      "+0   \t-627   \tdel src/main/java/org/apache/lucene/queryparser/XSimpleQueryParser.java\n",
      "+0   \t-326   \tdel src/main/java/org/apache/lucene/search/XReferenceManager.java\n",
      "+0   \t-177   \tdel src/main/java/org/apache/lucene/search/XSearcherManager.java\n",
      "+35   \t-3   \tsrc/main/java/org/apache/lucene/search/suggest/analyzing/XAnalyzingSuggester.java\n",
      "+1   \t-1   \tsrc/main/java/org/elasticsearch/Version.java\n",
      "+4   \t-1   \tsrc/main/java/org/elasticsearch/common/lucene/Lucene.java\n",
      "+4   \t-13   \tsrc/main/java/org/elasticsearch/env/NodeEnvironment.java\n",
      "+2   \t-2   \tsrc/main/java/org/elasticsearch/index/analysis/ASCIIFoldingTokenFilterFactory.java\n",
      "+3   \t-3   \tsrc/main/java/org/elasticsearch/index/analysis/ShingleTokenFilterFactory.java\n",
      "+1   \t-14   \tsrc/main/java/org/elasticsearch/index/engine/SegmentsStats.java\n",
      "+10   \t-21   \tsrc/main/java/org/elasticsearch/index/engine/internal/InternalEngine.java\n",
      "+20   \t-11   \tsrc/main/java/org/elasticsearch/index/fielddata/fieldcomparator/BytesRefOrdValComparator.java\n",
      "+11   \t-5   \tsrc/main/java/org/elasticsearch/index/fielddata/fieldcomparator/BytesRefValComparator.java\n",
      "+3   \t-3   \tsrc/main/java/org/elasticsearch/index/fielddata/fieldcomparator/DoubleScriptDataComparator.java\n",
      "+2   \t-4   \tsrc/main/java/org/elasticsearch/index/fielddata/fieldcomparator/DoubleValuesComparatorBase.java\n",
      "+3   \t-3   \tsrc/main/java/org/elasticsearch/index/fielddata/fieldcomparator/GeoDistanceComparator.java\n",
      "+2   \t-4   \tsrc/main/java/org/elasticsearch/index/fielddata/fieldcomparator/LongValuesComparatorBase.java\n",
      "+6   \t-0   \tsrc/main/java/org/elasticsearch/index/fielddata/fieldcomparator/NumberComparatorBase.java\n",
      "+10   \t-3   \tsrc/main/java/org/elasticsearch/index/fielddata/fieldcomparator/StringScriptDataComparator.java\n",
      "+1   \t-1   \tsrc/main/java/org/elasticsearch/index/gateway/fs/FsIndexShardGateway.java\n",
      "+1   \t-9   \tsrc/main/java/org/elasticsearch/index/query/SimpleQueryParser.java\n",
      "+11   \t-12   \tsrc/main/java/org/elasticsearch/index/query/SimpleQueryStringFlag.java\n",
      "+0   \t-1   \tsrc/main/java/org/elasticsearch/index/query/SimpleQueryStringParser.java\n",
      "+8   \t-2   \tsrc/main/java/org/elasticsearch/index/search/nested/NestedFieldComparatorSource.java\n",
      "+12   \t-0   \tsrc/test/java/org/elasticsearch/index/analysis/ShingleTokenFilterFactoryTests.java\n",
      "+7   \t-0   \tsrc/test/java/org/elasticsearch/index/analysis/shingle_analysis.json\n",
      "+13   \t-17   \tsrc/test/java/org/elasticsearch/indices/warmer/SimpleIndicesWarmerTests.java\n",
      "+6   \t-3   \tsrc/test/java/org/elasticsearch/test/engine/MockInternalEngine.java\n",
      "\n",
      "hash: 3ab8b2d0ed6e056413d9d35a367c91c556b5bb76\n",
      "msg: Expose `filler_token` via ShingleTokenFilterFactory\n",
      "\n",
      "Lucene 4.7 supports a setter for the `filler_token` that is\n",
      "inserted if there are gaps in the token stream. This change exposes\n",
      "this setting.\n",
      "\n",
      "Closes #4307\n",
      "+4   \t-0   \tdocs/reference/analysis/tokenfilters/shingle-tokenfilter.asciidoc\n",
      "+18   \t-14   \tsrc/main/java/org/elasticsearch/index/analysis/ShingleTokenFilterFactory.java\n",
      "+1   \t-2   \tsrc/test/java/org/elasticsearch/index/analysis/ShingleTokenFilterFactoryTests.java\n",
      "\n",
      "hash: 5dd155510195c8a7df7f72ed48ea5ee4c7c5049f\n",
      "msg: Improve `arc` geo-distance accuracy.\n",
      "\n",
      "Close #5192\n",
      "+6   \t-4   \tsrc/main/java/org/elasticsearch/common/geo/GeoDistance.java\n",
      "+9   \t-0   \tsrc/main/java/org/elasticsearch/common/geo/GeoUtils.java\n",
      "+0   \t-6   \tsrc/test/java/org/apache/lucene/util/SloppyMathTests.java\n",
      "\n",
      "hash: 2bc894034805e0df5c3d6868fbe884c65989ad4f\n",
      "msg: Moved es download master url from JDK7 to JDK6\n",
      "+6   \t-0   \tdev-tools/client_tests_urls.prop\n"
     ]
    }
   ],
   "source": [
    "date_overview(analysed_dates[1])"
   ],
   "metadata": {
    "collapsed": false
   }
  },
  {
   "cell_type": "markdown",
   "source": [
    "The second code churn outlier on 2014-02-26 also contains a huge amount of changes, which are non-trivial. So it is indeed a problematic outlier."
   ],
   "metadata": {
    "collapsed": false
   }
  },
  {
   "cell_type": "code",
   "execution_count": 197,
   "outputs": [],
   "source": [],
   "metadata": {
    "collapsed": false
   }
  }
 ],
 "metadata": {
  "kernelspec": {
   "display_name": "Python3",
   "language": "python",
   "name": "python3"
  },
  "language_info": {
   "codemirror_mode": {
    "name": "ipython",
    "version": 3
   },
   "file_extension": ".py",
   "mimetype": "text/x-python",
   "name": "python",
   "nbconvert_exporter": "python",
   "pygments_lexer": "ipython3",
   "version": "3.9.13"
  }
 },
 "nbformat": 4,
 "nbformat_minor": 5
}
